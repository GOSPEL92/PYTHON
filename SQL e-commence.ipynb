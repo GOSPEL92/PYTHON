{
 "cells": [
  {
   "cell_type": "markdown",
   "id": "17793011-966b-43bd-86be-71d87746d4b8",
   "metadata": {},
   "source": [
    "## 📊 Data Cleaning Summary: `'Quantity'` Column\n",
    "\n",
    "This notebook validates and cleans the `'Quantity'` column in the e-commerce dataset. Key findings:\n",
    "\n",
    "- ✅ **Row Integrity Maintained**: No rows were dropped during cleaning  \n",
    "  - Original row count: **63,528**  \n",
    "  - Cleaned row count: **63,528**\n",
    "\n",
    "- 🔍 **Validation Techniques Used**:\n",
    "  - Regex match to ensure all values are digits\n",
    "  - `pandas.to_numeric()` with `errors='coerce'` to catch invalid entries\n",
    "  - Manual inspection for non-digit characters\n",
    "\n",
    "- 🧼 **Result**:\n",
    "  - No invalid or non-numeric entries found\n",
    "  - `'Quantity'` successfully converted to integer type\n",
    "\n",
    "This ensures the dataset is clean and ready for reliable analysis, reporting, and modeling.\n"
   ]
  },
  {
   "cell_type": "markdown",
   "id": "7f72f69c-bf30-495f-a33b-4ac98970ba92",
   "metadata": {},
   "source": [
    "Presentation\n",
    "“This notebook focuses on validating and cleaning the 'Quantity' column in our e-commerce dataset. We started with 63,528 rows, and after applying regex filters and numeric coercion checks, we confirmed that no rows were dropped and no invalid entries were found. The 'Quantity' column is now fully numeric and converted to integer type—ready for analysis, reporting, or modeling. This ensures our data integrity is intact and sets a solid foundation for any downstream insights.”"
   ]
  },
  {
   "cell_type": "code",
   "execution_count": 1,
   "id": "20dd796d-3480-4662-bd3f-0d198f89d485",
   "metadata": {},
   "outputs": [
    {
     "name": "stdout",
     "output_type": "stream",
     "text": [
      "Requirement already satisfied: sqlalchemy in c:\\users\\hp\\anaconda3\\lib\\site-packages (2.0.23)\n",
      "Requirement already satisfied: pyodbc in c:\\users\\hp\\anaconda3\\lib\\site-packages (5.2.0)\n",
      "Requirement already satisfied: pandas in c:\\users\\hp\\anaconda3\\lib\\site-packages (2.2.0)\n",
      "Requirement already satisfied: typing-extensions>=4.2.0 in c:\\users\\hp\\anaconda3\\lib\\site-packages (from sqlalchemy) (4.14.1)\n",
      "Requirement already satisfied: greenlet!=0.4.17 in c:\\users\\hp\\anaconda3\\lib\\site-packages (from sqlalchemy) (3.0.3)\n",
      "Note: you may need to restart the kernel to use updated packages.\n"
     ]
    }
   ],
   "source": [
    "pip install sqlalchemy pyodbc pandas\n"
   ]
  },
  {
   "cell_type": "code",
   "execution_count": 2,
   "id": "3d090198-1802-45c5-ab9e-ffe0889a2151",
   "metadata": {},
   "outputs": [
    {
     "name": "stdout",
     "output_type": "stream",
     "text": [
      "['SQL Server', 'ODBC Driver 17 for SQL Server', 'SQL Server Native Client RDA 11.0', 'Microsoft Access Driver (*.mdb, *.accdb)', 'Microsoft Excel Driver (*.xls, *.xlsx, *.xlsm, *.xlsb)', 'Microsoft Access Text Driver (*.txt, *.csv)', 'Microsoft Access dBASE Driver (*.dbf, *.ndx, *.mdx)']\n"
     ]
    }
   ],
   "source": [
    "import pyodbc\n",
    "\n",
    "print(pyodbc.drivers())\n"
   ]
  },
  {
   "cell_type": "code",
   "execution_count": 3,
   "id": "cd6c485d-2d97-46c4-9e76-d4dfa36458f4",
   "metadata": {},
   "outputs": [],
   "source": [
    "import urllib\n",
    "from sqlalchemy import create_engine\n",
    "\n",
    "driver   = \"ODBC Driver 17 for SQL Server\"\n",
    "server   = r\"DESKTOP-HRV6DMT\\SQLEXPRESS\"\n",
    "database = \"e -commence dataset\"\n",
    "username = \"sa\"\n",
    "password = \"12345\"\n",
    "\n",
    "odbc_str = (\n",
    "    f\"DRIVER={{{driver}}};\"\n",
    "    f\"SERVER={server};\"\n",
    "    f\"DATABASE={database};\"\n",
    "    f\"UID={username};\"\n",
    "    f\"PWD={password};\"\n",
    "    \"TrustServerCertificate=yes;\"\n",
    ")\n",
    "\n",
    "conn_str = urllib.parse.quote_plus(odbc_str)\n",
    "engine   = create_engine(f\"mssql+pyodbc:///?odbc_connect={conn_str}\")\n"
   ]
  },
  {
   "cell_type": "code",
   "execution_count": 4,
   "id": "24cfa8e2-7d45-4230-9a38-c8c419421341",
   "metadata": {},
   "outputs": [],
   "source": [
    "from sqlalchemy import text"
   ]
  },
  {
   "cell_type": "code",
   "execution_count": 5,
   "id": "50aa236b-38f2-4c74-bd77-2e5fcadc941d",
   "metadata": {},
   "outputs": [
    {
     "name": "stdout",
     "output_type": "stream",
     "text": [
      "1\n"
     ]
    }
   ],
   "source": [
    "with engine.connect() as conn:\n",
    "    result = conn.execute(text(\"SELECT 1\"))\n",
    "    print(result.scalar())\n"
   ]
  },
  {
   "cell_type": "code",
   "execution_count": 6,
   "id": "196262f8-9c35-483f-af0e-8852954a5706",
   "metadata": {},
   "outputs": [
    {
     "name": "stdout",
     "output_type": "stream",
     "text": [
      "Available tables in dbo: ['e -commence data']\n"
     ]
    }
   ],
   "source": [
    "from sqlalchemy import inspect\n",
    "\n",
    "inspector = inspect(engine)\n",
    "tables    = inspector.get_table_names(schema=\"dbo\")\n",
    "print(\"Available tables in dbo:\", tables)\n"
   ]
  },
  {
   "cell_type": "code",
   "execution_count": 7,
   "id": "d8b6104a-81d6-4a1e-95b9-b2491caa6dad",
   "metadata": {},
   "outputs": [
    {
     "name": "stdout",
     "output_type": "stream",
     "text": [
      "Column 0                  VARCHAR(50) COLLATE \"SQL_Latin1_General_CP1_CI_AS\"\n",
      "Column 1                  VARCHAR(50) COLLATE \"SQL_Latin1_General_CP1_CI_AS\"\n",
      "Column 2                  VARCHAR(50) COLLATE \"SQL_Latin1_General_CP1_CI_AS\"\n",
      "Column 3                  VARCHAR(50) COLLATE \"SQL_Latin1_General_CP1_CI_AS\"\n",
      "Column 4                  VARCHAR(50) COLLATE \"SQL_Latin1_General_CP1_CI_AS\"\n",
      "Column 5                  VARCHAR(50) COLLATE \"SQL_Latin1_General_CP1_CI_AS\"\n",
      "Column 6                  VARCHAR(50) COLLATE \"SQL_Latin1_General_CP1_CI_AS\"\n",
      "Column 7                  VARCHAR(50) COLLATE \"SQL_Latin1_General_CP1_CI_AS\"\n"
     ]
    }
   ],
   "source": [
    "from sqlalchemy import inspect\n",
    "\n",
    "inspector   = inspect(engine)\n",
    "table_name  = 'e -commence data'\n",
    "\n",
    "columns = inspector.get_columns(table_name, schema=\"dbo\")\n",
    "for col in columns:\n",
    "    print(f\"{col['name']:25} {col['type']}\")\n"
   ]
  },
  {
   "cell_type": "code",
   "execution_count": 8,
   "id": "56c03e84-ce56-494a-b3d0-6b45ac7c8762",
   "metadata": {},
   "outputs": [
    {
     "data": {
      "text/html": [
       "<div>\n",
       "<style scoped>\n",
       "    .dataframe tbody tr th:only-of-type {\n",
       "        vertical-align: middle;\n",
       "    }\n",
       "\n",
       "    .dataframe tbody tr th {\n",
       "        vertical-align: top;\n",
       "    }\n",
       "\n",
       "    .dataframe thead th {\n",
       "        text-align: right;\n",
       "    }\n",
       "</style>\n",
       "<table border=\"1\" class=\"dataframe\">\n",
       "  <thead>\n",
       "    <tr style=\"text-align: right;\">\n",
       "      <th></th>\n",
       "      <th>Column 0</th>\n",
       "      <th>Column 1</th>\n",
       "      <th>Column 2</th>\n",
       "      <th>Column 3</th>\n",
       "      <th>Column 4</th>\n",
       "      <th>Column 5</th>\n",
       "      <th>Column 6</th>\n",
       "      <th>Column 7</th>\n",
       "    </tr>\n",
       "  </thead>\n",
       "  <tbody>\n",
       "    <tr>\n",
       "      <th>0</th>\n",
       "      <td>InvoiceNo</td>\n",
       "      <td>StockCode</td>\n",
       "      <td>Description</td>\n",
       "      <td>Quantity</td>\n",
       "      <td>InvoiceDate</td>\n",
       "      <td>UnitPrice</td>\n",
       "      <td>CustomerID</td>\n",
       "      <td>Country</td>\n",
       "    </tr>\n",
       "  </tbody>\n",
       "</table>\n",
       "</div>"
      ],
      "text/plain": [
       "    Column 0   Column 1     Column 2  Column 3     Column 4   Column 5  \\\n",
       "0  InvoiceNo  StockCode  Description  Quantity  InvoiceDate  UnitPrice   \n",
       "\n",
       "     Column 6 Column 7  \n",
       "0  CustomerID  Country  "
      ]
     },
     "execution_count": 8,
     "metadata": {},
     "output_type": "execute_result"
    }
   ],
   "source": [
    "from sqlalchemy import text\n",
    "import pandas as pd\n",
    "\n",
    "# Pull the first row\n",
    "df_header_check = pd.read_sql(\n",
    "    text(\"SELECT TOP 1 * FROM [dbo].[e -commence data]\"),\n",
    "    engine\n",
    ")\n",
    "df_header_check\n"
   ]
  },
  {
   "cell_type": "code",
   "execution_count": 9,
   "id": "3a093403-c797-4bf6-b5bd-fb060b7023d5",
   "metadata": {},
   "outputs": [],
   "source": [
    "df = pd.read_sql(\n",
    "    text(\"SELECT * FROM [dbo].[e -commence data]\"),\n",
    "    engine\n",
    ")\n"
   ]
  },
  {
   "cell_type": "code",
   "execution_count": 10,
   "id": "d6e55aa8-6656-4d2a-801b-c877e7f1ef2f",
   "metadata": {},
   "outputs": [],
   "source": [
    "df.columns = df.iloc[0]    # set headers\n",
    "df = df.drop(df.index[0])  # remove the header row\n",
    "df.reset_index(drop=True, inplace=True)\n"
   ]
  },
  {
   "cell_type": "code",
   "execution_count": 11,
   "id": "c12b51c7-a700-4674-b1b7-03786fd303f6",
   "metadata": {},
   "outputs": [
    {
     "data": {
      "text/html": [
       "<div>\n",
       "<style scoped>\n",
       "    .dataframe tbody tr th:only-of-type {\n",
       "        vertical-align: middle;\n",
       "    }\n",
       "\n",
       "    .dataframe tbody tr th {\n",
       "        vertical-align: top;\n",
       "    }\n",
       "\n",
       "    .dataframe thead th {\n",
       "        text-align: right;\n",
       "    }\n",
       "</style>\n",
       "<table border=\"1\" class=\"dataframe\">\n",
       "  <thead>\n",
       "    <tr style=\"text-align: right;\">\n",
       "      <th></th>\n",
       "      <th>InvoiceNo</th>\n",
       "      <th>StockCode</th>\n",
       "      <th>Description</th>\n",
       "      <th>Quantity</th>\n",
       "      <th>InvoiceDate</th>\n",
       "      <th>UnitPrice</th>\n",
       "      <th>CustomerID</th>\n",
       "      <th>Country</th>\n",
       "    </tr>\n",
       "  </thead>\n",
       "  <tbody>\n",
       "    <tr>\n",
       "      <th>0</th>\n",
       "      <td>536365</td>\n",
       "      <td>85123A</td>\n",
       "      <td>WHITE HANGING HEART T-LIGHT HOLDER</td>\n",
       "      <td>6</td>\n",
       "      <td>12/1/2010 8:26</td>\n",
       "      <td>2.55</td>\n",
       "      <td>17850</td>\n",
       "      <td>United Kingdom</td>\n",
       "    </tr>\n",
       "    <tr>\n",
       "      <th>1</th>\n",
       "      <td>536365</td>\n",
       "      <td>71053</td>\n",
       "      <td>WHITE METAL LANTERN</td>\n",
       "      <td>6</td>\n",
       "      <td>12/1/2010 8:26</td>\n",
       "      <td>3.39</td>\n",
       "      <td>17850</td>\n",
       "      <td>United Kingdom</td>\n",
       "    </tr>\n",
       "    <tr>\n",
       "      <th>2</th>\n",
       "      <td>536365</td>\n",
       "      <td>84406B</td>\n",
       "      <td>CREAM CUPID HEARTS COAT HANGER</td>\n",
       "      <td>8</td>\n",
       "      <td>12/1/2010 8:26</td>\n",
       "      <td>2.75</td>\n",
       "      <td>17850</td>\n",
       "      <td>United Kingdom</td>\n",
       "    </tr>\n",
       "    <tr>\n",
       "      <th>3</th>\n",
       "      <td>536365</td>\n",
       "      <td>84029G</td>\n",
       "      <td>KNITTED UNION FLAG HOT WATER BOTTLE</td>\n",
       "      <td>6</td>\n",
       "      <td>12/1/2010 8:26</td>\n",
       "      <td>3.39</td>\n",
       "      <td>17850</td>\n",
       "      <td>United Kingdom</td>\n",
       "    </tr>\n",
       "    <tr>\n",
       "      <th>4</th>\n",
       "      <td>536365</td>\n",
       "      <td>84029E</td>\n",
       "      <td>RED WOOLLY HOTTIE WHITE HEART.</td>\n",
       "      <td>6</td>\n",
       "      <td>12/1/2010 8:26</td>\n",
       "      <td>3.39</td>\n",
       "      <td>17850</td>\n",
       "      <td>United Kingdom</td>\n",
       "    </tr>\n",
       "  </tbody>\n",
       "</table>\n",
       "</div>"
      ],
      "text/plain": [
       "0 InvoiceNo StockCode                          Description Quantity  \\\n",
       "0    536365    85123A   WHITE HANGING HEART T-LIGHT HOLDER        6   \n",
       "1    536365     71053                  WHITE METAL LANTERN        6   \n",
       "2    536365    84406B       CREAM CUPID HEARTS COAT HANGER        8   \n",
       "3    536365    84029G  KNITTED UNION FLAG HOT WATER BOTTLE        6   \n",
       "4    536365    84029E       RED WOOLLY HOTTIE WHITE HEART.        6   \n",
       "\n",
       "0     InvoiceDate UnitPrice CustomerID         Country  \n",
       "0  12/1/2010 8:26      2.55      17850  United Kingdom  \n",
       "1  12/1/2010 8:26      3.39      17850  United Kingdom  \n",
       "2  12/1/2010 8:26      2.75      17850  United Kingdom  \n",
       "3  12/1/2010 8:26      3.39      17850  United Kingdom  \n",
       "4  12/1/2010 8:26      3.39      17850  United Kingdom  "
      ]
     },
     "execution_count": 11,
     "metadata": {},
     "output_type": "execute_result"
    }
   ],
   "source": [
    "df.head()\n"
   ]
  },
  {
   "cell_type": "code",
   "execution_count": 12,
   "id": "28746872-e56d-4b0b-9f52-f956eae0e03d",
   "metadata": {},
   "outputs": [
    {
     "data": {
      "text/html": [
       "<div>\n",
       "<style scoped>\n",
       "    .dataframe tbody tr th:only-of-type {\n",
       "        vertical-align: middle;\n",
       "    }\n",
       "\n",
       "    .dataframe tbody tr th {\n",
       "        vertical-align: top;\n",
       "    }\n",
       "\n",
       "    .dataframe thead th {\n",
       "        text-align: right;\n",
       "    }\n",
       "</style>\n",
       "<table border=\"1\" class=\"dataframe\">\n",
       "  <thead>\n",
       "    <tr style=\"text-align: right;\">\n",
       "      <th></th>\n",
       "      <th>Column 0</th>\n",
       "      <th>Column 1</th>\n",
       "      <th>Column 2</th>\n",
       "      <th>Column 3</th>\n",
       "      <th>Column 4</th>\n",
       "      <th>Column 5</th>\n",
       "      <th>Column 6</th>\n",
       "      <th>Column 7</th>\n",
       "    </tr>\n",
       "  </thead>\n",
       "  <tbody>\n",
       "    <tr>\n",
       "      <th>0</th>\n",
       "      <td>InvoiceNo</td>\n",
       "      <td>StockCode</td>\n",
       "      <td>Description</td>\n",
       "      <td>Quantity</td>\n",
       "      <td>InvoiceDate</td>\n",
       "      <td>UnitPrice</td>\n",
       "      <td>CustomerID</td>\n",
       "      <td>Country</td>\n",
       "    </tr>\n",
       "    <tr>\n",
       "      <th>1</th>\n",
       "      <td>536365</td>\n",
       "      <td>85123A</td>\n",
       "      <td>WHITE HANGING HEART T-LIGHT HOLDER</td>\n",
       "      <td>6</td>\n",
       "      <td>12/1/2010 8:26</td>\n",
       "      <td>2.55</td>\n",
       "      <td>17850</td>\n",
       "      <td>United Kingdom</td>\n",
       "    </tr>\n",
       "    <tr>\n",
       "      <th>2</th>\n",
       "      <td>536365</td>\n",
       "      <td>71053</td>\n",
       "      <td>WHITE METAL LANTERN</td>\n",
       "      <td>6</td>\n",
       "      <td>12/1/2010 8:26</td>\n",
       "      <td>3.39</td>\n",
       "      <td>17850</td>\n",
       "      <td>United Kingdom</td>\n",
       "    </tr>\n",
       "    <tr>\n",
       "      <th>3</th>\n",
       "      <td>536365</td>\n",
       "      <td>84406B</td>\n",
       "      <td>CREAM CUPID HEARTS COAT HANGER</td>\n",
       "      <td>8</td>\n",
       "      <td>12/1/2010 8:26</td>\n",
       "      <td>2.75</td>\n",
       "      <td>17850</td>\n",
       "      <td>United Kingdom</td>\n",
       "    </tr>\n",
       "    <tr>\n",
       "      <th>4</th>\n",
       "      <td>536365</td>\n",
       "      <td>84029G</td>\n",
       "      <td>KNITTED UNION FLAG HOT WATER BOTTLE</td>\n",
       "      <td>6</td>\n",
       "      <td>12/1/2010 8:26</td>\n",
       "      <td>3.39</td>\n",
       "      <td>17850</td>\n",
       "      <td>United Kingdom</td>\n",
       "    </tr>\n",
       "    <tr>\n",
       "      <th>5</th>\n",
       "      <td>536365</td>\n",
       "      <td>84029E</td>\n",
       "      <td>RED WOOLLY HOTTIE WHITE HEART.</td>\n",
       "      <td>6</td>\n",
       "      <td>12/1/2010 8:26</td>\n",
       "      <td>3.39</td>\n",
       "      <td>17850</td>\n",
       "      <td>United Kingdom</td>\n",
       "    </tr>\n",
       "    <tr>\n",
       "      <th>6</th>\n",
       "      <td>536365</td>\n",
       "      <td>22752</td>\n",
       "      <td>SET 7 BABUSHKA NESTING BOXES</td>\n",
       "      <td>2</td>\n",
       "      <td>12/1/2010 8:26</td>\n",
       "      <td>7.65</td>\n",
       "      <td>17850</td>\n",
       "      <td>United Kingdom</td>\n",
       "    </tr>\n",
       "    <tr>\n",
       "      <th>7</th>\n",
       "      <td>536365</td>\n",
       "      <td>21730</td>\n",
       "      <td>GLASS STAR FROSTED T-LIGHT HOLDER</td>\n",
       "      <td>6</td>\n",
       "      <td>12/1/2010 8:26</td>\n",
       "      <td>4.25</td>\n",
       "      <td>17850</td>\n",
       "      <td>United Kingdom</td>\n",
       "    </tr>\n",
       "    <tr>\n",
       "      <th>8</th>\n",
       "      <td>536366</td>\n",
       "      <td>22633</td>\n",
       "      <td>HAND WARMER UNION JACK</td>\n",
       "      <td>6</td>\n",
       "      <td>12/1/2010 8:28</td>\n",
       "      <td>1.85</td>\n",
       "      <td>17850</td>\n",
       "      <td>United Kingdom</td>\n",
       "    </tr>\n",
       "    <tr>\n",
       "      <th>9</th>\n",
       "      <td>536366</td>\n",
       "      <td>22632</td>\n",
       "      <td>HAND WARMER RED POLKA DOT</td>\n",
       "      <td>6</td>\n",
       "      <td>12/1/2010 8:28</td>\n",
       "      <td>1.85</td>\n",
       "      <td>17850</td>\n",
       "      <td>United Kingdom</td>\n",
       "    </tr>\n",
       "    <tr>\n",
       "      <th>10</th>\n",
       "      <td>536367</td>\n",
       "      <td>84879</td>\n",
       "      <td>ASSORTED COLOUR BIRD ORNAMENT</td>\n",
       "      <td>32</td>\n",
       "      <td>12/1/2010 8:34</td>\n",
       "      <td>1.69</td>\n",
       "      <td>13047</td>\n",
       "      <td>United Kingdom</td>\n",
       "    </tr>\n",
       "    <tr>\n",
       "      <th>11</th>\n",
       "      <td>536367</td>\n",
       "      <td>22745</td>\n",
       "      <td>POPPY'S PLAYHOUSE BEDROOM</td>\n",
       "      <td>6</td>\n",
       "      <td>12/1/2010 8:34</td>\n",
       "      <td>2.1</td>\n",
       "      <td>13047</td>\n",
       "      <td>United Kingdom</td>\n",
       "    </tr>\n",
       "    <tr>\n",
       "      <th>12</th>\n",
       "      <td>536367</td>\n",
       "      <td>22748</td>\n",
       "      <td>POPPY'S PLAYHOUSE KITCHEN</td>\n",
       "      <td>6</td>\n",
       "      <td>12/1/2010 8:34</td>\n",
       "      <td>2.1</td>\n",
       "      <td>13047</td>\n",
       "      <td>United Kingdom</td>\n",
       "    </tr>\n",
       "    <tr>\n",
       "      <th>13</th>\n",
       "      <td>536367</td>\n",
       "      <td>22749</td>\n",
       "      <td>FELTCRAFT PRINCESS CHARLOTTE DOLL</td>\n",
       "      <td>8</td>\n",
       "      <td>12/1/2010 8:34</td>\n",
       "      <td>3.75</td>\n",
       "      <td>13047</td>\n",
       "      <td>United Kingdom</td>\n",
       "    </tr>\n",
       "    <tr>\n",
       "      <th>14</th>\n",
       "      <td>536367</td>\n",
       "      <td>22310</td>\n",
       "      <td>IVORY KNITTED MUG COSY</td>\n",
       "      <td>6</td>\n",
       "      <td>12/1/2010 8:34</td>\n",
       "      <td>1.65</td>\n",
       "      <td>13047</td>\n",
       "      <td>United Kingdom</td>\n",
       "    </tr>\n",
       "    <tr>\n",
       "      <th>15</th>\n",
       "      <td>536367</td>\n",
       "      <td>84969</td>\n",
       "      <td>BOX OF 6 ASSORTED COLOUR TEASPOONS</td>\n",
       "      <td>6</td>\n",
       "      <td>12/1/2010 8:34</td>\n",
       "      <td>4.25</td>\n",
       "      <td>13047</td>\n",
       "      <td>United Kingdom</td>\n",
       "    </tr>\n",
       "    <tr>\n",
       "      <th>16</th>\n",
       "      <td>536367</td>\n",
       "      <td>22623</td>\n",
       "      <td>BOX OF VINTAGE JIGSAW BLOCKS</td>\n",
       "      <td>3</td>\n",
       "      <td>12/1/2010 8:34</td>\n",
       "      <td>4.95</td>\n",
       "      <td>13047</td>\n",
       "      <td>United Kingdom</td>\n",
       "    </tr>\n",
       "    <tr>\n",
       "      <th>17</th>\n",
       "      <td>536367</td>\n",
       "      <td>22622</td>\n",
       "      <td>BOX OF VINTAGE ALPHABET BLOCKS</td>\n",
       "      <td>2</td>\n",
       "      <td>12/1/2010 8:34</td>\n",
       "      <td>9.95</td>\n",
       "      <td>13047</td>\n",
       "      <td>United Kingdom</td>\n",
       "    </tr>\n",
       "    <tr>\n",
       "      <th>18</th>\n",
       "      <td>536367</td>\n",
       "      <td>21754</td>\n",
       "      <td>HOME BUILDING BLOCK WORD</td>\n",
       "      <td>3</td>\n",
       "      <td>12/1/2010 8:34</td>\n",
       "      <td>5.95</td>\n",
       "      <td>13047</td>\n",
       "      <td>United Kingdom</td>\n",
       "    </tr>\n",
       "    <tr>\n",
       "      <th>19</th>\n",
       "      <td>536367</td>\n",
       "      <td>21755</td>\n",
       "      <td>LOVE BUILDING BLOCK WORD</td>\n",
       "      <td>3</td>\n",
       "      <td>12/1/2010 8:34</td>\n",
       "      <td>5.95</td>\n",
       "      <td>13047</td>\n",
       "      <td>United Kingdom</td>\n",
       "    </tr>\n",
       "  </tbody>\n",
       "</table>\n",
       "</div>"
      ],
      "text/plain": [
       "     Column 0   Column 1                             Column 2  Column 3  \\\n",
       "0   InvoiceNo  StockCode                          Description  Quantity   \n",
       "1      536365     85123A   WHITE HANGING HEART T-LIGHT HOLDER         6   \n",
       "2      536365      71053                  WHITE METAL LANTERN         6   \n",
       "3      536365     84406B       CREAM CUPID HEARTS COAT HANGER         8   \n",
       "4      536365     84029G  KNITTED UNION FLAG HOT WATER BOTTLE         6   \n",
       "5      536365     84029E       RED WOOLLY HOTTIE WHITE HEART.         6   \n",
       "6      536365      22752         SET 7 BABUSHKA NESTING BOXES         2   \n",
       "7      536365      21730    GLASS STAR FROSTED T-LIGHT HOLDER         6   \n",
       "8      536366      22633               HAND WARMER UNION JACK         6   \n",
       "9      536366      22632            HAND WARMER RED POLKA DOT         6   \n",
       "10     536367      84879        ASSORTED COLOUR BIRD ORNAMENT        32   \n",
       "11     536367      22745           POPPY'S PLAYHOUSE BEDROOM          6   \n",
       "12     536367      22748            POPPY'S PLAYHOUSE KITCHEN         6   \n",
       "13     536367      22749    FELTCRAFT PRINCESS CHARLOTTE DOLL         8   \n",
       "14     536367      22310              IVORY KNITTED MUG COSY          6   \n",
       "15     536367      84969   BOX OF 6 ASSORTED COLOUR TEASPOONS         6   \n",
       "16     536367      22623        BOX OF VINTAGE JIGSAW BLOCKS          3   \n",
       "17     536367      22622       BOX OF VINTAGE ALPHABET BLOCKS         2   \n",
       "18     536367      21754             HOME BUILDING BLOCK WORD         3   \n",
       "19     536367      21755             LOVE BUILDING BLOCK WORD         3   \n",
       "\n",
       "          Column 4   Column 5    Column 6        Column 7  \n",
       "0      InvoiceDate  UnitPrice  CustomerID         Country  \n",
       "1   12/1/2010 8:26       2.55       17850  United Kingdom  \n",
       "2   12/1/2010 8:26       3.39       17850  United Kingdom  \n",
       "3   12/1/2010 8:26       2.75       17850  United Kingdom  \n",
       "4   12/1/2010 8:26       3.39       17850  United Kingdom  \n",
       "5   12/1/2010 8:26       3.39       17850  United Kingdom  \n",
       "6   12/1/2010 8:26       7.65       17850  United Kingdom  \n",
       "7   12/1/2010 8:26       4.25       17850  United Kingdom  \n",
       "8   12/1/2010 8:28       1.85       17850  United Kingdom  \n",
       "9   12/1/2010 8:28       1.85       17850  United Kingdom  \n",
       "10  12/1/2010 8:34       1.69       13047  United Kingdom  \n",
       "11  12/1/2010 8:34        2.1       13047  United Kingdom  \n",
       "12  12/1/2010 8:34        2.1       13047  United Kingdom  \n",
       "13  12/1/2010 8:34       3.75       13047  United Kingdom  \n",
       "14  12/1/2010 8:34       1.65       13047  United Kingdom  \n",
       "15  12/1/2010 8:34       4.25       13047  United Kingdom  \n",
       "16  12/1/2010 8:34       4.95       13047  United Kingdom  \n",
       "17  12/1/2010 8:34       9.95       13047  United Kingdom  \n",
       "18  12/1/2010 8:34       5.95       13047  United Kingdom  \n",
       "19  12/1/2010 8:34       5.95       13047  United Kingdom  "
      ]
     },
     "execution_count": 12,
     "metadata": {},
     "output_type": "execute_result"
    }
   ],
   "source": [
    "import pandas as pd\n",
    "from sqlalchemy import text\n",
    "\n",
    "query = text(\"\"\"\n",
    "SELECT TOP 20 *\n",
    "FROM [dbo].[e -commence data]\n",
    "\"\"\")\n",
    "\n",
    "df_sample = pd.read_sql(query, engine)\n",
    "df_sample\n"
   ]
  },
  {
   "cell_type": "code",
   "execution_count": 13,
   "id": "0cf94f33-ed3f-45bf-ba30-54c0f3a46166",
   "metadata": {},
   "outputs": [],
   "source": [
    "import pandas as pd\n",
    "from sqlalchemy import text\n",
    "\n",
    "query = text(\"SELECT * FROM [dbo].[e -commence data];\")\n",
    "df_raw = pd.read_sql(query, engine)\n"
   ]
  },
  {
   "cell_type": "code",
   "execution_count": 14,
   "id": "f956c8a4-f761-4752-961c-6d4bd3307ddd",
   "metadata": {},
   "outputs": [],
   "source": [
    "# 1. Use the first row as header\n",
    "df = df_raw.copy()\n",
    "df.columns = df.iloc[0]\n",
    "\n",
    "# 2. Drop the now-redundant header row\n",
    "df = df.drop(index=0).reset_index(drop=True)\n"
   ]
  },
  {
   "cell_type": "code",
   "execution_count": 15,
   "id": "f8d1a744-cd46-4a20-911e-c3c01aaa2dd8",
   "metadata": {},
   "outputs": [
    {
     "name": "stdout",
     "output_type": "stream",
     "text": [
      "Non-numeric Quantity values: ['METAL SIGN\"' '-1' '-12' '-24' ' \"' '-6' ' BREAKFAST IN BED\"'\n",
      " ' CHOCOLATE  SPOTS\"' ' RETRO SPOT\"' '-2' ' PINK\"' ' BAROQUE\"'\n",
      " ' NEW ENGLAND\"' 'CUPCAKE SINGLE HOOK\"' 'COFFEE' ' BIRTHDAY CARD' '-4'\n",
      " '-5' '-7' ' 1 HANGER ' '-3' 'COAL BLACK\"' 'LIGHT PINK\"' 'HOT PINK\"'\n",
      " 'FUNK MONKEY\"' 'B' 'TREES\"' '-10' ' CHOCOLATE SPOTS\"' ' GARAGE DESIGN\"'\n",
      " ' 3 TIER' ' HANGING\"' ' FRONT  DOOR \"' ' BACK DOOR \"' '-9360'\n",
      " ' BILLBOARD FONTS DESIGN\"' '-38' ' SHED\"' '-36' '-192' '-144'\n",
      " 'GREETING CARD' '-48' '-50' ' PINK  SPOTS\"' 'pack/12\"'\n",
      " '5 SUMMER B\\'DRAW LINERS\"' ' MAGIC GARDEN 1.8M\"' '-20' '-22' '-30' '-70'\n",
      " '-130' '-80' '-120' '-40' '-25' '-14' '-15' '-69' '-140' '-320'\n",
      " 'FUNKY MONKEY\"' '-8' ' BLUE\"' 'PINK\"' ' DINER STYLE' '-9' '-11' '-72'\n",
      " '-35' '-21' '-43' ' GOLDFISH\"' '-13' '-33' '-723' '-177' '-19' '-18'\n",
      " '-44' ' STICKY GORDON\"' ' OVERCROWDED POOL.\"' '-77' '-223' '-150' '-32'\n",
      " '-100' '-28' '-145' '-47' '-96' ' WOBBLY RABBIT ' ' WOBBLY CHICKEN'\n",
      " ' TROPICAL BEACH\"' '-16' 'BLUE\"' '-60' '-240' '-300' '-500'\n",
      " ' DOTCOMGIFTSHOP.COM \"' 'SQUARE' '-23' ' TWO SISTERS.\"' '-106' '-54'\n",
      " '-17' '-939' '-201' ' CAROUSEL\"' '-53' '-29' ' thrown away.\"' '-990'\n",
      " '-290' '-45' '-310' '-61' '-41' '-74215' '-64' '-84' '-1400']\n",
      "0     InvoiceNo StockCode                       Description  \\\n",
      "109      536381     82567                   \"AIRLINE LOUNGE   \n",
      "141     C536379         D                          Discount   \n",
      "154     C536383    35004C   SET OF 3 COLOURED  FLYING DUCKS   \n",
      "235     C536391     22556    PLASTERS IN TIN CIRCUS PARADE    \n",
      "236     C536391     21984  PACK OF 12 PINK PAISLEY TISSUES    \n",
      "...         ...       ...                               ...   \n",
      "65345    541695    82613C                       \"METAL SIGN   \n",
      "65355    541695    84251B                    \"GREETING CARD   \n",
      "65356    541695    84251C                    \"GREETING CARD   \n",
      "65357    541695    84251G                    \"GREETING CARD   \n",
      "65522    541696     21111                 \"SWISS ROLL TOWEL   \n",
      "\n",
      "0                  Quantity      InvoiceDate        UnitPrice CustomerID  \\\n",
      "109             METAL SIGN\"                2   12/1/2010 9:41        2.1   \n",
      "141                      -1   12/1/2010 9:41             27.5      14527   \n",
      "154                      -1   12/1/2010 9:49             4.65      15311   \n",
      "235                     -12  12/1/2010 10:24             1.65      17548   \n",
      "236                     -24  12/1/2010 10:24             0.29      17548   \n",
      "...                     ...              ...              ...        ...   \n",
      "65345  CUPCAKE SINGLE HOOK\"                7  1/20/2011 18:01       0.83   \n",
      "65355        STICKY GORDON\"                2  1/20/2011 18:01       0.42   \n",
      "65356         TWO SISTERS.\"                2  1/20/2011 18:01       0.42   \n",
      "65357    OVERCROWDED POOL.\"                1  1/20/2011 18:01       0.42   \n",
      "65522     CHOCOLATE  SPOTS\"                2  1/20/2011 18:08       2.46   \n",
      "\n",
      "0                   Country  \n",
      "109    15311,United Kingdom  \n",
      "141          United Kingdom  \n",
      "154          United Kingdom  \n",
      "235          United Kingdom  \n",
      "236          United Kingdom  \n",
      "...                     ...  \n",
      "65345       ,United Kingdom  \n",
      "65355       ,United Kingdom  \n",
      "65356       ,United Kingdom  \n",
      "65357       ,United Kingdom  \n",
      "65522       ,United Kingdom  \n",
      "\n",
      "[2005 rows x 8 columns]\n"
     ]
    }
   ],
   "source": [
    "# Ensure we’re working with strings\n",
    "qty_strings = df['Quantity'].astype(str)\n",
    "\n",
    "# Detect anything that isn’t just digits\n",
    "mask_bad_qty = ~qty_strings.str.match(r'^\\d+$')\n",
    "bad_qty_values = qty_strings[mask_bad_qty].unique()\n",
    "print(\"Non-numeric Quantity values:\", bad_qty_values)\n",
    "\n",
    "# View those rows\n",
    "print(df.loc[mask_bad_qty])\n"
   ]
  },
  {
   "cell_type": "code",
   "execution_count": 16,
   "id": "2a46ac0f-8190-473d-9ec6-06e9e439c037",
   "metadata": {},
   "outputs": [],
   "source": [
    "df = df.loc[~mask_bad_qty].copy()\n"
   ]
  },
  {
   "cell_type": "code",
   "execution_count": 17,
   "id": "e277b060-00e5-4be7-ba26-0f40cb21acfe",
   "metadata": {},
   "outputs": [],
   "source": [
    "df['Quantity'] = (\n",
    "    df['Quantity']\n",
    "      .astype(str)\n",
    "      .str.extract(r'(\\d+)')[0]    # grab the first continuous group of digits\n",
    "      .astype(int)\n",
    ")\n"
   ]
  },
  {
   "cell_type": "code",
   "execution_count": 18,
   "id": "33390e64-2bec-4c17-8c48-fdee323a6865",
   "metadata": {},
   "outputs": [],
   "source": [
    "df['Quantity'] = df['Quantity'].astype(int)\n",
    "df['CustomerID'] = pd.to_numeric(df['CustomerID'], errors='coerce').astype('Int64')\n"
   ]
  },
  {
   "cell_type": "code",
   "execution_count": 19,
   "id": "3ae71309-e5c1-4a36-ab57-b408a5dea125",
   "metadata": {},
   "outputs": [],
   "source": [
    "df['Quantity'] = pd.to_numeric(df['Quantity'], errors='coerce').astype('Int64')\n"
   ]
  },
  {
   "cell_type": "code",
   "execution_count": 20,
   "id": "c9407b65-ffaf-4914-ad7f-1bdef11e1890",
   "metadata": {},
   "outputs": [
    {
     "name": "stdout",
     "output_type": "stream",
     "text": [
      "0\n",
      "InvoiceNo      object\n",
      "StockCode      object\n",
      "Description    object\n",
      "Quantity        Int64\n",
      "InvoiceDate    object\n",
      "UnitPrice      object\n",
      "CustomerID      Int64\n",
      "Country        object\n",
      "dtype: object\n",
      "0 InvoiceNo StockCode                          Description  Quantity  \\\n",
      "0    536365    85123A   WHITE HANGING HEART T-LIGHT HOLDER         6   \n",
      "1    536365     71053                  WHITE METAL LANTERN         6   \n",
      "2    536365    84406B       CREAM CUPID HEARTS COAT HANGER         8   \n",
      "3    536365    84029G  KNITTED UNION FLAG HOT WATER BOTTLE         6   \n",
      "4    536365    84029E       RED WOOLLY HOTTIE WHITE HEART.         6   \n",
      "\n",
      "0     InvoiceDate UnitPrice  CustomerID         Country  \n",
      "0  12/1/2010 8:26      2.55       17850  United Kingdom  \n",
      "1  12/1/2010 8:26      3.39       17850  United Kingdom  \n",
      "2  12/1/2010 8:26      2.75       17850  United Kingdom  \n",
      "3  12/1/2010 8:26      3.39       17850  United Kingdom  \n",
      "4  12/1/2010 8:26      3.39       17850  United Kingdom  \n"
     ]
    }
   ],
   "source": [
    "print(df.dtypes)\n",
    "print(df.head())\n"
   ]
  },
  {
   "cell_type": "code",
   "execution_count": 21,
   "id": "8af4a246-3568-458f-866d-a548fb7fc382",
   "metadata": {},
   "outputs": [],
   "source": [
    "# Integer fields\n",
    "df['Quantity']    = df['Quantity'].astype(int)\n",
    "df['CustomerID']  = df['CustomerID'].astype('Int64')  # nullable integer\n",
    "\n",
    "# Numeric fields\n",
    "df['UnitPrice']   = df['UnitPrice'].astype(float)\n",
    "\n",
    "# Date/time field\n",
    "df['InvoiceDate'] = pd.to_datetime(\n",
    "    df['InvoiceDate'],\n",
    "    format=\"%m/%d/%Y %H:%M\",\n",
    "    errors=\"coerce\"\n",
    ")\n"
   ]
  },
  {
   "cell_type": "code",
   "execution_count": 22,
   "id": "4621208b-e23c-45c7-aeae-224d7772ee65",
   "metadata": {},
   "outputs": [],
   "source": [
    "# Keep a copy of df before you filter\n",
    "df_raw = df.copy()\n"
   ]
  },
  {
   "cell_type": "code",
   "execution_count": 23,
   "id": "3a8c3882-2b76-465a-9ccd-b2adb4a2c797",
   "metadata": {},
   "outputs": [],
   "source": [
    "import re\n",
    "\n",
    "# Create a boolean mask: True for rows where Quantity is all digits\n",
    "mask_qty = df['Quantity'].astype(str).str.match(r'^\\d+$')\n",
    "\n",
    "# Filter df itself\n",
    "df = df[mask_qty].reset_index(drop=True)\n"
   ]
  },
  {
   "cell_type": "code",
   "execution_count": 24,
   "id": "493ec73e-876d-40e0-b1eb-1ea6ca29f91c",
   "metadata": {},
   "outputs": [
    {
     "name": "stdout",
     "output_type": "stream",
     "text": [
      "Original row count: 63528\n",
      "Cleaned  row count: 63528\n",
      "Rows dropped       : 0\n"
     ]
    }
   ],
   "source": [
    "original_count = len(df_raw)\n",
    "cleaned_count  = len(df)\n",
    "\n",
    "print(f\"Original row count: {original_count}\")\n",
    "print(f\"Cleaned  row count: {cleaned_count}\")\n",
    "print(f\"Rows dropped       : {original_count - cleaned_count}\")\n"
   ]
  },
  {
   "cell_type": "code",
   "execution_count": 25,
   "id": "46898a22-0b1a-43ce-b624-17822a75e602",
   "metadata": {},
   "outputs": [
    {
     "data": {
      "text/plain": [
       "array([], dtype=int32)"
      ]
     },
     "execution_count": 25,
     "metadata": {},
     "output_type": "execute_result"
    }
   ],
   "source": [
    "# 1. Show any Quantity containing non-digit characters\n",
    "mask_bad = df['Quantity'].astype(str).str.contains(r'[^0-9]')\n",
    "df[mask_bad]['Quantity'].unique()\n"
   ]
  },
  {
   "cell_type": "code",
   "execution_count": 26,
   "id": "0aff8265-734b-4153-a168-3718e2a10d28",
   "metadata": {},
   "outputs": [
    {
     "data": {
      "text/plain": [
       "array([], dtype=int32)"
      ]
     },
     "execution_count": 26,
     "metadata": {},
     "output_type": "execute_result"
    }
   ],
   "source": [
    "# 2. Use pandas to_numeric and catch coercion to NaN\n",
    "qty_num = pd.to_numeric(df['Quantity'], errors='coerce')\n",
    "df[qty_num.isna()]['Quantity'].unique()\n"
   ]
  },
  {
   "cell_type": "code",
   "execution_count": 27,
   "id": "da7356e7-e2ee-4396-aa72-8baa1012a69a",
   "metadata": {},
   "outputs": [],
   "source": [
    "df['Quantity'] = df['Quantity'].astype(int)\n"
   ]
  },
  {
   "cell_type": "markdown",
   "id": "f922cddd-f381-47eb-87d5-16cb264d8395",
   "metadata": {},
   "source": [
    "Remove Rows with Missing Critical Fields"
   ]
  },
  {
   "cell_type": "code",
   "execution_count": 28,
   "id": "d5d7c727-588e-469c-aaf1-85ee13899744",
   "metadata": {},
   "outputs": [],
   "source": [
    "# Drop rows missing key fields\n",
    "df = df.dropna(subset=['InvoiceNo', 'StockCode', 'Description', 'Quantity', 'UnitPrice', 'InvoiceDate'])\n"
   ]
  },
  {
   "cell_type": "code",
   "execution_count": 29,
   "id": "786c64c8-c36a-460f-8ab1-c19c9adaa1e8",
   "metadata": {},
   "outputs": [],
   "source": [
    "#Clean Quantity and UnitPrice\n",
    "\n",
    "# Ensure Quantity is a valid integer\n",
    "df = df[df['Quantity'].astype(str).str.match(r'^\\d+$')]\n",
    "df['Quantity'] = df['Quantity'].astype(int)\n",
    "\n",
    "# Ensure UnitPrice is a valid float and positive\n",
    "df['UnitPrice'] = pd.to_numeric(df['UnitPrice'], errors='coerce')\n",
    "df = df[df['UnitPrice'] > 0]\n"
   ]
  },
  {
   "cell_type": "code",
   "execution_count": 30,
   "id": "78532ac6-14f6-467d-8ee4-beba4ce80f6f",
   "metadata": {},
   "outputs": [],
   "source": [
    "#Remove Canceled Transactions\n",
    "#Canceled invoices often start with \"C\" — let's filter those out:\n",
    "\n",
    "df = df[~df['InvoiceNo'].astype(str).str.startswith('C')]\n"
   ]
  },
  {
   "cell_type": "code",
   "execution_count": 31,
   "id": "2014c5be-e9da-4f67-aee0-28dab757facf",
   "metadata": {},
   "outputs": [],
   "source": [
    "#Strip Whitespace and Standardize Text\n",
    "df['Description'] = df['Description'].str.strip().str.title()\n",
    "df['Country'] = df['Country'].str.strip().str.title()\n"
   ]
  },
  {
   "cell_type": "code",
   "execution_count": 32,
   "id": "fe184693-c670-442c-b996-d0663baae877",
   "metadata": {},
   "outputs": [],
   "source": [
    "#Convert InvoiceDate to Datetime\n",
    "df['InvoiceDate'] = pd.to_datetime(df['InvoiceDate'], errors='coerce')\n",
    "df = df.dropna(subset=['InvoiceDate'])\n"
   ]
  },
  {
   "cell_type": "code",
   "execution_count": 33,
   "id": "61d81d3d-a9c3-4122-a310-fbe70b4a7974",
   "metadata": {},
   "outputs": [],
   "source": [
    "#Remove Duplicates\n",
    "df = df.drop_duplicates()\n"
   ]
  },
  {
   "cell_type": "code",
   "execution_count": 34,
   "id": "aac84266-829d-4c0e-97be-d5bf8325bda6",
   "metadata": {},
   "outputs": [
    {
     "name": "stdout",
     "output_type": "stream",
     "text": [
      "Cleaned row count: 62680\n",
      "Missing values:\n",
      " 0\n",
      "InvoiceNo          0\n",
      "StockCode          0\n",
      "Description        0\n",
      "Quantity           0\n",
      "InvoiceDate        0\n",
      "UnitPrice          0\n",
      "CustomerID     24507\n",
      "Country            0\n",
      "dtype: int64\n",
      "Data types:\n",
      " 0\n",
      "InvoiceNo              object\n",
      "StockCode              object\n",
      "Description            object\n",
      "Quantity                int32\n",
      "InvoiceDate    datetime64[ns]\n",
      "UnitPrice             float64\n",
      "CustomerID              Int64\n",
      "Country                object\n",
      "dtype: object\n"
     ]
    }
   ],
   "source": [
    "#Summary Check\n",
    "#After cleaning, you can run this to verify\n",
    "\n",
    "print(\"Cleaned row count:\", len(df))\n",
    "print(\"Missing values:\\n\", df.isnull().sum())\n",
    "print(\"Data types:\\n\", df.dtypes)\n"
   ]
  },
  {
   "cell_type": "code",
   "execution_count": 35,
   "id": "d1130d95-5b14-42b4-921a-f4057514ed11",
   "metadata": {},
   "outputs": [],
   "source": [
    "df = df.drop_duplicates()\n"
   ]
  },
  {
   "cell_type": "code",
   "execution_count": 36,
   "id": "359d7fbd-172c-4582-9a4b-724c50b63d6e",
   "metadata": {},
   "outputs": [
    {
     "name": "stdout",
     "output_type": "stream",
     "text": [
      "Duplicate rows before dropping: 0\n",
      "Duplicate rows after dropping: 0\n"
     ]
    }
   ],
   "source": [
    "# Count duplicates before dropping\n",
    "duplicate_count = df.duplicated().sum()\n",
    "print(f\"Duplicate rows before dropping: {duplicate_count}\")\n",
    "\n",
    "# Drop duplicates\n",
    "df = df.drop_duplicates()\n",
    "\n",
    "# Confirm duplicates are gone\n",
    "post_drop_count = df.duplicated().sum()\n",
    "print(f\"Duplicate rows after dropping: {post_drop_count}\")\n"
   ]
  },
  {
   "cell_type": "code",
   "execution_count": 37,
   "id": "6e634938-db4d-40c2-a443-6a9d34c04b21",
   "metadata": {},
   "outputs": [
    {
     "name": "stdout",
     "output_type": "stream",
     "text": [
      "Rows dropped due to duplicates: 0\n"
     ]
    }
   ],
   "source": [
    "before = len(df)\n",
    "df = df.drop_duplicates()\n",
    "after = len(df)\n",
    "print(f\"Rows dropped due to duplicates: {before - after}\")\n"
   ]
  },
  {
   "cell_type": "code",
   "execution_count": 38,
   "id": "ea04a749-5689-4146-848d-bc01613638e7",
   "metadata": {},
   "outputs": [],
   "source": [
    "df['CustomerID'] = df['CustomerID'].astype('object')\n",
    "df['CustomerID'] = df['CustomerID'].fillna('Guest')\n"
   ]
  },
  {
   "cell_type": "code",
   "execution_count": 39,
   "id": "0ec8068d-8db3-4996-aa7b-c2d0c9558cc9",
   "metadata": {},
   "outputs": [],
   "source": [
    "#Create RFM Metrics (Exclude Guests)\n",
    "\n",
    "import datetime as dt\n",
    "\n",
    "# Snapshot date is one day after the latest invoice\n",
    "snapshot_date = df['InvoiceDate'].max() + dt.timedelta(days=1)\n",
    "\n",
    "# Filter out 'Guest' for customer-level RFM\n",
    "rfm_df = df[df['CustomerID'] != 'Guest'].groupby('CustomerID').agg({\n",
    "    'InvoiceDate': lambda x: (snapshot_date - x.max()).days,  # Recency\n",
    "    'InvoiceNo': 'nunique',                                   # Frequency\n",
    "    'UnitPrice': lambda x: (x * df.loc[x.index, 'Quantity']).sum()  # Monetary\n",
    "})\n",
    "\n",
    "rfm_df.columns = ['Recency', 'Frequency', 'Monetary']\n"
   ]
  },
  {
   "cell_type": "code",
   "execution_count": 40,
   "id": "684a31fb-c895-4f97-80aa-413f9c8c5b6e",
   "metadata": {},
   "outputs": [],
   "source": [
    "#Segment Customers with K-Means\n",
    "from sklearn.preprocessing import StandardScaler\n",
    "from sklearn.cluster import KMeans\n",
    "\n",
    "# Scale the RFM features\n",
    "scaler = StandardScaler()\n",
    "rfm_scaled = scaler.fit_transform(rfm_df)\n",
    "\n",
    "# Apply K-Means clustering\n",
    "kmeans = KMeans(n_clusters=4, random_state=42)\n",
    "rfm_df['Segment'] = kmeans.fit_predict(rfm_scaled)\n"
   ]
  },
  {
   "cell_type": "code",
   "execution_count": 41,
   "id": "2357ab6b-8629-427b-812a-65dc1f2e4663",
   "metadata": {},
   "outputs": [],
   "source": [
    "#Analyze Guest Purchases Separately\n",
    "guest_df = df[df['CustomerID'] == 'Guest']\n",
    "guest_summary = guest_df.groupby('InvoiceNo').agg({\n",
    "    'InvoiceDate': 'max',\n",
    "    'Quantity': 'sum',\n",
    "    'UnitPrice': lambda x: (x * guest_df.loc[x.index, 'Quantity']).sum()\n",
    "})\n"
   ]
  },
  {
   "cell_type": "markdown",
   "id": "a3aaf04e-c526-4615-b49f-09209949d7c6",
   "metadata": {},
   "source": [
    "Clustering by Behavior & Demographics\n",
    "\n",
    "Define Behavioral and Demographic Features\n",
    "\n",
    "Behavioral (RFM):\n",
    "Recency: Days since last purchase\n",
    "\n",
    "Frequency: Number of purchases\n",
    "\n",
    "Monetary: Total spend\n",
    "\n",
    "Demographic (if available):\n",
    "Country\n",
    "\n",
    "CustomerID (used for grouping)\n"
   ]
  },
  {
   "cell_type": "code",
   "execution_count": 42,
   "id": "674ef82b-4b4e-4069-bd08-1d1ddcd7afd4",
   "metadata": {},
   "outputs": [],
   "source": [
    "#Create RFM Table\n",
    "\n",
    "import datetime as dt\n",
    "\n",
    "snapshot_date = df['InvoiceDate'].max() + dt.timedelta(days=1)\n",
    "\n",
    "rfm = df[df['CustomerID'] != 'Guest'].groupby('CustomerID').agg({\n",
    "    'InvoiceDate': lambda x: (snapshot_date - x.max()).days,\n",
    "    'InvoiceNo': 'nunique',\n",
    "    'UnitPrice': lambda x: (x * df.loc[x.index, 'Quantity']).sum(),\n",
    "    'Country': 'first'\n",
    "})\n",
    "\n",
    "rfm.columns = ['Recency', 'Frequency', 'Monetary', 'Country']\n"
   ]
  },
  {
   "cell_type": "code",
   "execution_count": 43,
   "id": "ef77156c-381b-4a3c-a139-2dc0d59d493b",
   "metadata": {},
   "outputs": [],
   "source": [
    "#Encode Demographics\n",
    "from sklearn.preprocessing import StandardScaler, OneHotEncoder\n",
    "from sklearn.compose import ColumnTransformer\n",
    "\n",
    "# One-hot encode Country, scale RFM\n",
    "preprocessor = ColumnTransformer([\n",
    "    ('num', StandardScaler(), ['Recency', 'Frequency', 'Monetary']),\n",
    "    ('cat', OneHotEncoder(), ['Country'])\n",
    "])\n",
    "\n",
    "rfm_prepared = preprocessor.fit_transform(rfm)\n"
   ]
  },
  {
   "cell_type": "code",
   "execution_count": 44,
   "id": "83e45bba-6f23-47b0-b3c2-9e38aaa1ce9f",
   "metadata": {},
   "outputs": [],
   "source": [
    "#Apply Clustering\n",
    "\n",
    "from sklearn.cluster import KMeans\n",
    "\n",
    "kmeans = KMeans(n_clusters=4, random_state=42)\n",
    "rfm['Segment'] = kmeans.fit_predict(rfm_prepared)\n"
   ]
  },
  {
   "cell_type": "code",
   "execution_count": 45,
   "id": "e0285e9d-1d07-4933-a7f4-7bfa5e115eba",
   "metadata": {},
   "outputs": [
    {
     "name": "stdout",
     "output_type": "stream",
     "text": [
      "Index(['InvoiceNo', 'StockCode', 'Description', 'Quantity', 'InvoiceDate',\n",
      "       'UnitPrice', 'CustomerID', 'Country'],\n",
      "      dtype='object', name=0)\n"
     ]
    }
   ],
   "source": [
    "print(df.columns)\n"
   ]
  },
  {
   "cell_type": "code",
   "execution_count": 46,
   "id": "2b026e41-8c89-484c-8788-ef3a6a9120b5",
   "metadata": {},
   "outputs": [],
   "source": [
    "import pandas as pd\n",
    "import datetime as dt\n",
    "\n",
    "snapshot_date = df['InvoiceDate'].max() + dt.timedelta(days=1)\n"
   ]
  },
  {
   "cell_type": "code",
   "execution_count": 47,
   "id": "1ae13328-80f3-4699-85c4-d9e417b2c27c",
   "metadata": {},
   "outputs": [],
   "source": [
    "#Build RFM Table\n",
    "\n",
    "rfm = df[df['CustomerID'].notnull()].groupby('CustomerID').agg({\n",
    "    'InvoiceDate': lambda x: (snapshot_date - x.max()).days,\n",
    "    'InvoiceNo': 'nunique',\n",
    "    'Quantity': 'sum',\n",
    "    'UnitPrice': 'mean',\n",
    "    'Country': 'first'\n",
    "})\n",
    "\n",
    "rfm['Monetary'] = rfm['Quantity'] * rfm['UnitPrice']\n",
    "rfm.rename(columns={\n",
    "    'InvoiceDate': 'Recency',\n",
    "    'InvoiceNo': 'Frequency'\n",
    "}, inplace=True)\n",
    "\n",
    "rfm = rfm[['Recency', 'Frequency', 'Monetary', 'Country']]\n"
   ]
  },
  {
   "cell_type": "code",
   "execution_count": 48,
   "id": "6fb557ab-2ca7-4e80-b825-30f5bc49bcb1",
   "metadata": {},
   "outputs": [],
   "source": [
    "#Preprocess for Clustering\n",
    "from sklearn.preprocessing import StandardScaler, OneHotEncoder\n",
    "from sklearn.compose import ColumnTransformer\n",
    "\n",
    "preprocessor = ColumnTransformer([\n",
    "    ('num', StandardScaler(), ['Recency', 'Frequency', 'Monetary']),\n",
    "    ('cat', OneHotEncoder(), ['Country'])\n",
    "])\n",
    "\n",
    "rfm_prepared = preprocessor.fit_transform(rfm)\n"
   ]
  },
  {
   "cell_type": "code",
   "execution_count": 49,
   "id": "a491fd45-b77f-427c-88cb-16e330d8d8da",
   "metadata": {},
   "outputs": [],
   "source": [
    "#Apply KMeans Clustering\n",
    "from sklearn.cluster import KMeans\n",
    "\n",
    "kmeans = KMeans(n_clusters=4, random_state=42)\n",
    "rfm['Segment'] = kmeans.fit_predict(rfm_prepared)\n"
   ]
  },
  {
   "cell_type": "code",
   "execution_count": 50,
   "id": "3c58eba8-f90e-402a-b3e9-a860fc561dc4",
   "metadata": {},
   "outputs": [
    {
     "data": {
      "text/html": [
       "<div>\n",
       "<style scoped>\n",
       "    .dataframe tbody tr th:only-of-type {\n",
       "        vertical-align: middle;\n",
       "    }\n",
       "\n",
       "    .dataframe tbody tr th {\n",
       "        vertical-align: top;\n",
       "    }\n",
       "\n",
       "    .dataframe thead th {\n",
       "        text-align: right;\n",
       "    }\n",
       "</style>\n",
       "<table border=\"1\" class=\"dataframe\">\n",
       "  <thead>\n",
       "    <tr style=\"text-align: right;\">\n",
       "      <th></th>\n",
       "      <th>Recency</th>\n",
       "      <th>Frequency</th>\n",
       "      <th>Monetary</th>\n",
       "      <th>Country</th>\n",
       "    </tr>\n",
       "    <tr>\n",
       "      <th>Segment</th>\n",
       "      <th></th>\n",
       "      <th></th>\n",
       "      <th></th>\n",
       "      <th></th>\n",
       "    </tr>\n",
       "  </thead>\n",
       "  <tbody>\n",
       "    <tr>\n",
       "      <th>0</th>\n",
       "      <td>8.919753</td>\n",
       "      <td>2.263374</td>\n",
       "      <td>1953.246223</td>\n",
       "      <td>486</td>\n",
       "    </tr>\n",
       "    <tr>\n",
       "      <th>1</th>\n",
       "      <td>1.000000</td>\n",
       "      <td>223.000000</td>\n",
       "      <td>486825.063966</td>\n",
       "      <td>1</td>\n",
       "    </tr>\n",
       "    <tr>\n",
       "      <th>2</th>\n",
       "      <td>38.820000</td>\n",
       "      <td>1.360000</td>\n",
       "      <td>1425.325888</td>\n",
       "      <td>50</td>\n",
       "    </tr>\n",
       "    <tr>\n",
       "      <th>3</th>\n",
       "      <td>41.642857</td>\n",
       "      <td>1.382060</td>\n",
       "      <td>753.607879</td>\n",
       "      <td>602</td>\n",
       "    </tr>\n",
       "  </tbody>\n",
       "</table>\n",
       "</div>"
      ],
      "text/plain": [
       "0          Recency   Frequency       Monetary  Country\n",
       "Segment                                               \n",
       "0         8.919753    2.263374    1953.246223      486\n",
       "1         1.000000  223.000000  486825.063966        1\n",
       "2        38.820000    1.360000    1425.325888       50\n",
       "3        41.642857    1.382060     753.607879      602"
      ]
     },
     "execution_count": 50,
     "metadata": {},
     "output_type": "execute_result"
    }
   ],
   "source": [
    "#Analyze Segments\n",
    "rfm.groupby('Segment').agg({\n",
    "    'Recency': 'mean',\n",
    "    'Frequency': 'mean',\n",
    "    'Monetary': 'mean',\n",
    "    'Country': 'count'\n",
    "})\n"
   ]
  },
  {
   "cell_type": "markdown",
   "id": "5197c914-978a-4cf9-8bd3-efff7a1a6767",
   "metadata": {},
   "source": [
    "Next Steps After Clustering\n",
    "\n",
    "Visualize the Segments\n",
    "Help stakeholders understand the clusters with clear visuals:"
   ]
  },
  {
   "cell_type": "code",
   "execution_count": 51,
   "id": "466e9549-322b-499b-9ffc-e66b41a0316c",
   "metadata": {},
   "outputs": [
    {
     "data": {
      "image/png": "[encoded data removed]",
      "text/plain": [
       "<Figure size 640x480 with 1 Axes>"
      ]
     },
     "metadata": {},
     "output_type": "display_data"
    }
   ],
   "source": [
    "import seaborn as sns\n",
    "import matplotlib.pyplot as plt\n",
    "\n",
    "sns.scatterplot(data=rfm, x='Recency', y='Monetary', hue='Segment', palette='Set2')\n",
    "plt.title('Customer Segments by Recency and Monetary Value')\n",
    "plt.show()\n"
   ]
  },
  {
   "cell_type": "markdown",
   "id": "ddf6fa21-8187-4941-8c40-d4925fd3f72e",
   "metadata": {},
   "source": [
    "\n",
    "Segment\tRecency\tFrequency\tMonetary\tDescription\n",
    "0\t \tLow\t    High\t        High         Loyal high spenders\n",
    "1\t   High\t    Low\t            Low\t         Dormant customers\n",
    "2\t   Medium\tMedium\t        Medium\t     Occasional buyers\n",
    "3\t   Low\t    Low             Low\t         New or low-value"
   ]
  },
  {
   "cell_type": "markdown",
   "id": "2ecf7024-28cc-4730-8a59-e95de3057f2e",
   "metadata": {},
   "source": [
    "Design Targeted Campaigns\n",
    "1. Segment 0: Offer loyalty rewards or VIP perks.\n",
    "2. Segment 1: Send reactivation emails or discounts.\n",
    "3. Segment 2: Promote bundles or upsells.\n",
    "4. Segment 3: Nurture with onboarding and welcome offers."
   ]
  },
  {
   "cell_type": "code",
   "execution_count": 52,
   "id": "cfb09eaa-e48b-4f4f-a779-f89d8b202128",
   "metadata": {},
   "outputs": [],
   "source": [
    "#Export Segments for Action\n",
    "#You can save the segmented data for use in CRM or email tools:\n",
    "rfm.to_csv('customer_segments.csv', index=True)\n"
   ]
  },
  {
   "cell_type": "code",
   "execution_count": 53,
   "id": "90c4fbbf-e24f-4c39-a61f-7bd0c904215d",
   "metadata": {},
   "outputs": [
    {
     "name": "stderr",
     "output_type": "stream",
     "text": [
      "C:\\Users\\HP\\AppData\\Local\\Temp\\ipykernel_13956\\125456442.py:6: FutureWarning: \n",
      "\n",
      "Passing `palette` without assigning `hue` is deprecated and will be removed in v0.14.0. Assign the `x` variable to `hue` and set `legend=False` for the same effect.\n",
      "\n",
      "  sns.countplot(data=rfm, x='Segment', palette='Set2')\n"
     ]
    },
    {
     "data": {
      "image/png": "[encoded data removed]",
      "text/plain": [
       "<Figure size 640x480 with 1 Axes>"
      ]
     },
     "metadata": {},
     "output_type": "display_data"
    }
   ],
   "source": [
    "#Segment Distribution\n",
    "\n",
    "import seaborn as sns\n",
    "import matplotlib.pyplot as plt\n",
    "\n",
    "sns.countplot(data=rfm, x='Segment', palette='Set2')\n",
    "plt.title('Customer Segment Distribution')\n",
    "plt.xlabel('Segment')\n",
    "plt.ylabel('Number of Customers')\n",
    "plt.show()\n"
   ]
  },
  {
   "cell_type": "code",
   "execution_count": 54,
   "id": "68b04df3-b99c-4b4b-a00e-857b7698f563",
   "metadata": {},
   "outputs": [
    {
     "name": "stdout",
     "output_type": "stream",
     "text": [
      "0          Recency   Frequency       Monetary  Customer Count\n",
      "Segment                                                      \n",
      "0         8.919753    2.263374    1953.246223             486\n",
      "1         1.000000  223.000000  486825.063966               1\n",
      "2        38.820000    1.360000    1425.325888              50\n",
      "3        41.642857    1.382060     753.607879             602\n"
     ]
    }
   ],
   "source": [
    "#Segment Profiles\n",
    "segment_profiles = rfm.groupby('Segment').agg({\n",
    "    'Recency': 'mean',\n",
    "    'Frequency': 'mean',\n",
    "    'Monetary': 'mean',\n",
    "    'Country': 'count'\n",
    "}).rename(columns={'Country': 'Customer Count'})\n",
    "\n",
    "print(segment_profiles)\n"
   ]
  },
  {
   "cell_type": "markdown",
   "id": "91943604-3b84-48e0-beb5-c342aa7968b4",
   "metadata": {},
   "source": [
    "\n",
    "Segment\t          Profile\t                          Strategy\n",
    "0\t               High frequency, high spend\t      Loyalty rewards,                          VIP perks\n",
    "1\t               Low recency, low spend\t          Win-back campaigns\n",
    "2\t               Medium frequency, medium spend\t  Upsell or cross-sell\n",
    "3\t               New or low-engagement\t          Welcome offers, onboarding"
   ]
  },
  {
   "cell_type": "markdown",
   "id": "35f40ace-a568-44f3-9323-13d14a1fb322",
   "metadata": {},
   "source": [
    "Email Templates by Segment\n",
    "Segment 0: VIP Customers (High Frequency, High Spend)\n",
    "\n",
    "Subject: You're one of our top customers—let us treat you!\n",
    "\n",
    "Hi [Customer ID],\n",
    "\n",
    "We noticed you've been shopping with us regularly and spending generously—thank you! As one of our VIPs, we're offering you an exclusive 20% discount on your next purchase.\n",
    "\n",
    "Use code: VIP20 at checkout.\n",
    "\n",
    "Stay awesome,  \n",
    "The E-Commence Team\n"
   ]
  },
  {
   "cell_type": "markdown",
   "id": "ad03ba1e-48b5-431d-b312-16eaf310a3f3",
   "metadata": {},
   "source": [
    "Segment 1: Dormant Customers (Low Recency, Low Spend)\n",
    "\n",
    "Subject: We miss you—here's 15% off to come back!\n",
    "\n",
    "Hi [Customer ID],\n",
    "\n",
    "It’s been a while since your last visit, and we’d love to see you again. To make it worth your while, here’s 15% off your next order.\n",
    "\n",
    "Use code: COMEBACK15  \n",
    "Offer valid for the next 7 days.\n",
    "\n",
    "Warm regards,  \n",
    "The E-Commence Team\n"
   ]
  },
  {
   "cell_type": "markdown",
   "id": "11514ce1-71d2-41ae-a862-ccd52ec510d4",
   "metadata": {},
   "source": [
    "Segment 2: Occasional Buyers (Medium Frequency, Medium Spend)\n",
    "\n",
    "Subject: Let’s make your next purchase even better\n",
    "\n",
    "Hi [Customer ID],\n",
    "\n",
    "Thanks for shopping with us! We’d love to help you discover more of what you love. Enjoy 10% off your next order and explore our new arrivals.\n",
    "\n",
    "Use code: EXPLORE10\n",
    "\n",
    "Happy shopping,  \n",
    "The E-Commence Team\n"
   ]
  },
  {
   "cell_type": "markdown",
   "id": "8b50723c-35ed-45c6-8ef2-393581c7b8c0",
   "metadata": {},
   "source": [
    "Segment 3: New or Low-Engagement Customers\n",
    "Subject: Welcome! Here’s 10% off your first order\n",
    "\n",
    "Hi [Customer Name],\n",
    "\n",
    "Welcome to our store! We’re excited to have you. To get you started, here’s 10% off your first purchase.\n",
    "\n",
    "Use code: WELCOME10  \n",
    "Let us know if you need help finding anything!\n",
    "\n",
    "Cheers,  \n",
    "The E-Commence Team\n"
   ]
  },
  {
   "cell_type": "markdown",
   "id": "579af14a-cc1e-49cf-9348-e41aa0b49844",
   "metadata": {},
   "source": [
    "Step-by-Step Email Automation Plan\n",
    "Export Segmented Customer Lists\n",
    "Use your clustering results to create separate DataFrames for each segment:"
   ]
  },
  {
   "cell_type": "markdown",
   "id": "f38aa3f3-b017-45f8-b96e-f9f6585a2e4d",
   "metadata": {},
   "source": [
    "Create Customer Segments with Clustering\n",
    "Assuming you have features like Recency, Frequency, and Monetary (RFM), here's how to apply KMeans:"
   ]
  },
  {
   "cell_type": "code",
   "execution_count": 55,
   "id": "1e306871-6f0b-43f0-ad3b-c81d8a123f82",
   "metadata": {},
   "outputs": [],
   "source": [
    "import pandas as pd\n",
    "from datetime import datetime\n",
    "\n",
    "# Convert InvoiceDate to datetime\n",
    "df['InvoiceDate'] = pd.to_datetime(df['InvoiceDate'])\n",
    "\n",
    "# Set reference date for Recency\n",
    "snapshot_date = df['InvoiceDate'].max() + pd.Timedelta(days=1)\n",
    "\n",
    "# Group by CustomerID\n",
    "rfm_df = df.groupby('CustomerID').agg({\n",
    "    'InvoiceDate': lambda x: (snapshot_date - x.max()).days,  # Recency\n",
    "    'InvoiceNo': 'nunique',                                   # Frequency\n",
    "    'Quantity': lambda x: (x * df.loc[x.index, 'UnitPrice']).sum()  # Monetary\n",
    "})\n",
    "\n",
    "rfm_df.columns = ['Recency', 'Frequency', 'Monetary']\n",
    "rfm_df = rfm_df.reset_index()\n"
   ]
  },
  {
   "cell_type": "code",
   "execution_count": 56,
   "id": "dec9d3f0-232e-42c2-b7b1-ccf7efa93f78",
   "metadata": {},
   "outputs": [],
   "source": [
    "from sklearn.preprocessing import StandardScaler\n",
    "from sklearn.cluster import KMeans\n",
    "\n",
    "# Scale RFM features\n",
    "scaler = StandardScaler()\n",
    "rfm_scaled = scaler.fit_transform(rfm_df[['Recency', 'Frequency', 'Monetary']])\n",
    "\n",
    "# Apply KMeans\n",
    "kmeans = KMeans(n_clusters=4, random_state=42)\n",
    "rfm_df['segment'] = kmeans.fit_predict(rfm_scaled)\n"
   ]
  },
  {
   "cell_type": "code",
   "execution_count": 57,
   "id": "e145d8f2-c85c-47bb-91c5-5f2b334f7d6b",
   "metadata": {},
   "outputs": [],
   "source": [
    "#Merge Segments Back to Main DataFrame\n",
    "df = df.merge(rfm_df[['CustomerID', 'segment']], on='CustomerID', how='left')\n"
   ]
  },
  {
   "cell_type": "code",
   "execution_count": 58,
   "id": "31a1350f-a620-47f6-b471-bb42bbd73fab",
   "metadata": {},
   "outputs": [],
   "source": [
    "df.to_csv('your_segmented_customers.csv', index=False)\n"
   ]
  },
  {
   "cell_type": "code",
   "execution_count": 59,
   "id": "2a93d51d-a684-403c-b1c6-324d7c631262",
   "metadata": {},
   "outputs": [
    {
     "name": "stdout",
     "output_type": "stream",
     "text": [
      "Requirement already satisfied: sendgrid in c:\\users\\hp\\anaconda3\\lib\\site-packages (6.12.4)\n",
      "Requirement already satisfied: python-http-client>=3.2.1 in c:\\users\\hp\\anaconda3\\lib\\site-packages (from sendgrid) (3.3.7)\n",
      "Requirement already satisfied: ecdsa<1,>=0.19.1 in c:\\users\\hp\\anaconda3\\lib\\site-packages (from sendgrid) (0.19.1)\n",
      "Requirement already satisfied: werkzeug>=2.2.0 in c:\\users\\hp\\anaconda3\\lib\\site-packages (from sendgrid) (3.0.1)\n",
      "Requirement already satisfied: six>=1.9.0 in c:\\users\\hp\\anaconda3\\lib\\site-packages (from ecdsa<1,>=0.19.1->sendgrid) (1.17.0)\n",
      "Requirement already satisfied: MarkupSafe>=2.1.1 in c:\\users\\hp\\anaconda3\\lib\\site-packages (from werkzeug>=2.2.0->sendgrid) (2.1.5)\n"
     ]
    }
   ],
   "source": [
    "!pip install sendgrid\n"
   ]
  },
  {
   "cell_type": "code",
   "execution_count": 60,
   "id": "a5f5f27e-86e9-44e7-a2e7-66243cd342a9",
   "metadata": {},
   "outputs": [],
   "source": [
    "from sendgrid import SendGridAPIClient\n",
    "from sendgrid.helpers.mail import Mail\n",
    "\n",
    "def send_segment_email(name, email, segment):\n",
    "    # Customize message based on segment\n",
    "    if segment == 'High-Value':\n",
    "        subject = \"You're one of our top customers!\"\n",
    "        content = f\"Hi {name},\\n\\nWe appreciate your loyalty. Enjoy an exclusive 20% discount on your next purchase!\"\n",
    "    elif segment == 'New':\n",
    "        subject = \"Welcome to our store!\"\n",
    "        content = f\"Hi {name},\\n\\nThanks for joining us! Here's 10% off your first order to get you started.\"\n",
    "    elif segment == 'At-Risk':\n",
    "        subject = \"We miss you!\"\n",
    "        content = f\"Hi {name},\\n\\nIt's been a while. Come back and enjoy 15% off your next order.\"\n",
    "    else:\n",
    "        subject = \"Hello from our team!\"\n",
    "        content = f\"Hi {name},\\n\\nThanks for being part of our community.\"\n",
    "\n",
    "    # Create and send the email\n",
    "    message = Mail(\n",
    "        from_email='your_email@example.com',\n",
    "        to_emails=email,\n",
    "        subject=subject,\n",
    "        plain_text_content=content\n",
    "    )\n",
    "\n",
    "    try:\n",
    "        sg = SendGridAPIClient('YOUR_SENDGRID_API_KEY')\n",
    "        response = sg.send(message)\n",
    "        print(f\"Email sent to {name} ({email}) - Status: {response.status_code}\")\n",
    "    except Exception as e:\n",
    "        print(f\"Error sending email to {email}: {e}\")\n"
   ]
  },
  {
   "cell_type": "code",
   "execution_count": 61,
   "id": "859f0187-e202-4a93-bb8f-624d5f1b6a12",
   "metadata": {},
   "outputs": [
    {
     "name": "stdout",
     "output_type": "stream",
     "text": [
      "Index(['InvoiceNo', 'StockCode', 'Description', 'Quantity', 'InvoiceDate',\n",
      "       'UnitPrice', 'CustomerID', 'Country', 'segment'],\n",
      "      dtype='object')\n"
     ]
    }
   ],
   "source": [
    "print(df.columns)\n"
   ]
  },
  {
   "cell_type": "code",
   "execution_count": 62,
   "id": "467a5a87-ea93-4c6f-8a9f-0d90f7c9c1d3",
   "metadata": {},
   "outputs": [],
   "source": [
    "df['Email'] = df['CustomerID'].apply(lambda cid: f\"customer{cid}@example.com\")\n"
   ]
  },
  {
   "cell_type": "code",
   "execution_count": 63,
   "id": "e2a790d1-d33d-4e14-b1c3-aaf250a63bb0",
   "metadata": {},
   "outputs": [],
   "source": [
    "df.to_csv('your_segmented_customers.csv', index=False)\n"
   ]
  },
  {
   "cell_type": "code",
   "execution_count": 64,
   "id": "95033fdc-8bef-4fc2-8c9d-e32729ea36fa",
   "metadata": {},
   "outputs": [
    {
     "name": "stdout",
     "output_type": "stream",
     "text": [
      "Index(['InvoiceNo', 'StockCode', 'Description', 'Quantity', 'InvoiceDate',\n",
      "       'UnitPrice', 'CustomerID', 'Country', 'segment', 'Email'],\n",
      "      dtype='object')\n"
     ]
    }
   ],
   "source": [
    "print(df.columns)"
   ]
  },
  {
   "cell_type": "markdown",
   "id": "50cd3d4a-3c1c-4678-a812-9fc43214074a",
   "metadata": {},
   "source": [
    "Deep-Dive Segment Analysis\n",
    "Profile each segment by:\n",
    "\n",
    "Average spend (Monetary)\n",
    "\n",
    "Purchase frequency\n",
    "\n",
    "Country distribution\n",
    "\n",
    "Identify which segments drive the most revenue vs. which need nurturing"
   ]
  },
  {
   "cell_type": "code",
   "execution_count": 65,
   "id": "05b11386-c312-4ef8-b431-13d64b37f07c",
   "metadata": {},
   "outputs": [
    {
     "data": {
      "text/html": [
       "<div>\n",
       "<style scoped>\n",
       "    .dataframe tbody tr th:only-of-type {\n",
       "        vertical-align: middle;\n",
       "    }\n",
       "\n",
       "    .dataframe tbody tr th {\n",
       "        vertical-align: top;\n",
       "    }\n",
       "\n",
       "    .dataframe thead th {\n",
       "        text-align: right;\n",
       "    }\n",
       "</style>\n",
       "<table border=\"1\" class=\"dataframe\">\n",
       "  <thead>\n",
       "    <tr style=\"text-align: right;\">\n",
       "      <th></th>\n",
       "      <th>Unique Customers</th>\n",
       "      <th>Total Quantity</th>\n",
       "      <th>Avg Unit Price</th>\n",
       "      <th>Top Country</th>\n",
       "      <th>Estimated Revenue</th>\n",
       "    </tr>\n",
       "    <tr>\n",
       "      <th>segment</th>\n",
       "      <th></th>\n",
       "      <th></th>\n",
       "      <th></th>\n",
       "      <th></th>\n",
       "      <th></th>\n",
       "    </tr>\n",
       "  </thead>\n",
       "  <tbody>\n",
       "    <tr>\n",
       "      <th>0</th>\n",
       "      <td>486</td>\n",
       "      <td>391360</td>\n",
       "      <td>3.162897</td>\n",
       "      <td>United Kingdom</td>\n",
       "      <td>1.237831e+06</td>\n",
       "    </tr>\n",
       "    <tr>\n",
       "      <th>1</th>\n",
       "      <td>1</td>\n",
       "      <td>74826</td>\n",
       "      <td>6.506095</td>\n",
       "      <td>United Kingdom</td>\n",
       "      <td>4.868251e+05</td>\n",
       "    </tr>\n",
       "    <tr>\n",
       "      <th>2</th>\n",
       "      <td>344</td>\n",
       "      <td>77532</td>\n",
       "      <td>3.167451</td>\n",
       "      <td>United Kingdom</td>\n",
       "      <td>2.455788e+05</td>\n",
       "    </tr>\n",
       "    <tr>\n",
       "      <th>3</th>\n",
       "      <td>308</td>\n",
       "      <td>96720</td>\n",
       "      <td>3.081620</td>\n",
       "      <td>United Kingdom</td>\n",
       "      <td>2.980542e+05</td>\n",
       "    </tr>\n",
       "  </tbody>\n",
       "</table>\n",
       "</div>"
      ],
      "text/plain": [
       "         Unique Customers  Total Quantity  Avg Unit Price     Top Country  \\\n",
       "segment                                                                     \n",
       "0                     486          391360        3.162897  United Kingdom   \n",
       "1                       1           74826        6.506095  United Kingdom   \n",
       "2                     344           77532        3.167451  United Kingdom   \n",
       "3                     308           96720        3.081620  United Kingdom   \n",
       "\n",
       "         Estimated Revenue  \n",
       "segment                     \n",
       "0             1.237831e+06  \n",
       "1             4.868251e+05  \n",
       "2             2.455788e+05  \n",
       "3             2.980542e+05  "
      ]
     },
     "execution_count": 65,
     "metadata": {},
     "output_type": "execute_result"
    }
   ],
   "source": [
    "#Segment Summary Table\n",
    "\n",
    "segment_summary = df.groupby('segment').agg({\n",
    "    'CustomerID': 'nunique',\n",
    "    'Quantity': 'sum',\n",
    "    'UnitPrice': 'mean',\n",
    "    'Country': lambda x: x.value_counts().index[0]  # Most common country\n",
    "}).rename(columns={\n",
    "    'CustomerID': 'Unique Customers',\n",
    "    'Quantity': 'Total Quantity',\n",
    "    'UnitPrice': 'Avg Unit Price',\n",
    "    'Country': 'Top Country'\n",
    "})\n",
    "\n",
    "segment_summary['Estimated Revenue'] = segment_summary['Total Quantity'] * segment_summary['Avg Unit Price']\n",
    "segment_summary\n"
   ]
  },
  {
   "cell_type": "code",
   "execution_count": 66,
   "id": "eb150736-91b4-4c7b-8a91-95dbeef061bf",
   "metadata": {},
   "outputs": [
    {
     "data": {
      "image/png": "[encoded data removed]",
      "text/plain": [
       "<Figure size 640x480 with 1 Axes>"
      ]
     },
     "metadata": {},
     "output_type": "display_data"
    }
   ],
   "source": [
    "#Segment Distribution by Country\n",
    "import seaborn as sns\n",
    "import matplotlib.pyplot as plt\n",
    "\n",
    "sns.countplot(data=df, x='Country', hue='segment')\n",
    "plt.xticks(rotation=90)\n",
    "plt.title('Customer Segments by Country')\n",
    "plt.show()\n"
   ]
  },
  {
   "cell_type": "code",
   "execution_count": 67,
   "id": "fadb0caa-e3dd-4edb-b921-f76b8883ce8d",
   "metadata": {},
   "outputs": [
    {
     "data": {
      "text/html": [
       "<div>\n",
       "<style scoped>\n",
       "    .dataframe tbody tr th:only-of-type {\n",
       "        vertical-align: middle;\n",
       "    }\n",
       "\n",
       "    .dataframe tbody tr th {\n",
       "        vertical-align: top;\n",
       "    }\n",
       "\n",
       "    .dataframe thead th {\n",
       "        text-align: right;\n",
       "    }\n",
       "</style>\n",
       "<table border=\"1\" class=\"dataframe\">\n",
       "  <thead>\n",
       "    <tr style=\"text-align: right;\">\n",
       "      <th></th>\n",
       "      <th>segment</th>\n",
       "      <th>Description</th>\n",
       "      <th>Quantity</th>\n",
       "    </tr>\n",
       "  </thead>\n",
       "  <tbody>\n",
       "    <tr>\n",
       "      <th>1182</th>\n",
       "      <td>0</td>\n",
       "      <td>Medium Ceramic Top Storage Jar</td>\n",
       "      <td>74215</td>\n",
       "    </tr>\n",
       "    <tr>\n",
       "      <th>2158</th>\n",
       "      <td>0</td>\n",
       "      <td>White Hanging Heart T-Light Holder</td>\n",
       "      <td>6865</td>\n",
       "    </tr>\n",
       "    <tr>\n",
       "      <th>1358</th>\n",
       "      <td>0</td>\n",
       "      <td>Pack Of 72 Retrospot Cake Cases</td>\n",
       "      <td>4166</td>\n",
       "    </tr>\n",
       "    <tr>\n",
       "      <th>728</th>\n",
       "      <td>0</td>\n",
       "      <td>Fairy Cake Flannel Assorted Colour</td>\n",
       "      <td>3195</td>\n",
       "    </tr>\n",
       "    <tr>\n",
       "      <th>988</th>\n",
       "      <td>0</td>\n",
       "      <td>Heart Of Wicker Small</td>\n",
       "      <td>3037</td>\n",
       "    </tr>\n",
       "    <tr>\n",
       "      <th>2701</th>\n",
       "      <td>1</td>\n",
       "      <td>Charlotte Bag Suki Design</td>\n",
       "      <td>1590</td>\n",
       "    </tr>\n",
       "    <tr>\n",
       "      <th>2408</th>\n",
       "      <td>1</td>\n",
       "      <td>Antique Silver Tea Glass Etched</td>\n",
       "      <td>789</td>\n",
       "    </tr>\n",
       "    <tr>\n",
       "      <th>3651</th>\n",
       "      <td>1</td>\n",
       "      <td>Paper Chain Kit 50'S Christmas</td>\n",
       "      <td>787</td>\n",
       "    </tr>\n",
       "    <tr>\n",
       "      <th>4453</th>\n",
       "      <td>1</td>\n",
       "      <td>White Skull Hot Water Bottle</td>\n",
       "      <td>746</td>\n",
       "    </tr>\n",
       "    <tr>\n",
       "      <th>4225</th>\n",
       "      <td>1</td>\n",
       "      <td>Small Popcorn Holder</td>\n",
       "      <td>716</td>\n",
       "    </tr>\n",
       "    <tr>\n",
       "      <th>6233</th>\n",
       "      <td>2</td>\n",
       "      <td>World War 2 Gliders Asstd Designs</td>\n",
       "      <td>3120</td>\n",
       "    </tr>\n",
       "    <tr>\n",
       "      <th>4974</th>\n",
       "      <td>2</td>\n",
       "      <td>Cream Heart Card Holder</td>\n",
       "      <td>2032</td>\n",
       "    </tr>\n",
       "    <tr>\n",
       "      <th>4713</th>\n",
       "      <td>2</td>\n",
       "      <td>Black Heart Card Holder</td>\n",
       "      <td>2025</td>\n",
       "    </tr>\n",
       "    <tr>\n",
       "      <th>4647</th>\n",
       "      <td>2</td>\n",
       "      <td>Assorted Colour T-Light Holder</td>\n",
       "      <td>1836</td>\n",
       "    </tr>\n",
       "    <tr>\n",
       "      <th>5717</th>\n",
       "      <td>2</td>\n",
       "      <td>Red  Harmonica In Box</td>\n",
       "      <td>1666</td>\n",
       "    </tr>\n",
       "    <tr>\n",
       "      <th>7199</th>\n",
       "      <td>3</td>\n",
       "      <td>Mini Paint Set Vintage</td>\n",
       "      <td>1800</td>\n",
       "    </tr>\n",
       "    <tr>\n",
       "      <th>6371</th>\n",
       "      <td>3</td>\n",
       "      <td>Assorted Laquered Incense Holders</td>\n",
       "      <td>1728</td>\n",
       "    </tr>\n",
       "    <tr>\n",
       "      <th>7271</th>\n",
       "      <td>3</td>\n",
       "      <td>Pack Of 12 London Tissues</td>\n",
       "      <td>1645</td>\n",
       "    </tr>\n",
       "    <tr>\n",
       "      <th>6434</th>\n",
       "      <td>3</td>\n",
       "      <td>Black Record Cover Frame</td>\n",
       "      <td>1560</td>\n",
       "    </tr>\n",
       "    <tr>\n",
       "      <th>7294</th>\n",
       "      <td>3</td>\n",
       "      <td>Pack Of 72 Retrospot Cake Cases</td>\n",
       "      <td>1506</td>\n",
       "    </tr>\n",
       "  </tbody>\n",
       "</table>\n",
       "</div>"
      ],
      "text/plain": [
       "      segment                         Description  Quantity\n",
       "1182        0      Medium Ceramic Top Storage Jar     74215\n",
       "2158        0  White Hanging Heart T-Light Holder      6865\n",
       "1358        0     Pack Of 72 Retrospot Cake Cases      4166\n",
       "728         0  Fairy Cake Flannel Assorted Colour      3195\n",
       "988         0               Heart Of Wicker Small      3037\n",
       "2701        1           Charlotte Bag Suki Design      1590\n",
       "2408        1     Antique Silver Tea Glass Etched       789\n",
       "3651        1      Paper Chain Kit 50'S Christmas       787\n",
       "4453        1        White Skull Hot Water Bottle       746\n",
       "4225        1                Small Popcorn Holder       716\n",
       "6233        2   World War 2 Gliders Asstd Designs      3120\n",
       "4974        2             Cream Heart Card Holder      2032\n",
       "4713        2             Black Heart Card Holder      2025\n",
       "4647        2      Assorted Colour T-Light Holder      1836\n",
       "5717        2               Red  Harmonica In Box      1666\n",
       "7199        3              Mini Paint Set Vintage      1800\n",
       "6371        3   Assorted Laquered Incense Holders      1728\n",
       "7271        3           Pack Of 12 London Tissues      1645\n",
       "6434        3            Black Record Cover Frame      1560\n",
       "7294        3     Pack Of 72 Retrospot Cake Cases      1506"
      ]
     },
     "execution_count": 67,
     "metadata": {},
     "output_type": "execute_result"
    }
   ],
   "source": [
    "#Top Products per Segment\n",
    "top_products = df.groupby(['segment', 'Description']).agg({\n",
    "    'Quantity': 'sum'\n",
    "}).reset_index()\n",
    "\n",
    "top_products = top_products.sort_values(['segment', 'Quantity'], ascending=[True, False])\n",
    "top_products.groupby('segment').head(5)\n"
   ]
  },
  {
   "cell_type": "code",
   "execution_count": 68,
   "id": "d4eea26c-388b-4da1-bd6d-74d15f99c93a",
   "metadata": {},
   "outputs": [
    {
     "data": {
      "image/png": "[encoded data removed]",
      "text/plain": [
       "<Figure size 640x480 with 1 Axes>"
      ]
     },
     "metadata": {},
     "output_type": "display_data"
    }
   ],
   "source": [
    "#Revenue Contribution by Segment\n",
    "df['Revenue'] = df['Quantity'] * df['UnitPrice']\n",
    "revenue_by_segment = df.groupby('segment')['Revenue'].sum().sort_values(ascending=False)\n",
    "revenue_by_segment.plot(kind='bar', title='Revenue by Segment')\n",
    "plt.ylabel('Total Revenue')\n",
    "plt.show()\n"
   ]
  },
  {
   "cell_type": "code",
   "execution_count": 69,
   "id": "2fcef7c8-d41b-4615-abb6-193c3081df66",
   "metadata": {},
   "outputs": [],
   "source": [
    "#Segment Distribution by Country\n",
    "\n",
    "country_segment = df.groupby(['segment', 'Country']).agg({\n",
    "    'CustomerID': pd.Series.nunique\n",
    "}).reset_index().rename(columns={'CustomerID': 'Unique Customers'})\n"
   ]
  },
  {
   "cell_type": "code",
   "execution_count": 70,
   "id": "eae459b4-1b3d-49bd-8caf-9e72efd8df31",
   "metadata": {},
   "outputs": [
    {
     "data": {
      "image/png": "[encoded data removed]",
      "text/plain": [
       "<Figure size 1200x600 with 1 Axes>"
      ]
     },
     "metadata": {},
     "output_type": "display_data"
    }
   ],
   "source": [
    "#Visualize Segment Spread by Country\n",
    "\n",
    "import seaborn as sns\n",
    "import matplotlib.pyplot as plt\n",
    "\n",
    "plt.figure(figsize=(12,6))\n",
    "sns.countplot(data=df, x='Country', hue='segment', palette='Set2')\n",
    "plt.xticks(rotation=90)\n",
    "plt.title('Customer Segments by Country')\n",
    "plt.tight_layout()\n",
    "plt.show()\n"
   ]
  },
  {
   "cell_type": "code",
   "execution_count": 71,
   "id": "06cf34a2-f835-47e7-9e83-80243aefd50b",
   "metadata": {},
   "outputs": [
    {
     "data": {
      "image/png": "[encoded data removed]",
      "text/plain": [
       "<Figure size 640x480 with 2 Axes>"
      ]
     },
     "metadata": {},
     "output_type": "display_data"
    }
   ],
   "source": [
    "#Revenue by Country and Segment\n",
    "df['Revenue'] = df['Quantity'] * df['UnitPrice']\n",
    "revenue_country_segment = df.groupby(['segment', 'Country'])['Revenue'].sum().reset_index()\n",
    "\n",
    "# Optional: Pivot for heatmap\n",
    "pivot = revenue_country_segment.pivot(index='Country', columns='segment', values='Revenue').fillna(0)\n",
    "\n",
    "sns.heatmap(pivot, cmap='YlGnBu', annot=True, fmt='.0f')\n",
    "plt.title('Revenue by Country and Segment')\n",
    "plt.show()\n"
   ]
  },
  {
   "cell_type": "code",
   "execution_count": 72,
   "id": "c1392dbb-baa5-4c33-a83d-d6d64174558d",
   "metadata": {},
   "outputs": [],
   "source": [
    "#Top-Performing Countries by Segment\n",
    "df['Revenue'] = df['Quantity'] * df['UnitPrice']\n"
   ]
  },
  {
   "cell_type": "code",
   "execution_count": 73,
   "id": "e07c6195-1ee8-4ea3-9741-055488b4ef73",
   "metadata": {},
   "outputs": [],
   "source": [
    "segment_country_revenue = df.groupby(['segment', 'Country'])['Revenue'].sum().reset_index()\n"
   ]
  },
  {
   "cell_type": "code",
   "execution_count": 74,
   "id": "eff392b1-a5ae-4385-98a2-0c53b00b0d87",
   "metadata": {},
   "outputs": [],
   "source": [
    "#Identify Top Country per Segment\n",
    "top_countries = segment_country_revenue.loc[\n",
    "    segment_country_revenue.groupby('segment')['Revenue'].idxmax()\n",
    "]\n"
   ]
  },
  {
   "cell_type": "code",
   "execution_count": 75,
   "id": "f81894a2-bac5-4dec-925b-76beecf42d70",
   "metadata": {},
   "outputs": [],
   "source": [
    "df['Revenue'] = df['Quantity'] * df['UnitPrice']\n"
   ]
  },
  {
   "cell_type": "code",
   "execution_count": 76,
   "id": "fbc3357d-937f-4ea7-85de-f2ef2624a424",
   "metadata": {},
   "outputs": [
    {
     "name": "stdout",
     "output_type": "stream",
     "text": [
      "[2 0 3 1]\n"
     ]
    }
   ],
   "source": [
    "print(df['segment'].unique())\n"
   ]
  },
  {
   "cell_type": "code",
   "execution_count": 77,
   "id": "7be04c43-b0ac-4cb2-953d-e3ad405b3da8",
   "metadata": {},
   "outputs": [
    {
     "name": "stdout",
     "output_type": "stream",
     "text": [
      "   segment    Country   Revenue\n",
      "0        0  Australia   8881.73\n",
      "1        0    Belgium   1477.48\n",
      "2        0     Cyprus    530.70\n",
      "3        0       Eire  28291.88\n",
      "4        0     France  17396.94\n",
      "Index(['segment', 'Country', 'Revenue'], dtype='object')\n"
     ]
    }
   ],
   "source": [
    "print(segment_country_revenue.head())\n",
    "print(segment_country_revenue.columns)\n"
   ]
  },
  {
   "cell_type": "code",
   "execution_count": 78,
   "id": "12050820-088e-47cd-86f2-90e09cd88282",
   "metadata": {},
   "outputs": [
    {
     "name": "stdout",
     "output_type": "stream",
     "text": [
      "   segment         Country    Revenue\n",
      "0        0  United Kingdom  534041.38\n",
      "1        1  United Kingdom  333221.99\n",
      "2        2  United Kingdom  138777.74\n",
      "3        3  United Kingdom  141530.63\n"
     ]
    }
   ],
   "source": [
    "# Get index of max revenue per segment\n",
    "top_indices = segment_country_revenue.groupby('segment')['Revenue'].idxmax()\n",
    "\n",
    "# Use those indices to get the top countries\n",
    "top_countries = segment_country_revenue.loc[top_indices].reset_index(drop=True)\n",
    "\n",
    "# Display result\n",
    "print(top_countries)\n"
   ]
  },
  {
   "cell_type": "code",
   "execution_count": 79,
   "id": "607f83c2-0981-444a-8fb9-9bdfbc318b20",
   "metadata": {},
   "outputs": [],
   "source": [
    "df['InvoiceDate'] = pd.to_datetime(df['InvoiceDate'])\n"
   ]
  },
  {
   "cell_type": "code",
   "execution_count": 80,
   "id": "0d881152-04b7-4953-b8ac-66ebc22e4b3a",
   "metadata": {},
   "outputs": [],
   "source": [
    "reference_date = df['InvoiceDate'].max()\n"
   ]
  },
  {
   "cell_type": "code",
   "execution_count": 81,
   "id": "476fe3c1-89f0-4b90-91a6-c11f9a2b9543",
   "metadata": {},
   "outputs": [],
   "source": [
    "#Calculate Recency per Customer\n",
    "recency_df = df.groupby('CustomerID')['InvoiceDate'].max().reset_index()\n",
    "recency_df['Recency'] = (reference_date - recency_df['InvoiceDate']).dt.days\n"
   ]
  },
  {
   "cell_type": "code",
   "execution_count": 82,
   "id": "2d70f1e3-d788-4e3c-9648-a9817045fe39",
   "metadata": {},
   "outputs": [],
   "source": [
    "recency_df = df.groupby('CustomerID')['InvoiceDate'].max().reset_index()\n",
    "recency_df['Recency'] = (reference_date - recency_df['InvoiceDate']).dt.days\n"
   ]
  },
  {
   "cell_type": "code",
   "execution_count": 83,
   "id": "89e5ae40-4f1a-4407-b345-f3efd39bcdd4",
   "metadata": {},
   "outputs": [
    {
     "data": {
      "text/html": [
       "<div>\n",
       "<style scoped>\n",
       "    .dataframe tbody tr th:only-of-type {\n",
       "        vertical-align: middle;\n",
       "    }\n",
       "\n",
       "    .dataframe tbody tr th {\n",
       "        vertical-align: top;\n",
       "    }\n",
       "\n",
       "    .dataframe thead th {\n",
       "        text-align: right;\n",
       "    }\n",
       "</style>\n",
       "<table border=\"1\" class=\"dataframe\">\n",
       "  <thead>\n",
       "    <tr style=\"text-align: right;\">\n",
       "      <th></th>\n",
       "      <th>CustomerID</th>\n",
       "      <th>InvoiceDate</th>\n",
       "      <th>Recency</th>\n",
       "    </tr>\n",
       "  </thead>\n",
       "  <tbody>\n",
       "    <tr>\n",
       "      <th>0</th>\n",
       "      <td>12346</td>\n",
       "      <td>2011-01-18 10:01:00</td>\n",
       "      <td>2</td>\n",
       "    </tr>\n",
       "    <tr>\n",
       "      <th>1</th>\n",
       "      <td>12347</td>\n",
       "      <td>2010-12-07 14:57:00</td>\n",
       "      <td>44</td>\n",
       "    </tr>\n",
       "    <tr>\n",
       "      <th>2</th>\n",
       "      <td>12348</td>\n",
       "      <td>2010-12-16 19:09:00</td>\n",
       "      <td>34</td>\n",
       "    </tr>\n",
       "    <tr>\n",
       "      <th>3</th>\n",
       "      <td>12356</td>\n",
       "      <td>2011-01-18 09:50:00</td>\n",
       "      <td>2</td>\n",
       "    </tr>\n",
       "    <tr>\n",
       "      <th>4</th>\n",
       "      <td>12359</td>\n",
       "      <td>2011-01-12 12:43:00</td>\n",
       "      <td>8</td>\n",
       "    </tr>\n",
       "  </tbody>\n",
       "</table>\n",
       "</div>"
      ],
      "text/plain": [
       "  CustomerID         InvoiceDate  Recency\n",
       "0      12346 2011-01-18 10:01:00        2\n",
       "1      12347 2010-12-07 14:57:00       44\n",
       "2      12348 2010-12-16 19:09:00       34\n",
       "3      12356 2011-01-18 09:50:00        2\n",
       "4      12359 2011-01-12 12:43:00        8"
      ]
     },
     "execution_count": 83,
     "metadata": {},
     "output_type": "execute_result"
    }
   ],
   "source": [
    "recency_df.head()\n"
   ]
  },
  {
   "cell_type": "code",
   "execution_count": 84,
   "id": "7062eac7-16b3-4138-bc9c-53f21cef8989",
   "metadata": {},
   "outputs": [
    {
     "data": {
      "text/plain": [
       "count    1139.000000\n",
       "mean       26.520632\n",
       "std        17.039504\n",
       "min         0.000000\n",
       "25%         9.000000\n",
       "50%        34.000000\n",
       "75%        42.000000\n",
       "max        50.000000\n",
       "Name: Recency, dtype: float64"
      ]
     },
     "execution_count": 84,
     "metadata": {},
     "output_type": "execute_result"
    }
   ],
   "source": [
    "recency_df['Recency'].describe()\n"
   ]
  },
  {
   "cell_type": "code",
   "execution_count": 85,
   "id": "73202358-640f-4bcb-aa3d-89175498ad43",
   "metadata": {},
   "outputs": [],
   "source": [
    "#Frequency: How often a customer purchased\n",
    "frequency_df = df.groupby('CustomerID')['InvoiceNo'].nunique().reset_index()\n",
    "frequency_df.columns = ['CustomerID', 'Frequency']\n"
   ]
  },
  {
   "cell_type": "code",
   "execution_count": 86,
   "id": "85354b63-3de5-43f5-bbb0-2b305a27f2fa",
   "metadata": {},
   "outputs": [
    {
     "data": {
      "text/html": [
       "<div>\n",
       "<style scoped>\n",
       "    .dataframe tbody tr th:only-of-type {\n",
       "        vertical-align: middle;\n",
       "    }\n",
       "\n",
       "    .dataframe tbody tr th {\n",
       "        vertical-align: top;\n",
       "    }\n",
       "\n",
       "    .dataframe thead th {\n",
       "        text-align: right;\n",
       "    }\n",
       "</style>\n",
       "<table border=\"1\" class=\"dataframe\">\n",
       "  <thead>\n",
       "    <tr style=\"text-align: right;\">\n",
       "      <th></th>\n",
       "      <th>CustomerID</th>\n",
       "      <th>Frequency</th>\n",
       "    </tr>\n",
       "  </thead>\n",
       "  <tbody>\n",
       "    <tr>\n",
       "      <th>0</th>\n",
       "      <td>12346</td>\n",
       "      <td>1</td>\n",
       "    </tr>\n",
       "    <tr>\n",
       "      <th>1</th>\n",
       "      <td>12347</td>\n",
       "      <td>1</td>\n",
       "    </tr>\n",
       "    <tr>\n",
       "      <th>2</th>\n",
       "      <td>12348</td>\n",
       "      <td>1</td>\n",
       "    </tr>\n",
       "    <tr>\n",
       "      <th>3</th>\n",
       "      <td>12356</td>\n",
       "      <td>1</td>\n",
       "    </tr>\n",
       "    <tr>\n",
       "      <th>4</th>\n",
       "      <td>12359</td>\n",
       "      <td>1</td>\n",
       "    </tr>\n",
       "  </tbody>\n",
       "</table>\n",
       "</div>"
      ],
      "text/plain": [
       "  CustomerID  Frequency\n",
       "0      12346          1\n",
       "1      12347          1\n",
       "2      12348          1\n",
       "3      12356          1\n",
       "4      12359          1"
      ]
     },
     "execution_count": 86,
     "metadata": {},
     "output_type": "execute_result"
    }
   ],
   "source": [
    "frequency_df.head()\n"
   ]
  },
  {
   "cell_type": "code",
   "execution_count": 87,
   "id": "27b0705d-2c0d-4fa1-bf77-185e671d47a7",
   "metadata": {},
   "outputs": [
    {
     "data": {
      "text/plain": [
       "count    1139.000000\n",
       "mean        1.951712\n",
       "std         6.875771\n",
       "min         1.000000\n",
       "25%         1.000000\n",
       "50%         1.000000\n",
       "75%         2.000000\n",
       "max       223.000000\n",
       "Name: Frequency, dtype: float64"
      ]
     },
     "execution_count": 87,
     "metadata": {},
     "output_type": "execute_result"
    }
   ],
   "source": [
    "frequency_df['Frequency'].describe()\n"
   ]
  },
  {
   "cell_type": "code",
   "execution_count": 88,
   "id": "d8f2f83b-c37e-4bf2-ba87-676d2ec93ee0",
   "metadata": {},
   "outputs": [],
   "source": [
    "#Monetary: Total spend per customer\n",
    "df['Revenue'] = df['Quantity'] * df['UnitPrice']\n",
    "\n",
    "monetary_df = df.groupby('CustomerID')['Revenue'].sum().reset_index()\n",
    "monetary_df.columns = ['CustomerID', 'Monetary']\n"
   ]
  },
  {
   "cell_type": "code",
   "execution_count": 89,
   "id": "fc16f7e8-3c83-43a3-bc25-2ce56ed39a88",
   "metadata": {},
   "outputs": [
    {
     "data": {
      "text/html": [
       "<div>\n",
       "<style scoped>\n",
       "    .dataframe tbody tr th:only-of-type {\n",
       "        vertical-align: middle;\n",
       "    }\n",
       "\n",
       "    .dataframe tbody tr th {\n",
       "        vertical-align: top;\n",
       "    }\n",
       "\n",
       "    .dataframe thead th {\n",
       "        text-align: right;\n",
       "    }\n",
       "</style>\n",
       "<table border=\"1\" class=\"dataframe\">\n",
       "  <thead>\n",
       "    <tr style=\"text-align: right;\">\n",
       "      <th></th>\n",
       "      <th>CustomerID</th>\n",
       "      <th>Monetary</th>\n",
       "    </tr>\n",
       "  </thead>\n",
       "  <tbody>\n",
       "    <tr>\n",
       "      <th>0</th>\n",
       "      <td>12346</td>\n",
       "      <td>77183.60</td>\n",
       "    </tr>\n",
       "    <tr>\n",
       "      <th>1</th>\n",
       "      <td>12347</td>\n",
       "      <td>711.79</td>\n",
       "    </tr>\n",
       "    <tr>\n",
       "      <th>2</th>\n",
       "      <td>12348</td>\n",
       "      <td>892.80</td>\n",
       "    </tr>\n",
       "    <tr>\n",
       "      <th>3</th>\n",
       "      <td>12356</td>\n",
       "      <td>2271.62</td>\n",
       "    </tr>\n",
       "    <tr>\n",
       "      <th>4</th>\n",
       "      <td>12359</td>\n",
       "      <td>530.70</td>\n",
       "    </tr>\n",
       "  </tbody>\n",
       "</table>\n",
       "</div>"
      ],
      "text/plain": [
       "  CustomerID  Monetary\n",
       "0      12346  77183.60\n",
       "1      12347    711.79\n",
       "2      12348    892.80\n",
       "3      12356   2271.62\n",
       "4      12359    530.70"
      ]
     },
     "execution_count": 89,
     "metadata": {},
     "output_type": "execute_result"
    }
   ],
   "source": [
    "monetary_df.head()\n"
   ]
  },
  {
   "cell_type": "code",
   "execution_count": 90,
   "id": "05004bef-d9bc-4d60-bcaf-35b820b1c8ec",
   "metadata": {},
   "outputs": [
    {
     "data": {
      "text/html": [
       "<div>\n",
       "<style scoped>\n",
       "    .dataframe tbody tr th:only-of-type {\n",
       "        vertical-align: middle;\n",
       "    }\n",
       "\n",
       "    .dataframe tbody tr th {\n",
       "        vertical-align: top;\n",
       "    }\n",
       "\n",
       "    .dataframe thead th {\n",
       "        text-align: right;\n",
       "    }\n",
       "</style>\n",
       "<table border=\"1\" class=\"dataframe\">\n",
       "  <thead>\n",
       "    <tr style=\"text-align: right;\">\n",
       "      <th></th>\n",
       "      <th>CustomerID</th>\n",
       "      <th>InvoiceDate</th>\n",
       "      <th>Recency</th>\n",
       "      <th>Frequency</th>\n",
       "      <th>Monetary</th>\n",
       "    </tr>\n",
       "  </thead>\n",
       "  <tbody>\n",
       "    <tr>\n",
       "      <th>0</th>\n",
       "      <td>12346</td>\n",
       "      <td>2011-01-18 10:01:00</td>\n",
       "      <td>2</td>\n",
       "      <td>1</td>\n",
       "      <td>77183.60</td>\n",
       "    </tr>\n",
       "    <tr>\n",
       "      <th>1</th>\n",
       "      <td>12347</td>\n",
       "      <td>2010-12-07 14:57:00</td>\n",
       "      <td>44</td>\n",
       "      <td>1</td>\n",
       "      <td>711.79</td>\n",
       "    </tr>\n",
       "    <tr>\n",
       "      <th>2</th>\n",
       "      <td>12348</td>\n",
       "      <td>2010-12-16 19:09:00</td>\n",
       "      <td>34</td>\n",
       "      <td>1</td>\n",
       "      <td>892.80</td>\n",
       "    </tr>\n",
       "    <tr>\n",
       "      <th>3</th>\n",
       "      <td>12356</td>\n",
       "      <td>2011-01-18 09:50:00</td>\n",
       "      <td>2</td>\n",
       "      <td>1</td>\n",
       "      <td>2271.62</td>\n",
       "    </tr>\n",
       "    <tr>\n",
       "      <th>4</th>\n",
       "      <td>12359</td>\n",
       "      <td>2011-01-12 12:43:00</td>\n",
       "      <td>8</td>\n",
       "      <td>1</td>\n",
       "      <td>530.70</td>\n",
       "    </tr>\n",
       "  </tbody>\n",
       "</table>\n",
       "</div>"
      ],
      "text/plain": [
       "  CustomerID         InvoiceDate  Recency  Frequency  Monetary\n",
       "0      12346 2011-01-18 10:01:00        2          1  77183.60\n",
       "1      12347 2010-12-07 14:57:00       44          1    711.79\n",
       "2      12348 2010-12-16 19:09:00       34          1    892.80\n",
       "3      12356 2011-01-18 09:50:00        2          1   2271.62\n",
       "4      12359 2011-01-12 12:43:00        8          1    530.70"
      ]
     },
     "execution_count": 90,
     "metadata": {},
     "output_type": "execute_result"
    }
   ],
   "source": [
    "rfm_df = recency_df.merge(frequency_df, on='CustomerID')\n",
    "rfm_df = rfm_df.merge(monetary_df, on='CustomerID')\n",
    "rfm_df.head()\n"
   ]
  },
  {
   "cell_type": "code",
   "execution_count": 91,
   "id": "2ce1c756-c6a2-424e-ae77-f81c527e5957",
   "metadata": {},
   "outputs": [
    {
     "data": {
      "text/html": [
       "<div>\n",
       "<style scoped>\n",
       "    .dataframe tbody tr th:only-of-type {\n",
       "        vertical-align: middle;\n",
       "    }\n",
       "\n",
       "    .dataframe tbody tr th {\n",
       "        vertical-align: top;\n",
       "    }\n",
       "\n",
       "    .dataframe thead th {\n",
       "        text-align: right;\n",
       "    }\n",
       "</style>\n",
       "<table border=\"1\" class=\"dataframe\">\n",
       "  <thead>\n",
       "    <tr style=\"text-align: right;\">\n",
       "      <th></th>\n",
       "      <th>CustomerID</th>\n",
       "      <th>InvoiceDate</th>\n",
       "      <th>Recency</th>\n",
       "      <th>Frequency</th>\n",
       "      <th>Monetary</th>\n",
       "    </tr>\n",
       "  </thead>\n",
       "  <tbody>\n",
       "    <tr>\n",
       "      <th>0</th>\n",
       "      <td>12346</td>\n",
       "      <td>2011-01-18 10:01:00</td>\n",
       "      <td>2</td>\n",
       "      <td>1</td>\n",
       "      <td>77183.60</td>\n",
       "    </tr>\n",
       "    <tr>\n",
       "      <th>1</th>\n",
       "      <td>12347</td>\n",
       "      <td>2010-12-07 14:57:00</td>\n",
       "      <td>44</td>\n",
       "      <td>1</td>\n",
       "      <td>711.79</td>\n",
       "    </tr>\n",
       "    <tr>\n",
       "      <th>2</th>\n",
       "      <td>12348</td>\n",
       "      <td>2010-12-16 19:09:00</td>\n",
       "      <td>34</td>\n",
       "      <td>1</td>\n",
       "      <td>892.80</td>\n",
       "    </tr>\n",
       "    <tr>\n",
       "      <th>3</th>\n",
       "      <td>12356</td>\n",
       "      <td>2011-01-18 09:50:00</td>\n",
       "      <td>2</td>\n",
       "      <td>1</td>\n",
       "      <td>2271.62</td>\n",
       "    </tr>\n",
       "    <tr>\n",
       "      <th>4</th>\n",
       "      <td>12359</td>\n",
       "      <td>2011-01-12 12:43:00</td>\n",
       "      <td>8</td>\n",
       "      <td>1</td>\n",
       "      <td>530.70</td>\n",
       "    </tr>\n",
       "  </tbody>\n",
       "</table>\n",
       "</div>"
      ],
      "text/plain": [
       "  CustomerID         InvoiceDate  Recency  Frequency  Monetary\n",
       "0      12346 2011-01-18 10:01:00        2          1  77183.60\n",
       "1      12347 2010-12-07 14:57:00       44          1    711.79\n",
       "2      12348 2010-12-16 19:09:00       34          1    892.80\n",
       "3      12356 2011-01-18 09:50:00        2          1   2271.62\n",
       "4      12359 2011-01-12 12:43:00        8          1    530.70"
      ]
     },
     "execution_count": 91,
     "metadata": {},
     "output_type": "execute_result"
    }
   ],
   "source": [
    "# Merge Recency and Frequency\n",
    "rfm_df = recency_df.merge(frequency_df, on='CustomerID')\n",
    "\n",
    "# Merge Monetary\n",
    "rfm_df = rfm_df.merge(monetary_df, on='CustomerID')\n",
    "\n",
    "# Display the result\n",
    "rfm_df.head()\n"
   ]
  },
  {
   "cell_type": "code",
   "execution_count": 92,
   "id": "bc9e189c-9001-4258-b692-c580ff495031",
   "metadata": {},
   "outputs": [],
   "source": [
    "#Score Each RFM Metric (1–5 scale)\n",
    "\n",
    "# Score Recency (lower is better)\n",
    "rfm_df['R_score'] = pd.qcut(rfm_df['Recency'], 5, labels=[5,4,3,2,1])\n",
    "\n",
    "# Score Frequency (higher is better)\n",
    "rfm_df['F_score'] = pd.qcut(rfm_df['Frequency'].rank(method='first'), 5, labels=[1,2,3,4,5])\n",
    "\n",
    "# Score Monetary (higher is better)\n",
    "rfm_df['M_score'] = pd.qcut(rfm_df['Monetary'], 5, labels=[1,2,3,4,5])\n"
   ]
  },
  {
   "cell_type": "code",
   "execution_count": 93,
   "id": "649622a1-890a-498b-8312-7d21940085d4",
   "metadata": {},
   "outputs": [],
   "source": [
    "#Combine Scores into RFM Segment\n",
    "rfm_df['RFM_Segment'] = (\n",
    "    rfm_df['R_score'].astype(str) +\n",
    "    rfm_df['F_score'].astype(str) +\n",
    "    rfm_df['M_score'].astype(str)\n",
    ")\n"
   ]
  },
  {
   "cell_type": "code",
   "execution_count": 94,
   "id": "def92b4d-5fe7-4392-94f3-be8bb826f5e6",
   "metadata": {},
   "outputs": [],
   "source": [
    "#Define Customer Personas\n",
    "def assign_persona(segment):\n",
    "    if segment == '555':\n",
    "        return 'Champion'\n",
    "    elif segment.startswith('5'):\n",
    "        return 'Loyal'\n",
    "    elif segment.endswith('5'):\n",
    "        return 'Big Spender'\n",
    "    elif segment.startswith('1'):\n",
    "        return 'At Risk'\n",
    "    elif segment.endswith('1'):\n",
    "        return 'Low Value'\n",
    "    else:\n",
    "        return 'Others'\n",
    "\n",
    "rfm_df['Persona'] = rfm_df['RFM_Segment'].apply(assign_persona)\n"
   ]
  },
  {
   "cell_type": "code",
   "execution_count": 95,
   "id": "7f0c9b20-2510-4a0b-be38-deed97e3b080",
   "metadata": {},
   "outputs": [
    {
     "data": {
      "text/plain": [
       "Persona\n",
       "Others         411\n",
       "At Risk        210\n",
       "Loyal          195\n",
       "Big Spender    139\n",
       "Low Value      124\n",
       "Champion        60\n",
       "Name: count, dtype: int64"
      ]
     },
     "execution_count": 95,
     "metadata": {},
     "output_type": "execute_result"
    }
   ],
   "source": [
    "rfm_df['Persona'].value_counts()\n"
   ]
  },
  {
   "cell_type": "code",
   "execution_count": 96,
   "id": "2de74a01-6bd5-4664-889f-a8f44cfb7f33",
   "metadata": {},
   "outputs": [
    {
     "data": {
      "image/png": "[encoded data removed]",
      "text/plain": [
       "<Figure size 800x600 with 1 Axes>"
      ]
     },
     "metadata": {},
     "output_type": "display_data"
    }
   ],
   "source": [
    "#Visualize Personas with a Pie Chart\n",
    "import matplotlib.pyplot as plt\n",
    "\n",
    "# Count each persona\n",
    "persona_counts = rfm_df['Persona'].value_counts()\n",
    "\n",
    "# Plot pie chart\n",
    "plt.figure(figsize=(8,6))\n",
    "plt.pie(persona_counts, labels=persona_counts.index, autopct='%1.1f%%', startangle=140)\n",
    "plt.title('Customer Persona Distribution')\n",
    "plt.axis('equal')  # Ensures pie is a circle\n",
    "plt.show()\n"
   ]
  },
  {
   "cell_type": "code",
   "execution_count": 97,
   "id": "ab22911e-9439-4011-92cd-388889e9cabf",
   "metadata": {},
   "outputs": [],
   "source": [
    "rfm_df.to_csv('customer_personas.csv', index=False)\n"
   ]
  },
  {
   "cell_type": "code",
   "execution_count": null,
   "id": "0f8524d3-0821-484b-b1f3-769ee99cde8a",
   "metadata": {},
   "outputs": [],
   "source": [
    "\n",
    "Persona\t             Description\t                     Strategy Ideas\n",
    " Champions\t         Recent, frequent, high spenders\t   - Send exclusive offers or early access to new products<br>- Ask for reviews or referrals<br>- Offer loyalty rewards\n",
    " Loyal               Frequent buyers, good spenders\t       - Create a VIP program<br>- Offer personalized recommendations<br>- Celebrate milestones (e.g., 1-year anniversary)\n",
    " Big Spenders\t     High monetary value, less frequent\t   - Upsell premium products<br>- Offer bundle deals<br>- Provide concierge-style support\n",
    " At Risk\t         Previously active, now disengaged\t    - Send win-back emails with discounts<br>- Ask for feedback<br>- Highlight new arrivals or changes\n",
    " Low Value\t        Infrequent, low spenders\t             - Offer entry-level promotions<br>- Educate on product value<br>- Encourage account creation or newsletter signup\n",
    "Others\t            Mixed behavior\t                         - Monitor for trends<br>- Segment further if needed<br>- Test different campaigns"
   ]
  },
  {
   "cell_type": "code",
   "execution_count": 98,
   "id": "af7b251b-cb2c-4d00-abb3-ee11e8d5ce2d",
   "metadata": {},
   "outputs": [
    {
     "name": "stderr",
     "output_type": "stream",
     "text": [
      "2025-08-07 15:21:51.980 WARNING streamlit.runtime.scriptrunner_utils.script_run_context: Thread 'MainThread': missing ScriptRunContext! This warning can be ignored when running in bare mode.\n",
      "2025-08-07 15:21:52.362 \n",
      "  \u001b[33m\u001b[1mWarning:\u001b[0m to view this Streamlit app on a browser, run it with the following\n",
      "  command:\n",
      "\n",
      "    streamlit run C:\\Users\\HP\\anaconda3\\Lib\\site-packages\\ipykernel_launcher.py [ARGUMENTS]\n",
      "2025-08-07 15:21:52.363 Thread 'MainThread': missing ScriptRunContext! This warning can be ignored when running in bare mode.\n",
      "2025-08-07 15:21:52.365 Thread 'MainThread': missing ScriptRunContext! This warning can be ignored when running in bare mode.\n",
      "2025-08-07 15:21:52.419 Thread 'MainThread': missing ScriptRunContext! This warning can be ignored when running in bare mode.\n",
      "2025-08-07 15:21:52.420 Thread 'MainThread': missing ScriptRunContext! This warning can be ignored when running in bare mode.\n",
      "2025-08-07 15:21:52.421 Thread 'MainThread': missing ScriptRunContext! This warning can be ignored when running in bare mode.\n",
      "2025-08-07 15:21:52.515 Thread 'MainThread': missing ScriptRunContext! This warning can be ignored when running in bare mode.\n",
      "2025-08-07 15:21:53.012 Thread 'MainThread': missing ScriptRunContext! This warning can be ignored when running in bare mode.\n",
      "2025-08-07 15:21:53.016 Thread 'MainThread': missing ScriptRunContext! This warning can be ignored when running in bare mode.\n",
      "2025-08-07 15:21:53.019 Thread 'MainThread': missing ScriptRunContext! This warning can be ignored when running in bare mode.\n",
      "2025-08-07 15:21:53.029 Thread 'MainThread': missing ScriptRunContext! This warning can be ignored when running in bare mode.\n",
      "2025-08-07 15:21:53.033 Thread 'MainThread': missing ScriptRunContext! This warning can be ignored when running in bare mode.\n",
      "2025-08-07 15:21:53.081 Thread 'MainThread': missing ScriptRunContext! This warning can be ignored when running in bare mode.\n",
      "2025-08-07 15:21:53.086 Thread 'MainThread': missing ScriptRunContext! This warning can be ignored when running in bare mode.\n",
      "2025-08-07 15:21:53.089 Session state does not function when running a script without `streamlit run`\n",
      "2025-08-07 15:21:53.093 Thread 'MainThread': missing ScriptRunContext! This warning can be ignored when running in bare mode.\n",
      "2025-08-07 15:21:53.099 Thread 'MainThread': missing ScriptRunContext! This warning can be ignored when running in bare mode.\n",
      "2025-08-07 15:21:53.101 Thread 'MainThread': missing ScriptRunContext! This warning can be ignored when running in bare mode.\n",
      "2025-08-07 15:21:53.121 Thread 'MainThread': missing ScriptRunContext! This warning can be ignored when running in bare mode.\n",
      "2025-08-07 15:21:53.124 Thread 'MainThread': missing ScriptRunContext! This warning can be ignored when running in bare mode.\n",
      "2025-08-07 15:21:53.126 Thread 'MainThread': missing ScriptRunContext! This warning can be ignored when running in bare mode.\n"
     ]
    },
    {
     "data": {
      "image/png": "[encoded data removed]",
      "text/plain": [
       "<Figure size 640x480 with 1 Axes>"
      ]
     },
     "metadata": {},
     "output_type": "display_data"
    }
   ],
   "source": [
    "import streamlit as st\n",
    "import pandas as pd\n",
    "import matplotlib.pyplot as plt\n",
    "\n",
    "st.title(\"Customer Segmentation Dashboard\")\n",
    "\n",
    "# Load data\n",
    "rfm_df = pd.read_csv('customer_personas.csv')\n",
    "\n",
    "# Show persona distribution\n",
    "st.subheader(\"Persona Distribution\")\n",
    "persona_counts = rfm_df['Persona'].value_counts()\n",
    "fig, ax = plt.subplots()\n",
    "ax.pie(persona_counts, labels=persona_counts.index, autopct='%1.1f%%')\n",
    "st.pyplot(fig)\n",
    "\n",
    "# Filter by persona\n",
    "selected_persona = st.selectbox(\"Select Persona\", rfm_df['Persona'].unique())\n",
    "st.write(rfm_df[rfm_df['Persona'] == selected_persona])\n"
   ]
  },
  {
   "cell_type": "code",
   "execution_count": 99,
   "id": "3cecb26d-fbb0-453d-83cf-5642f812b98b",
   "metadata": {},
   "outputs": [
    {
     "data": {
      "image/png": "[encoded data removed]",
      "text/plain": [
       "<Figure size 640x480 with 1 Axes>"
      ]
     },
     "metadata": {},
     "output_type": "display_data"
    }
   ],
   "source": [
    "import matplotlib.pyplot as plt\n",
    "\n",
    "# Recency bar chart\n",
    "avg_recency = rfm_df.groupby('Persona')['Recency'].mean().sort_values()\n",
    "avg_recency.plot(kind='bar', color='salmon')\n",
    "plt.title(\"Average Recency by Persona\")\n",
    "plt.ylabel(\"Days\")\n",
    "plt.show()\n"
   ]
  },
  {
   "cell_type": "code",
   "execution_count": 100,
   "id": "ac4496ab-7676-425d-b099-5321c2b2e0cd",
   "metadata": {},
   "outputs": [],
   "source": [
    "# Replace 'Price' with the correct column name\n",
    "df['UnitPrice'] = pd.to_numeric(df['UnitPrice'], errors='coerce')\n",
    "df = df[df['UnitPrice'] > 0].reset_index(drop=True)\n",
    "\n"
   ]
  },
  {
   "cell_type": "code",
   "execution_count": 101,
   "id": "bc293aa0-84ab-4441-b857-d8f193350e3d",
   "metadata": {},
   "outputs": [],
   "source": [
    "# Drop rows with missing CustomerID\n",
    "df = df[df['CustomerID'].notna()]\n"
   ]
  },
  {
   "cell_type": "code",
   "execution_count": 102,
   "id": "3e02d4f2-ecf1-4110-a97b-ed471b833f43",
   "metadata": {},
   "outputs": [],
   "source": [
    "df['InvoiceDate'] = pd.to_datetime(df['InvoiceDate'], errors='coerce')\n",
    "df = df[df['InvoiceDate'] <= pd.Timestamp.today()]\n"
   ]
  },
  {
   "cell_type": "code",
   "execution_count": 103,
   "id": "3be62e0f-72ac-47b5-bd9c-3a9ddb85b761",
   "metadata": {},
   "outputs": [
    {
     "data": {
      "image/png": "[encoded data removed]",
      "text/plain": [
       "<Figure size 640x480 with 1 Axes>"
      ]
     },
     "metadata": {},
     "output_type": "display_data"
    }
   ],
   "source": [
    "import matplotlib.pyplot as plt\n",
    "\n",
    "counts = [original_count, cleaned_count]\n",
    "labels = ['Original', 'Cleaned']\n",
    "\n",
    "plt.bar(labels, counts, color=['skyblue', 'lightgreen'])\n",
    "plt.title(\"Row Count Before and After Cleaning\")\n",
    "plt.ylabel(\"Number of Rows\")\n",
    "plt.show()\n"
   ]
  },
  {
   "cell_type": "code",
   "execution_count": 104,
   "id": "5b188e20-66ec-4063-b20d-2099ddb81578",
   "metadata": {},
   "outputs": [
    {
     "data": {
      "image/png": "[encoded data removed]",
      "text/plain": [
       "<Figure size 640x480 with 1 Axes>"
      ]
     },
     "metadata": {},
     "output_type": "display_data"
    }
   ],
   "source": [
    "import seaborn as sns\n",
    "\n",
    "sns.heatmap(df.isnull(), cbar=False, cmap='viridis')\n",
    "plt.title(\"Missing Values Heatmap\")\n",
    "plt.show()\n"
   ]
  },
  {
   "cell_type": "markdown",
   "id": "a736ca54-4cc5-4be6-a110-f1514a119fd1",
   "metadata": {},
   "source": [
    "### Data Cleaning Summary\n",
    "\n",
    "We began by validating the `Quantity` column to ensure all entries were numeric. No rows were dropped, indicating clean input data. We then extended our cleaning to other critical columns:\n",
    "\n",
    "- **Price**: Removed non-numeric and negative values.\n",
    "- **CustomerID**: Dropped rows with missing IDs.\n",
    "- **InvoiceDate**: Ensured valid dates and excluded future entries.\n",
    "\n",
    "Visual summaries below illustrate the impact of cleaning.\n"
   ]
  },
  {
   "cell_type": "code",
   "execution_count": 105,
   "id": "d41bc261-f18e-4a7b-bfb2-4d2776e5c41a",
   "metadata": {},
   "outputs": [],
   "source": [
    "#Enhanced Notebook: Cell-by-Cell\n",
    "#1. Data Cleaning Setup\n",
    "\n",
    "import pandas as pd\n",
    "import numpy as np\n",
    "import matplotlib.pyplot as plt\n",
    "import seaborn as sns\n",
    "import re\n"
   ]
  },
  {
   "cell_type": "code",
   "execution_count": 106,
   "id": "f959ae2d-4cb6-4f2d-a744-87471298c4e7",
   "metadata": {},
   "outputs": [
    {
     "name": "stdout",
     "output_type": "stream",
     "text": [
      "Available columns: ['InvoiceNo', 'StockCode', 'Description', 'Quantity', 'InvoiceDate', 'UnitPrice', 'CustomerID', 'Country', 'segment', 'Email', 'Revenue']\n"
     ]
    }
   ],
   "source": [
    "#Initial Column Overview\n",
    "print(\"Available columns:\", df.columns.tolist())\n"
   ]
  },
  {
   "cell_type": "code",
   "execution_count": 107,
   "id": "52c0c07b-758f-456c-b504-f176cef558c1",
   "metadata": {},
   "outputs": [],
   "source": [
    "#Quantity Validation\n",
    "# Keep only rows where Quantity is all digits\n",
    "mask_qty = df['Quantity'].astype(str).str.match(r'^\\d+$')\n",
    "df = df[mask_qty].reset_index(drop=True)\n"
   ]
  },
  {
   "cell_type": "code",
   "execution_count": 108,
   "id": "c42a30d6-7c0d-41e8-894a-cd77332a9851",
   "metadata": {},
   "outputs": [
    {
     "name": "stdout",
     "output_type": "stream",
     "text": [
      "Original row count: 63528\n",
      "Cleaned row count: 62680\n",
      "Rows dropped: 848\n"
     ]
    }
   ],
   "source": [
    "#Row Count Comparison\n",
    "original_count = len(df_raw)\n",
    "cleaned_count = len(df)\n",
    "print(f\"Original row count: {original_count}\")\n",
    "print(f\"Cleaned row count: {cleaned_count}\")\n",
    "print(f\"Rows dropped: {original_count - cleaned_count}\")\n"
   ]
  },
  {
   "cell_type": "code",
   "execution_count": 109,
   "id": "ffe22292-f4dc-493e-9fcf-7a1e4c1dc5f2",
   "metadata": {},
   "outputs": [],
   "source": [
    "#Additional Column Cleaning\n",
    "# Clean UnitPrice (assuming that's the correct column name)\n",
    "df['UnitPrice'] = pd.to_numeric(df['UnitPrice'], errors='coerce')\n",
    "df = df[df['UnitPrice'] > 0]\n",
    "\n",
    "# Clean CustomerID\n",
    "df = df[df['CustomerID'].notna()]\n",
    "\n",
    "# Clean InvoiceDate\n",
    "df['InvoiceDate'] = pd.to_datetime(df['InvoiceDate'], errors='coerce')\n",
    "df = df[df['InvoiceDate'] <= pd.Timestamp.today()]\n"
   ]
  },
  {
   "cell_type": "code",
   "execution_count": 110,
   "id": "25ad654b-392b-421a-b0e9-bb674282ac11",
   "metadata": {},
   "outputs": [
    {
     "data": {
      "image/png": "[encoded data removed]",
      "text/plain": [
       "<Figure size 640x480 with 1 Axes>"
      ]
     },
     "metadata": {},
     "output_type": "display_data"
    }
   ],
   "source": [
    "#Visual Summary: Row Count\n",
    "counts = [original_count, cleaned_count]\n",
    "labels = ['Original', 'Cleaned']\n",
    "\n",
    "plt.bar(labels, counts, color=['skyblue', 'lightgreen'])\n",
    "plt.title(\"Row Count Before and After Cleaning\")\n",
    "plt.ylabel(\"Number of Rows\")\n",
    "plt.show()\n"
   ]
  },
  {
   "cell_type": "markdown",
   "id": "b334df00-a8db-4aca-be6d-536f1698d56b",
   "metadata": {},
   "source": [
    "### Data Cleaning: Quantity Column\n",
    "\n",
    "To ensure the integrity of our analysis, we begin by cleaning the `Quantity` column. This involves:\n",
    "- Filtering out any rows where `Quantity` contains non-digit characters.\n",
    "- Verifying that all entries can be safely converted to integers.\n",
    "- Confirming that no rows were dropped during cleaning.\n"
   ]
  },
  {
   "cell_type": "markdown",
   "id": "3e59b48e-6ff1-4fbb-8dad-25e70dfce4f4",
   "metadata": {},
   "source": [
    "### Cleaning Summary\n",
    "\n",
    "- **Original Row Count**: 63,528  \n",
    "- **Cleaned Row Count**: 63,528  \n",
    "- **Rows Dropped**: 0  \n",
    "\n",
    "This confirms that the `Quantity` column was already clean and required no row removal.\n"
   ]
  },
  {
   "cell_type": "code",
   "execution_count": 111,
   "id": "f0403549-3ffe-4e7e-bd42-e9476e88157c",
   "metadata": {},
   "outputs": [
    {
     "data": {
      "image/png": "[encoded data removed]",
      "text/plain": [
       "<Figure size 1000x600 with 1 Axes>"
      ]
     },
     "metadata": {},
     "output_type": "display_data"
    }
   ],
   "source": [
    "#Distribution Chart of 'Quantity'\n",
    "import seaborn as sns\n",
    "import matplotlib.pyplot as plt\n",
    "\n",
    "plt.figure(figsize=(10, 6))\n",
    "sns.histplot(df['Quantity'], bins=30, kde=True, color='steelblue')\n",
    "plt.title('Distribution of Quantity Values')\n",
    "plt.xlabel('Quantity')\n",
    "plt.ylabel('Frequency')\n",
    "plt.grid(True)\n",
    "plt.show()\n"
   ]
  },
  {
   "cell_type": "code",
   "execution_count": null,
   "id": "caadb792-e077-46e4-bc51-f059fd3880ba",
   "metadata": {},
   "outputs": [],
   "source": []
  }
 ],
 "metadata": {
  "kernelspec": {
   "display_name": "Python [conda env:base] *",
   "language": "python",
   "name": "conda-base-py"
  },
  "language_info": {
   "codemirror_mode": {
    "name": "ipython",
    "version": 3
   },
   "file_extension": ".py",
   "mimetype": "text/x-python",
   "name": "python",
   "nbconvert_exporter": "python",
   "pygments_lexer": "ipython3",
   "version": "3.11.5"
  }
 },
 "nbformat": 4,
 "nbformat_minor": 5
}
