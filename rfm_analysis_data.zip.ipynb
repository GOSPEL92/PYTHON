{
 "cells": [
  {
   "cell_type": "code",
   "execution_count": 1,
   "id": "08f3b5d7-176e-4281-a564-7a17234eaf3c",
   "metadata": {},
   "outputs": [],
   "source": [
    "#Standard libraries\n",
    "import pandas as pd\n",
    "import numpy as np\n",
    "\n",
    "# Visualization\n",
    "import seaborn as sns\n",
    "import matplotlib.pyplot as plt\n",
    "%matplotlib inline\n",
    "sns.set(color_codes =True)\n",
    "sns.set_theme(style=\"whitegrid\")\n"
   ]
  },
  {
   "cell_type": "code",
   "execution_count": 2,
   "id": "87e05ce0-ebcf-48e7-9b13-0d33a4f52642",
   "metadata": {},
   "outputs": [
    {
     "data": {
      "text/html": [
       "\n",
       "            <div>\n",
       "                <ins><a href=\"https://ydata.ai/register\">Upgrade to ydata-sdk</a></ins>\n",
       "                <p>\n",
       "                    Improve your data and profiling with ydata-sdk, featuring data quality scoring, redundancy detection, outlier identification, text validation, and synthetic data generation.\n",
       "                </p>\n",
       "            </div>\n",
       "            "
      ],
      "text/plain": [
       "<IPython.core.display.HTML object>"
      ]
     },
     "metadata": {},
     "output_type": "display_data"
    }
   ],
   "source": [
    "#2. Imports & Configuration (Code Cell)\n",
    "\n",
    "# Optional automated profiling\n",
    "from ydata_profiling import ProfileReport\n",
    "import sweetviz as sv\n",
    "\n",
    "# Plotly for interactive charts\n",
    "import plotly.express as px\n",
    "\n",
    "# Display settings\n",
    "pd.set_option('display.max_columns', None)\n",
    "pd.set_option('display.float_format', '{:.2f}'.format)\n"
   ]
  },
  {
   "cell_type": "code",
   "execution_count": 3,
   "id": "c01349a9-b4bb-4725-9fb5-65a2cdb58139",
   "metadata": {},
   "outputs": [],
   "source": [
    "df_cleaned = pd.read_excel(r\"C:\\Users\\HP\\Downloads\\Online Retail.xlsx\")"
   ]
  },
  {
   "cell_type": "code",
   "execution_count": 4,
   "id": "735ba6a6-316f-4a25-8510-421cbbee3dc1",
   "metadata": {},
   "outputs": [
    {
     "name": "stdout",
     "output_type": "stream",
     "text": [
      "<class 'pandas.core.frame.DataFrame'>\n",
      "RangeIndex: 541909 entries, 0 to 541908\n",
      "Data columns (total 8 columns):\n",
      " #   Column       Non-Null Count   Dtype         \n",
      "---  ------       --------------   -----         \n",
      " 0   InvoiceNo    541909 non-null  object        \n",
      " 1   StockCode    541909 non-null  object        \n",
      " 2   Description  540455 non-null  object        \n",
      " 3   Quantity     541909 non-null  int64         \n",
      " 4   InvoiceDate  541909 non-null  datetime64[ns]\n",
      " 5   UnitPrice    541909 non-null  float64       \n",
      " 6   CustomerID   406829 non-null  float64       \n",
      " 7   Country      541909 non-null  object        \n",
      "dtypes: datetime64[ns](1), float64(2), int64(1), object(4)\n",
      "memory usage: 33.1+ MB\n",
      "None\n"
     ]
    }
   ],
   "source": [
    "print(df_cleaned.info())      # Overview of columns and data types , miss counts"
   ]
  },
  {
   "cell_type": "code",
   "execution_count": 5,
   "id": "0a23eb8c-db0b-47ba-914c-89a0baa74278",
   "metadata": {},
   "outputs": [
    {
     "data": {
      "text/html": [
       "<div>\n",
       "<style scoped>\n",
       "    .dataframe tbody tr th:only-of-type {\n",
       "        vertical-align: middle;\n",
       "    }\n",
       "\n",
       "    .dataframe tbody tr th {\n",
       "        vertical-align: top;\n",
       "    }\n",
       "\n",
       "    .dataframe thead th {\n",
       "        text-align: right;\n",
       "    }\n",
       "</style>\n",
       "<table border=\"1\" class=\"dataframe\">\n",
       "  <thead>\n",
       "    <tr style=\"text-align: right;\">\n",
       "      <th></th>\n",
       "      <th>InvoiceNo</th>\n",
       "      <th>StockCode</th>\n",
       "      <th>Description</th>\n",
       "      <th>Quantity</th>\n",
       "      <th>InvoiceDate</th>\n",
       "      <th>UnitPrice</th>\n",
       "      <th>CustomerID</th>\n",
       "      <th>Country</th>\n",
       "    </tr>\n",
       "  </thead>\n",
       "  <tbody>\n",
       "    <tr>\n",
       "      <th>count</th>\n",
       "      <td>541909.00</td>\n",
       "      <td>541909</td>\n",
       "      <td>540455</td>\n",
       "      <td>541909.00</td>\n",
       "      <td>541909</td>\n",
       "      <td>541909.00</td>\n",
       "      <td>406829.00</td>\n",
       "      <td>541909</td>\n",
       "    </tr>\n",
       "    <tr>\n",
       "      <th>unique</th>\n",
       "      <td>25900.00</td>\n",
       "      <td>4070</td>\n",
       "      <td>4223</td>\n",
       "      <td>NaN</td>\n",
       "      <td>NaN</td>\n",
       "      <td>NaN</td>\n",
       "      <td>NaN</td>\n",
       "      <td>38</td>\n",
       "    </tr>\n",
       "    <tr>\n",
       "      <th>top</th>\n",
       "      <td>573585.00</td>\n",
       "      <td>85123A</td>\n",
       "      <td>WHITE HANGING HEART T-LIGHT HOLDER</td>\n",
       "      <td>NaN</td>\n",
       "      <td>NaN</td>\n",
       "      <td>NaN</td>\n",
       "      <td>NaN</td>\n",
       "      <td>United Kingdom</td>\n",
       "    </tr>\n",
       "    <tr>\n",
       "      <th>freq</th>\n",
       "      <td>1114.00</td>\n",
       "      <td>2313</td>\n",
       "      <td>2369</td>\n",
       "      <td>NaN</td>\n",
       "      <td>NaN</td>\n",
       "      <td>NaN</td>\n",
       "      <td>NaN</td>\n",
       "      <td>495478</td>\n",
       "    </tr>\n",
       "    <tr>\n",
       "      <th>mean</th>\n",
       "      <td>NaN</td>\n",
       "      <td>NaN</td>\n",
       "      <td>NaN</td>\n",
       "      <td>9.55</td>\n",
       "      <td>2011-07-04 13:34:57.156386048</td>\n",
       "      <td>4.61</td>\n",
       "      <td>15287.69</td>\n",
       "      <td>NaN</td>\n",
       "    </tr>\n",
       "    <tr>\n",
       "      <th>min</th>\n",
       "      <td>NaN</td>\n",
       "      <td>NaN</td>\n",
       "      <td>NaN</td>\n",
       "      <td>-80995.00</td>\n",
       "      <td>2010-12-01 08:26:00</td>\n",
       "      <td>-11062.06</td>\n",
       "      <td>12346.00</td>\n",
       "      <td>NaN</td>\n",
       "    </tr>\n",
       "    <tr>\n",
       "      <th>25%</th>\n",
       "      <td>NaN</td>\n",
       "      <td>NaN</td>\n",
       "      <td>NaN</td>\n",
       "      <td>1.00</td>\n",
       "      <td>2011-03-28 11:34:00</td>\n",
       "      <td>1.25</td>\n",
       "      <td>13953.00</td>\n",
       "      <td>NaN</td>\n",
       "    </tr>\n",
       "    <tr>\n",
       "      <th>50%</th>\n",
       "      <td>NaN</td>\n",
       "      <td>NaN</td>\n",
       "      <td>NaN</td>\n",
       "      <td>3.00</td>\n",
       "      <td>2011-07-19 17:17:00</td>\n",
       "      <td>2.08</td>\n",
       "      <td>15152.00</td>\n",
       "      <td>NaN</td>\n",
       "    </tr>\n",
       "    <tr>\n",
       "      <th>75%</th>\n",
       "      <td>NaN</td>\n",
       "      <td>NaN</td>\n",
       "      <td>NaN</td>\n",
       "      <td>10.00</td>\n",
       "      <td>2011-10-19 11:27:00</td>\n",
       "      <td>4.13</td>\n",
       "      <td>16791.00</td>\n",
       "      <td>NaN</td>\n",
       "    </tr>\n",
       "    <tr>\n",
       "      <th>max</th>\n",
       "      <td>NaN</td>\n",
       "      <td>NaN</td>\n",
       "      <td>NaN</td>\n",
       "      <td>80995.00</td>\n",
       "      <td>2011-12-09 12:50:00</td>\n",
       "      <td>38970.00</td>\n",
       "      <td>18287.00</td>\n",
       "      <td>NaN</td>\n",
       "    </tr>\n",
       "    <tr>\n",
       "      <th>std</th>\n",
       "      <td>NaN</td>\n",
       "      <td>NaN</td>\n",
       "      <td>NaN</td>\n",
       "      <td>218.08</td>\n",
       "      <td>NaN</td>\n",
       "      <td>96.76</td>\n",
       "      <td>1713.60</td>\n",
       "      <td>NaN</td>\n",
       "    </tr>\n",
       "  </tbody>\n",
       "</table>\n",
       "</div>"
      ],
      "text/plain": [
       "        InvoiceNo StockCode                         Description  Quantity  \\\n",
       "count   541909.00    541909                              540455 541909.00   \n",
       "unique   25900.00      4070                                4223       NaN   \n",
       "top     573585.00    85123A  WHITE HANGING HEART T-LIGHT HOLDER       NaN   \n",
       "freq      1114.00      2313                                2369       NaN   \n",
       "mean          NaN       NaN                                 NaN      9.55   \n",
       "min           NaN       NaN                                 NaN -80995.00   \n",
       "25%           NaN       NaN                                 NaN      1.00   \n",
       "50%           NaN       NaN                                 NaN      3.00   \n",
       "75%           NaN       NaN                                 NaN     10.00   \n",
       "max           NaN       NaN                                 NaN  80995.00   \n",
       "std           NaN       NaN                                 NaN    218.08   \n",
       "\n",
       "                          InvoiceDate  UnitPrice  CustomerID         Country  \n",
       "count                          541909  541909.00   406829.00          541909  \n",
       "unique                            NaN        NaN         NaN              38  \n",
       "top                               NaN        NaN         NaN  United Kingdom  \n",
       "freq                              NaN        NaN         NaN          495478  \n",
       "mean    2011-07-04 13:34:57.156386048       4.61    15287.69             NaN  \n",
       "min               2010-12-01 08:26:00  -11062.06    12346.00             NaN  \n",
       "25%               2011-03-28 11:34:00       1.25    13953.00             NaN  \n",
       "50%               2011-07-19 17:17:00       2.08    15152.00             NaN  \n",
       "75%               2011-10-19 11:27:00       4.13    16791.00             NaN  \n",
       "max               2011-12-09 12:50:00   38970.00    18287.00             NaN  \n",
       "std                               NaN      96.76     1713.60             NaN  "
      ]
     },
     "execution_count": 5,
     "metadata": {},
     "output_type": "execute_result"
    }
   ],
   "source": [
    "df_cleaned.describe(include = \"all\") # for summary statistics"
   ]
  },
  {
   "cell_type": "markdown",
   "id": "fca35aa9-27a4-4036-8f4b-b852c904f6ba",
   "metadata": {},
   "source": [
    "Cleaning Steps\n",
    "Remove exact duplicates"
   ]
  },
  {
   "cell_type": "code",
   "execution_count": 6,
   "id": "c2daf53a-d02e-463f-8839-6ce6a93d7956",
   "metadata": {},
   "outputs": [],
   "source": [
    "# remove exact duplicate rows\n",
    "df_cleaned = df_cleaned.drop_duplicates()\n"
   ]
  },
  {
   "cell_type": "markdown",
   "id": "69876b27-345c-413e-baf7-0b787c397724",
   "metadata": {},
   "source": [
    "Handle missing CustomerID and Description\n",
    "\n",
    "CustomerID: fill with a placeholder or drop, depending on downstream needs.\n",
    "\n",
    "Description: drop rows where this is missing, since item name is critical."
   ]
  },
  {
   "cell_type": "code",
   "execution_count": 7,
   "id": "67b6d2f3-cda6-4758-87b5-708f56d3b2a8",
   "metadata": {},
   "outputs": [
    {
     "name": "stdout",
     "output_type": "stream",
     "text": [
      "Missing Descriptions: 1454\n",
      "Missing CustomerIDs: 135037\n"
     ]
    }
   ],
   "source": [
    "#Inspect and Handle Missing Values\n",
    "#Check how many rows lack descriptions or CustomerIDs:\n",
    "\n",
    "desc_nulls = df_cleaned['Description'].isnull().sum()\n",
    "cust_nulls = df_cleaned['CustomerID'].isnull().sum()\n",
    "print(f\"Missing Descriptions: {desc_nulls}\")\n",
    "print(f\"Missing CustomerIDs: {cust_nulls}\")\n"
   ]
  },
  {
   "cell_type": "code",
   "execution_count": 8,
   "id": "4abafcd3-916e-4295-a55b-00fbbe8bde32",
   "metadata": {},
   "outputs": [
    {
     "name": "stdout",
     "output_type": "stream",
     "text": [
      "Original rows: 536641\n",
      "After dropping missing CustomerID: 401604\n"
     ]
    }
   ],
   "source": [
    "# Before exclusion\n",
    "print(\"Original rows:\", df_cleaned.shape[0])\n",
    "\n",
    "# Drop rows with null CustomerID\n",
    "df_no_missing_cust = df_cleaned.dropna(subset=['CustomerID']).copy()\n",
    "\n",
    "print(\"After dropping missing CustomerID:\", df_no_missing_cust.shape[0])\n"
   ]
  },
  {
   "cell_type": "code",
   "execution_count": 9,
   "id": "0d595c4c-7fde-4557-b000-0d0bdb2cbe40",
   "metadata": {},
   "outputs": [
    {
     "name": "stdout",
     "output_type": "stream",
     "text": [
      "CustomerID mode: 17841.0\n",
      "Nulls after imputation: 0\n"
     ]
    },
    {
     "name": "stderr",
     "output_type": "stream",
     "text": [
      "C:\\Users\\HP\\AppData\\Local\\Temp\\ipykernel_4068\\258774323.py:7: FutureWarning: A value is trying to be set on a copy of a DataFrame or Series through chained assignment using an inplace method.\n",
      "The behavior will change in pandas 3.0. This inplace method will never work because the intermediate object on which we are setting values always behaves as a copy.\n",
      "\n",
      "For example, when doing 'df[col].method(value, inplace=True)', try using 'df.method({col: value}, inplace=True)' or df[col] = df[col].method(value) instead, to perform the operation inplace on the original object.\n",
      "\n",
      "\n",
      "  df_imputed_cust['CustomerID'].fillna(cust_mode, inplace=True)\n"
     ]
    }
   ],
   "source": [
    "# Calculate mode of CustomerID\n",
    "cust_mode = df_cleaned['CustomerID'].mode()[0]\n",
    "print(\"CustomerID mode:\", cust_mode)\n",
    "\n",
    "# Impute missing CustomerID with mode\n",
    "df_imputed_cust = df_cleaned.copy()\n",
    "df_imputed_cust['CustomerID'].fillna(cust_mode, inplace=True)\n",
    "\n",
    "# Verify no more nulls\n",
    "print(\"Nulls after imputation:\",\n",
    "      df_imputed_cust['CustomerID'].isna().sum())\n"
   ]
  },
  {
   "cell_type": "markdown",
   "id": "3b5e73f3-6f26-4f47-90ff-c75c241607e7",
   "metadata": {},
   "source": [
    "Drop any row lacking a product description, which may correspond to incomplete transaction details."
   ]
  },
  {
   "cell_type": "code",
   "execution_count": 10,
   "id": "0112bbbe-7778-4ee5-8cc8-a8c22f738775",
   "metadata": {},
   "outputs": [
    {
     "name": "stdout",
     "output_type": "stream",
     "text": [
      "Original rows: 536641\n",
      "After dropping missing Description: 535187\n"
     ]
    }
   ],
   "source": [
    "# Before exclusion\n",
    "print(\"Original rows:\", df_cleaned.shape[0])\n",
    "\n",
    "# Drop rows with null Description\n",
    "df_no_missing_desc = df_cleaned.dropna(subset=['Description']).copy()\n",
    "\n",
    "print(\"After dropping missing Description:\", df_no_missing_desc.shape[0])\n"
   ]
  },
  {
   "cell_type": "code",
   "execution_count": 11,
   "id": "c4997004-d5b1-4b93-bf12-5a1d0a4ed98c",
   "metadata": {},
   "outputs": [
    {
     "name": "stderr",
     "output_type": "stream",
     "text": [
      "C:\\Users\\HP\\AppData\\Local\\Temp\\ipykernel_4068\\2572302375.py:3: FutureWarning: A value is trying to be set on a copy of a DataFrame or Series through chained assignment using an inplace method.\n",
      "The behavior will change in pandas 3.0. This inplace method will never work because the intermediate object on which we are setting values always behaves as a copy.\n",
      "\n",
      "For example, when doing 'df[col].method(value, inplace=True)', try using 'df.method({col: value}, inplace=True)' or df[col] = df[col].method(value) instead, to perform the operation inplace on the original object.\n",
      "\n",
      "\n",
      "  df_imputed_desc['Description'].fillna('Unknown Description', inplace=True)\n"
     ]
    },
    {
     "name": "stdout",
     "output_type": "stream",
     "text": [
      "Placeholder fill missing: 0\n",
      "Group fill missing: 0\n"
     ]
    }
   ],
   "source": [
    "# Simple fill with placeholder\n",
    "df_imputed_desc = df_cleaned.copy()\n",
    "df_imputed_desc['Description'].fillna('Unknown Description', inplace=True)\n",
    "\n",
    "# Or, forward-fill descriptions within each StockCode group\n",
    "df_ffill_desc = df_cleaned.sort_values(['StockCode', 'InvoiceDate']).copy()\n",
    "df_ffill_desc['Description'] = (\n",
    "    df_ffill_desc\n",
    "    .groupby('StockCode')['Description']\n",
    "    .ffill()\n",
    "    .bfill()\n",
    ")\n",
    "\n",
    "# Check remaining missing\n",
    "print(\"Placeholder fill missing:\",\n",
    "      df_imputed_desc['Description'].isna().sum())\n",
    "print(\"Group fill missing:\",\n",
    "      df_ffill_desc['Description'].isna().sum())\n"
   ]
  },
  {
   "cell_type": "code",
   "execution_count": 12,
   "id": "6268c47a-a0f3-4496-8d93-2fe1b7ae5eda",
   "metadata": {},
   "outputs": [],
   "source": [
    "df_cleaned= df_cleaned.dropna(subset=['Description'])\n",
    "df_cleaned['CustomerID'] = df_cleaned['CustomerID'].fillna(0).astype(int)\n",
    "\n"
   ]
  },
  {
   "cell_type": "markdown",
   "id": "2209468a-0a51-40a9-aeff-de027a7207c1",
   "metadata": {},
   "source": [
    "Convert data types"
   ]
  },
  {
   "cell_type": "code",
   "execution_count": 13,
   "id": "7cbb9076-22bb-4110-9faf-a76873e2125b",
   "metadata": {},
   "outputs": [],
   "source": [
    "df_cleaned['InvoiceDate'] = pd.to_datetime(df_cleaned['InvoiceDate'])\n",
    "df_cleaned['InvoiceNo']   = df_cleaned['InvoiceNo'].astype(str)\n",
    "df_cleaned['StockCode']   = df_cleaned['StockCode'].astype(str)\n"
   ]
  },
  {
   "cell_type": "markdown",
   "id": "4587e9cb-155f-4c49-b053-ee3bfb1a713c",
   "metadata": {},
   "source": [
    "#Here’s how to count cancellations and returns"
   ]
  },
  {
   "cell_type": "code",
   "execution_count": 14,
   "id": "a73b7191-37d2-4bcc-9d33-49c7bca04a83",
   "metadata": {},
   "outputs": [],
   "source": [
    "# 1. Flag cancellations and returns\n",
    "df_cleaned['IsCancellation'] = (\n",
    "    df_cleaned['InvoiceNo']\n",
    "      .astype(str)\n",
    "      .str.upper()\n",
    "      .str.startswith('C')\n",
    ")\n",
    "df_cleaned['IsReturn'] = df_cleaned['Quantity'] < 0\n",
    "\n"
   ]
  },
  {
   "cell_type": "code",
   "execution_count": 15,
   "id": "11586f14-c1f4-4b81-8322-5cd48e10c9ae",
   "metadata": {},
   "outputs": [
    {
     "name": "stdout",
     "output_type": "stream",
     "text": [
      "Cancellation transactions:      9251\n",
      "Unique cancelled invoices:     3836\n",
      "Return transactions (neg Qty): 9725\n",
      "Unique return invoices:        4310\n"
     ]
    }
   ],
   "source": [
    "# 2. Compute the totals\n",
    "num_cancel_rows     = df_cleaned['IsCancellation'].sum()\n",
    "num_return_rows     = df_cleaned['IsReturn'].sum()\n",
    "num_cancel_invoices = df_cleaned.loc[df_cleaned['IsCancellation'], 'InvoiceNo'].nunique()\n",
    "num_return_invoices = df_cleaned.loc[df_cleaned['IsReturn'],       'InvoiceNo'].nunique()\n",
    "\n",
    "print(f\"Cancellation transactions:      {num_cancel_rows}\")\n",
    "print(f\"Unique cancelled invoices:     {num_cancel_invoices}\")\n",
    "print(f\"Return transactions (neg Qty): {num_return_rows}\")\n",
    "print(f\"Unique return invoices:        {num_return_invoices}\")\n",
    "\n"
   ]
  },
  {
   "cell_type": "code",
   "execution_count": 16,
   "id": "7878f78d-64ac-4a63-b81c-d208093ff8c3",
   "metadata": {},
   "outputs": [],
   "source": [
    "df_cleaned['Is_Return'] = df_cleaned['InvoiceNo'].str.startswith('C', na=False)\n"
   ]
  },
  {
   "cell_type": "code",
   "execution_count": 17,
   "id": "a3eb4888-1482-429a-bf73-b6400a51e235",
   "metadata": {},
   "outputs": [
    {
     "data": {
      "text/html": [
       "<div>\n",
       "<style scoped>\n",
       "    .dataframe tbody tr th:only-of-type {\n",
       "        vertical-align: middle;\n",
       "    }\n",
       "\n",
       "    .dataframe tbody tr th {\n",
       "        vertical-align: top;\n",
       "    }\n",
       "\n",
       "    .dataframe thead th {\n",
       "        text-align: right;\n",
       "    }\n",
       "</style>\n",
       "<table border=\"1\" class=\"dataframe\">\n",
       "  <thead>\n",
       "    <tr style=\"text-align: right;\">\n",
       "      <th></th>\n",
       "      <th>InvoiceNo</th>\n",
       "      <th>StockCode</th>\n",
       "      <th>Description</th>\n",
       "      <th>Quantity</th>\n",
       "      <th>InvoiceDate</th>\n",
       "      <th>UnitPrice</th>\n",
       "      <th>CustomerID</th>\n",
       "      <th>Country</th>\n",
       "      <th>IsCancellation</th>\n",
       "      <th>IsReturn</th>\n",
       "      <th>Is_Return</th>\n",
       "    </tr>\n",
       "  </thead>\n",
       "  <tbody>\n",
       "    <tr>\n",
       "      <th>141</th>\n",
       "      <td>C536379</td>\n",
       "      <td>D</td>\n",
       "      <td>Discount</td>\n",
       "      <td>-1</td>\n",
       "      <td>2010-12-01 09:41:00</td>\n",
       "      <td>27.50</td>\n",
       "      <td>14527</td>\n",
       "      <td>United Kingdom</td>\n",
       "      <td>True</td>\n",
       "      <td>True</td>\n",
       "      <td>True</td>\n",
       "    </tr>\n",
       "    <tr>\n",
       "      <th>154</th>\n",
       "      <td>C536383</td>\n",
       "      <td>35004C</td>\n",
       "      <td>SET OF 3 COLOURED  FLYING DUCKS</td>\n",
       "      <td>-1</td>\n",
       "      <td>2010-12-01 09:49:00</td>\n",
       "      <td>4.65</td>\n",
       "      <td>15311</td>\n",
       "      <td>United Kingdom</td>\n",
       "      <td>True</td>\n",
       "      <td>True</td>\n",
       "      <td>True</td>\n",
       "    </tr>\n",
       "    <tr>\n",
       "      <th>235</th>\n",
       "      <td>C536391</td>\n",
       "      <td>22556</td>\n",
       "      <td>PLASTERS IN TIN CIRCUS PARADE</td>\n",
       "      <td>-12</td>\n",
       "      <td>2010-12-01 10:24:00</td>\n",
       "      <td>1.65</td>\n",
       "      <td>17548</td>\n",
       "      <td>United Kingdom</td>\n",
       "      <td>True</td>\n",
       "      <td>True</td>\n",
       "      <td>True</td>\n",
       "    </tr>\n",
       "    <tr>\n",
       "      <th>236</th>\n",
       "      <td>C536391</td>\n",
       "      <td>21984</td>\n",
       "      <td>PACK OF 12 PINK PAISLEY TISSUES</td>\n",
       "      <td>-24</td>\n",
       "      <td>2010-12-01 10:24:00</td>\n",
       "      <td>0.29</td>\n",
       "      <td>17548</td>\n",
       "      <td>United Kingdom</td>\n",
       "      <td>True</td>\n",
       "      <td>True</td>\n",
       "      <td>True</td>\n",
       "    </tr>\n",
       "    <tr>\n",
       "      <th>237</th>\n",
       "      <td>C536391</td>\n",
       "      <td>21983</td>\n",
       "      <td>PACK OF 12 BLUE PAISLEY TISSUES</td>\n",
       "      <td>-24</td>\n",
       "      <td>2010-12-01 10:24:00</td>\n",
       "      <td>0.29</td>\n",
       "      <td>17548</td>\n",
       "      <td>United Kingdom</td>\n",
       "      <td>True</td>\n",
       "      <td>True</td>\n",
       "      <td>True</td>\n",
       "    </tr>\n",
       "    <tr>\n",
       "      <th>...</th>\n",
       "      <td>...</td>\n",
       "      <td>...</td>\n",
       "      <td>...</td>\n",
       "      <td>...</td>\n",
       "      <td>...</td>\n",
       "      <td>...</td>\n",
       "      <td>...</td>\n",
       "      <td>...</td>\n",
       "      <td>...</td>\n",
       "      <td>...</td>\n",
       "      <td>...</td>\n",
       "    </tr>\n",
       "    <tr>\n",
       "      <th>540449</th>\n",
       "      <td>C581490</td>\n",
       "      <td>23144</td>\n",
       "      <td>ZINC T-LIGHT HOLDER STARS SMALL</td>\n",
       "      <td>-11</td>\n",
       "      <td>2011-12-09 09:57:00</td>\n",
       "      <td>0.83</td>\n",
       "      <td>14397</td>\n",
       "      <td>United Kingdom</td>\n",
       "      <td>True</td>\n",
       "      <td>True</td>\n",
       "      <td>True</td>\n",
       "    </tr>\n",
       "    <tr>\n",
       "      <th>541541</th>\n",
       "      <td>C581499</td>\n",
       "      <td>M</td>\n",
       "      <td>Manual</td>\n",
       "      <td>-1</td>\n",
       "      <td>2011-12-09 10:28:00</td>\n",
       "      <td>224.69</td>\n",
       "      <td>15498</td>\n",
       "      <td>United Kingdom</td>\n",
       "      <td>True</td>\n",
       "      <td>True</td>\n",
       "      <td>True</td>\n",
       "    </tr>\n",
       "    <tr>\n",
       "      <th>541715</th>\n",
       "      <td>C581568</td>\n",
       "      <td>21258</td>\n",
       "      <td>VICTORIAN SEWING BOX LARGE</td>\n",
       "      <td>-5</td>\n",
       "      <td>2011-12-09 11:57:00</td>\n",
       "      <td>10.95</td>\n",
       "      <td>15311</td>\n",
       "      <td>United Kingdom</td>\n",
       "      <td>True</td>\n",
       "      <td>True</td>\n",
       "      <td>True</td>\n",
       "    </tr>\n",
       "    <tr>\n",
       "      <th>541716</th>\n",
       "      <td>C581569</td>\n",
       "      <td>84978</td>\n",
       "      <td>HANGING HEART JAR T-LIGHT HOLDER</td>\n",
       "      <td>-1</td>\n",
       "      <td>2011-12-09 11:58:00</td>\n",
       "      <td>1.25</td>\n",
       "      <td>17315</td>\n",
       "      <td>United Kingdom</td>\n",
       "      <td>True</td>\n",
       "      <td>True</td>\n",
       "      <td>True</td>\n",
       "    </tr>\n",
       "    <tr>\n",
       "      <th>541717</th>\n",
       "      <td>C581569</td>\n",
       "      <td>20979</td>\n",
       "      <td>36 PENCILS TUBE RED RETROSPOT</td>\n",
       "      <td>-5</td>\n",
       "      <td>2011-12-09 11:58:00</td>\n",
       "      <td>1.25</td>\n",
       "      <td>17315</td>\n",
       "      <td>United Kingdom</td>\n",
       "      <td>True</td>\n",
       "      <td>True</td>\n",
       "      <td>True</td>\n",
       "    </tr>\n",
       "  </tbody>\n",
       "</table>\n",
       "<p>9251 rows × 11 columns</p>\n",
       "</div>"
      ],
      "text/plain": [
       "       InvoiceNo StockCode                       Description  Quantity  \\\n",
       "141      C536379         D                          Discount        -1   \n",
       "154      C536383    35004C   SET OF 3 COLOURED  FLYING DUCKS        -1   \n",
       "235      C536391     22556    PLASTERS IN TIN CIRCUS PARADE        -12   \n",
       "236      C536391     21984  PACK OF 12 PINK PAISLEY TISSUES        -24   \n",
       "237      C536391     21983  PACK OF 12 BLUE PAISLEY TISSUES        -24   \n",
       "...          ...       ...                               ...       ...   \n",
       "540449   C581490     23144   ZINC T-LIGHT HOLDER STARS SMALL       -11   \n",
       "541541   C581499         M                            Manual        -1   \n",
       "541715   C581568     21258        VICTORIAN SEWING BOX LARGE        -5   \n",
       "541716   C581569     84978  HANGING HEART JAR T-LIGHT HOLDER        -1   \n",
       "541717   C581569     20979     36 PENCILS TUBE RED RETROSPOT        -5   \n",
       "\n",
       "               InvoiceDate  UnitPrice  CustomerID         Country  \\\n",
       "141    2010-12-01 09:41:00      27.50       14527  United Kingdom   \n",
       "154    2010-12-01 09:49:00       4.65       15311  United Kingdom   \n",
       "235    2010-12-01 10:24:00       1.65       17548  United Kingdom   \n",
       "236    2010-12-01 10:24:00       0.29       17548  United Kingdom   \n",
       "237    2010-12-01 10:24:00       0.29       17548  United Kingdom   \n",
       "...                    ...        ...         ...             ...   \n",
       "540449 2011-12-09 09:57:00       0.83       14397  United Kingdom   \n",
       "541541 2011-12-09 10:28:00     224.69       15498  United Kingdom   \n",
       "541715 2011-12-09 11:57:00      10.95       15311  United Kingdom   \n",
       "541716 2011-12-09 11:58:00       1.25       17315  United Kingdom   \n",
       "541717 2011-12-09 11:58:00       1.25       17315  United Kingdom   \n",
       "\n",
       "        IsCancellation  IsReturn  Is_Return  \n",
       "141               True      True       True  \n",
       "154               True      True       True  \n",
       "235               True      True       True  \n",
       "236               True      True       True  \n",
       "237               True      True       True  \n",
       "...                ...       ...        ...  \n",
       "540449            True      True       True  \n",
       "541541            True      True       True  \n",
       "541715            True      True       True  \n",
       "541716            True      True       True  \n",
       "541717            True      True       True  \n",
       "\n",
       "[9251 rows x 11 columns]"
      ]
     },
     "execution_count": 17,
     "metadata": {},
     "output_type": "execute_result"
    }
   ],
   "source": [
    "df_cleaned[df_cleaned['Is_Return']]\n"
   ]
  },
  {
   "cell_type": "markdown",
   "id": "17b263f6-455e-410f-aa86-2950cfa99d58",
   "metadata": {},
   "source": [
    "Flag and remove cancels/returns\n",
    "\n",
    "Cancellations: InvoiceNo starts with \"C\"\n",
    "\n",
    "Returns: negative Quantity"
   ]
  },
  {
   "cell_type": "code",
   "execution_count": 18,
   "id": "056b4d9e-b520-489b-af34-03859da0670f",
   "metadata": {},
   "outputs": [],
   "source": [
    "df_cleaned['IsCancelled'] = df_cleaned['InvoiceNo'].str.startswith('C')\n",
    "df_cleaned['IsReturn']    = df_cleaned['Quantity'] < 0\n",
    "df_cleaned = df_cleaned[~df_cleaned['IsCancelled']]  # drop cancels\n"
   ]
  },
  {
   "cell_type": "markdown",
   "id": "9722fb86-de99-407a-a002-79484c7d805b",
   "metadata": {},
   "source": [
    " count rows where a field is ≤ 0 (i.e. “less than or equal to zero”). I’ll show both UnitPrice and Quantity:\n",
    "\n"
   ]
  },
  {
   "cell_type": "code",
   "execution_count": 19,
   "id": "4b4fea5f-6a52-43ce-ae9c-a9675a69bc43",
   "metadata": {},
   "outputs": [
    {
     "name": "stdout",
     "output_type": "stream",
     "text": [
      "Rows with UnitPrice ≤ 0: 1058\n"
     ]
    }
   ],
   "source": [
    "# Count non-positive unit prices\n",
    "non_pos_price_mask = df_cleaned['UnitPrice'] <= 0\n",
    "num_non_pos_price = non_pos_price_mask.sum()\n",
    "print(f\"Rows with UnitPrice ≤ 0: {num_non_pos_price}\")\n"
   ]
  },
  {
   "cell_type": "code",
   "execution_count": 20,
   "id": "7b880b0a-6c23-4640-86ac-6e1c2b68fa05",
   "metadata": {},
   "outputs": [
    {
     "name": "stdout",
     "output_type": "stream",
     "text": [
      "Rows with Quantity < 0: 474\n"
     ]
    }
   ],
   "source": [
    "# Count negative quantities (returns)\n",
    "neg_qty_mask = df_cleaned['Quantity'] < 0\n",
    "num_neg_qty = neg_qty_mask.sum()\n",
    "print(f\"Rows with Quantity < 0: {num_neg_qty}\")\n"
   ]
  },
  {
   "cell_type": "markdown",
   "id": "3572d67e-03fc-46a0-8998-93cc4d84fe57",
   "metadata": {},
   "source": [
    "Audit and Understand Identify context\n",
    "\n",
    "Are zero‐priced lines genuine promotions or data entry errors?\n",
    "\n",
    "Are negative quantities always returns/cancellations or occasional corrections?"
   ]
  },
  {
   "cell_type": "code",
   "execution_count": 21,
   "id": "450d6bed-ff59-4e11-84cf-2ec0a61bc4fd",
   "metadata": {},
   "outputs": [
    {
     "data": {
      "text/html": [
       "<div>\n",
       "<style scoped>\n",
       "    .dataframe tbody tr th:only-of-type {\n",
       "        vertical-align: middle;\n",
       "    }\n",
       "\n",
       "    .dataframe tbody tr th {\n",
       "        vertical-align: top;\n",
       "    }\n",
       "\n",
       "    .dataframe thead th {\n",
       "        text-align: right;\n",
       "    }\n",
       "</style>\n",
       "<table border=\"1\" class=\"dataframe\">\n",
       "  <thead>\n",
       "    <tr style=\"text-align: right;\">\n",
       "      <th></th>\n",
       "      <th>Quantity</th>\n",
       "      <th>InvoiceDate</th>\n",
       "      <th>UnitPrice</th>\n",
       "      <th>CustomerID</th>\n",
       "    </tr>\n",
       "  </thead>\n",
       "  <tbody>\n",
       "    <tr>\n",
       "      <th>count</th>\n",
       "      <td>1058.00</td>\n",
       "      <td>1058</td>\n",
       "      <td>1058.00</td>\n",
       "      <td>1058.00</td>\n",
       "    </tr>\n",
       "    <tr>\n",
       "      <th>mean</th>\n",
       "      <td>-114.13</td>\n",
       "      <td>2011-06-28 01:52:12.646502912</td>\n",
       "      <td>-20.91</td>\n",
       "      <td>537.51</td>\n",
       "    </tr>\n",
       "    <tr>\n",
       "      <th>min</th>\n",
       "      <td>-9600.00</td>\n",
       "      <td>2010-12-03 12:08:00</td>\n",
       "      <td>-11062.06</td>\n",
       "      <td>0.00</td>\n",
       "    </tr>\n",
       "    <tr>\n",
       "      <th>25%</th>\n",
       "      <td>-57.00</td>\n",
       "      <td>2011-03-11 16:21:45</td>\n",
       "      <td>0.00</td>\n",
       "      <td>0.00</td>\n",
       "    </tr>\n",
       "    <tr>\n",
       "      <th>50%</th>\n",
       "      <td>1.00</td>\n",
       "      <td>2011-06-28 14:01:00</td>\n",
       "      <td>0.00</td>\n",
       "      <td>0.00</td>\n",
       "    </tr>\n",
       "    <tr>\n",
       "      <th>75%</th>\n",
       "      <td>2.00</td>\n",
       "      <td>2011-10-28 09:58:15</td>\n",
       "      <td>0.00</td>\n",
       "      <td>0.00</td>\n",
       "    </tr>\n",
       "    <tr>\n",
       "      <th>max</th>\n",
       "      <td>12540.00</td>\n",
       "      <td>2011-12-08 15:24:00</td>\n",
       "      <td>0.00</td>\n",
       "      <td>18059.00</td>\n",
       "    </tr>\n",
       "    <tr>\n",
       "      <th>std</th>\n",
       "      <td>778.71</td>\n",
       "      <td>NaN</td>\n",
       "      <td>480.73</td>\n",
       "      <td>2731.97</td>\n",
       "    </tr>\n",
       "  </tbody>\n",
       "</table>\n",
       "</div>"
      ],
      "text/plain": [
       "       Quantity                    InvoiceDate  UnitPrice  CustomerID\n",
       "count   1058.00                           1058    1058.00     1058.00\n",
       "mean    -114.13  2011-06-28 01:52:12.646502912     -20.91      537.51\n",
       "min    -9600.00            2010-12-03 12:08:00  -11062.06        0.00\n",
       "25%      -57.00            2011-03-11 16:21:45       0.00        0.00\n",
       "50%        1.00            2011-06-28 14:01:00       0.00        0.00\n",
       "75%        2.00            2011-10-28 09:58:15       0.00        0.00\n",
       "max    12540.00            2011-12-08 15:24:00       0.00    18059.00\n",
       "std      778.71                            NaN     480.73     2731.97"
      ]
     },
     "execution_count": 21,
     "metadata": {},
     "output_type": "execute_result"
    }
   ],
   "source": [
    "#Examine extreme values\n",
    "\n",
    "df_cleaned[df_cleaned['UnitPrice'] <= 0].describe()"
   ]
  },
  {
   "cell_type": "code",
   "execution_count": 22,
   "id": "e7c731db-c5d6-4400-ae51-337cfe6940aa",
   "metadata": {},
   "outputs": [
    {
     "data": {
      "text/plain": [
       "InvoiceNo\n",
       "False    474\n",
       "dtype: int64"
      ]
     },
     "execution_count": 22,
     "metadata": {},
     "output_type": "execute_result"
    }
   ],
   "source": [
    "df_cleaned[df_cleaned['Quantity'] < 0].groupby(df_cleaned['InvoiceNo'].str.startswith('C')).size()\n"
   ]
  },
  {
   "cell_type": "markdown",
   "id": "0c070953-7388-4cfc-987f-264dd712e5b8",
   "metadata": {},
   "source": [
    "in quantity there is typo error of 474"
   ]
  },
  {
   "cell_type": "markdown",
   "id": "672dcae4-4476-403e-b418-77f54b58d58a",
   "metadata": {},
   "source": [
    "Remove zero or negative unit prices"
   ]
  },
  {
   "cell_type": "code",
   "execution_count": 23,
   "id": "7eddde72-2db0-40b9-bd56-1a818704dfc5",
   "metadata": {},
   "outputs": [],
   "source": [
    "df_cleaned= df_cleaned[df_cleaned['UnitPrice'] > 0]\n"
   ]
  },
  {
   "cell_type": "markdown",
   "id": "562ed2e9-1c35-42d3-b6db-e6c0c318d62a",
   "metadata": {},
   "source": [
    "Feature Engineering & Transformation"
   ]
  },
  {
   "cell_type": "code",
   "execution_count": 24,
   "id": "b8bd1b1f-d65c-49a7-b6f2-3a58ec46340b",
   "metadata": {},
   "outputs": [],
   "source": [
    "#Compute total transaction value\n",
    "df_cleaned['TotalPrice'] = df_cleaned['Quantity'] * df_cleaned['UnitPrice']\n"
   ]
  },
  {
   "cell_type": "code",
   "execution_count": 25,
   "id": "cbe36354-0df9-4bbc-84b5-fec112de7228",
   "metadata": {},
   "outputs": [],
   "source": [
    "#Extract temporal features\n",
    "\n",
    "df_cleaned['Year']  = df_cleaned['InvoiceDate'].dt.year\n",
    "df_cleaned['Month'] = df_cleaned['InvoiceDate'].dt.month\n",
    "df_cleaned['Day']   = df_cleaned['InvoiceDate'].dt.day\n",
    "df_cleaned['Hour']  = df_cleaned['InvoiceDate'].dt.hour\n"
   ]
  },
  {
   "cell_type": "markdown",
   "id": "da5526c3-5ce0-43b0-bd01-55a27ab9e295",
   "metadata": {},
   "source": [
    "Flag promotions or outliers\n",
    "\n",
    "Outlier quantity: beyond 99th percentile\n",
    "\n",
    "Outlier price: beyond 99th percentile"
   ]
  },
  {
   "cell_type": "code",
   "execution_count": 26,
   "id": "fa326c96-1d4f-437f-918d-d2658c3a5cd1",
   "metadata": {},
   "outputs": [],
   "source": [
    "q_upper = df_cleaned['Quantity'].quantile(0.99)\n",
    "p_upper = df_cleaned['UnitPrice'].quantile(0.99)\n",
    "\n",
    "df_cleaned['Qty_Outlier']   = df_cleaned['Quantity'] > q_upper\n",
    "df_cleaned['Price_Outlier'] = df_cleaned['UnitPrice'] > p_upper\n"
   ]
  },
  {
   "cell_type": "markdown",
   "id": "182a8927-4281-46ba-8f94-f60befbcb0cb",
   "metadata": {},
   "source": [
    "Clean country names (optional)"
   ]
  },
  {
   "cell_type": "code",
   "execution_count": 27,
   "id": "31e7214a-0307-4a07-938f-a47e89d7d149",
   "metadata": {},
   "outputs": [],
   "source": [
    "df_cleaned['Country'] = df_cleaned['Country'].str.strip().str.title()\n"
   ]
  },
  {
   "cell_type": "code",
   "execution_count": 28,
   "id": "26cf4a3d-1e24-4c1f-8e85-729bc50233e4",
   "metadata": {},
   "outputs": [],
   "source": [
    "df_cleaned['Description'] = df_cleaned['Description'].str.strip()"
   ]
  },
  {
   "cell_type": "code",
   "execution_count": 29,
   "id": "350f9afd-9c77-4dde-afa8-8127332e7810",
   "metadata": {},
   "outputs": [],
   "source": [
    "# If there are other text columns, e.g., InvoiceNo or StockCode, strip them too:\n",
    "df_cleaned['InvoiceNo'] = df_cleaned['InvoiceNo'].str.strip()\n",
    "df_cleaned['StockCode'] = df_cleaned['StockCode'].str.strip()\n"
   ]
  },
  {
   "cell_type": "markdown",
   "id": "1923e626-6c7d-409b-a359-6e5f3e1c32d1",
   "metadata": {},
   "source": [
    "Final Checkpoint\n",
    "Inspect the cleaned dataframe and export if needed:"
   ]
  },
  {
   "cell_type": "code",
   "execution_count": 30,
   "id": "0b54b01a-1d59-4988-a315-da7d9ee665cf",
   "metadata": {},
   "outputs": [
    {
     "name": "stdout",
     "output_type": "stream",
     "text": [
      "<class 'pandas.core.frame.DataFrame'>\n",
      "Index: 524878 entries, 0 to 541908\n",
      "Data columns (total 19 columns):\n",
      " #   Column          Non-Null Count   Dtype         \n",
      "---  ------          --------------   -----         \n",
      " 0   InvoiceNo       524878 non-null  object        \n",
      " 1   StockCode       524878 non-null  object        \n",
      " 2   Description     524878 non-null  object        \n",
      " 3   Quantity        524878 non-null  int64         \n",
      " 4   InvoiceDate     524878 non-null  datetime64[ns]\n",
      " 5   UnitPrice       524878 non-null  float64       \n",
      " 6   CustomerID      524878 non-null  int32         \n",
      " 7   Country         524878 non-null  object        \n",
      " 8   IsCancellation  524878 non-null  bool          \n",
      " 9   IsReturn        524878 non-null  bool          \n",
      " 10  Is_Return       524878 non-null  bool          \n",
      " 11  IsCancelled     524878 non-null  bool          \n",
      " 12  TotalPrice      524878 non-null  float64       \n",
      " 13  Year            524878 non-null  int32         \n",
      " 14  Month           524878 non-null  int32         \n",
      " 15  Day             524878 non-null  int32         \n",
      " 16  Hour            524878 non-null  int32         \n",
      " 17  Qty_Outlier     524878 non-null  bool          \n",
      " 18  Price_Outlier   524878 non-null  bool          \n",
      "dtypes: bool(6), datetime64[ns](1), float64(2), int32(5), int64(1), object(4)\n",
      "memory usage: 49.1+ MB\n",
      "None\n",
      "       InvoiceNo StockCode                         Description  Quantity  \\\n",
      "count     524878    524878                              524878 524878.00   \n",
      "unique     19960      3922                                4015       NaN   \n",
      "top       573585    85123A  WHITE HANGING HEART T-LIGHT HOLDER       NaN   \n",
      "freq        1114      2253                                2311       NaN   \n",
      "mean         NaN       NaN                                 NaN     10.62   \n",
      "min          NaN       NaN                                 NaN      1.00   \n",
      "25%          NaN       NaN                                 NaN      1.00   \n",
      "50%          NaN       NaN                                 NaN      4.00   \n",
      "75%          NaN       NaN                                 NaN     11.00   \n",
      "max          NaN       NaN                                 NaN  80995.00   \n",
      "std          NaN       NaN                                 NaN    156.28   \n",
      "\n",
      "                          InvoiceDate  UnitPrice  CustomerID         Country  \\\n",
      "count                          524878  524878.00   524878.00          524878   \n",
      "unique                            NaN        NaN         NaN              38   \n",
      "top                               NaN        NaN         NaN  United Kingdom   \n",
      "freq                              NaN        NaN         NaN          479985   \n",
      "mean    2011-07-04 15:30:16.317049088       3.92    11437.73             NaN   \n",
      "min               2010-12-01 08:26:00       0.00        0.00             NaN   \n",
      "25%               2011-03-28 12:13:00       1.25        0.00             NaN   \n",
      "50%               2011-07-20 11:22:00       2.08    14350.00             NaN   \n",
      "75%               2011-10-19 11:41:00       4.13    16245.00             NaN   \n",
      "max               2011-12-09 12:50:00   13541.33    18287.00             NaN   \n",
      "std                               NaN      36.09     6799.51             NaN   \n",
      "\n",
      "       IsCancellation IsReturn Is_Return IsCancelled  TotalPrice      Year  \\\n",
      "count          524878   524878    524878      524878   524878.00 524878.00   \n",
      "unique              1        1         1           1         NaN       NaN   \n",
      "top             False    False     False       False         NaN       NaN   \n",
      "freq           524878   524878    524878      524878         NaN       NaN   \n",
      "mean              NaN      NaN       NaN         NaN       20.28   2010.92   \n",
      "min               NaN      NaN       NaN         NaN        0.00   2010.00   \n",
      "25%               NaN      NaN       NaN         NaN        3.90   2011.00   \n",
      "50%               NaN      NaN       NaN         NaN        9.92   2011.00   \n",
      "75%               NaN      NaN       NaN         NaN       17.70   2011.00   \n",
      "max               NaN      NaN       NaN         NaN   168469.60   2011.00   \n",
      "std               NaN      NaN       NaN         NaN      271.69      0.27   \n",
      "\n",
      "           Month       Day      Hour Qty_Outlier Price_Outlier  \n",
      "count  524878.00 524878.00 524878.00      524878        524878  \n",
      "unique       NaN       NaN       NaN           2             2  \n",
      "top          NaN       NaN       NaN       False         False  \n",
      "freq         NaN       NaN       NaN      520031        519804  \n",
      "mean        7.55     15.02     13.07         NaN           NaN  \n",
      "min         1.00      1.00      6.00         NaN           NaN  \n",
      "25%         5.00      7.00     11.00         NaN           NaN  \n",
      "50%         8.00     15.00     13.00         NaN           NaN  \n",
      "75%        11.00     22.00     15.00         NaN           NaN  \n",
      "max        12.00     31.00     20.00         NaN           NaN  \n",
      "std         3.51      8.66      2.44         NaN           NaN  \n"
     ]
    }
   ],
   "source": [
    "print(df_cleaned.info())\n",
    "print(df_cleaned.describe(include='all'))"
   ]
  },
  {
   "cell_type": "code",
   "execution_count": 31,
   "id": "f29f1064-ccbf-4892-8320-70d41893e4b0",
   "metadata": {},
   "outputs": [],
   "source": [
    "\n",
    "# Optional: save to new file\n",
    "df_cleaned.to_csv(\"Online_Retail_Cleaned.csv\", index=False)\n"
   ]
  },
  {
   "cell_type": "markdown",
   "id": "5d999660-7928-4c07-a87a-8db5d392a201",
   "metadata": {},
   "source": [
    "exploratory data analysis (EDA) on \"Online Retail.xlsx\" file"
   ]
  },
  {
   "cell_type": "code",
   "execution_count": 32,
   "id": "6b78e710-6cc1-4b31-8ba4-6e3cf7b80d2d",
   "metadata": {},
   "outputs": [
    {
     "data": {
      "text/html": [
       "<div>\n",
       "<style scoped>\n",
       "    .dataframe tbody tr th:only-of-type {\n",
       "        vertical-align: middle;\n",
       "    }\n",
       "\n",
       "    .dataframe tbody tr th {\n",
       "        vertical-align: top;\n",
       "    }\n",
       "\n",
       "    .dataframe thead th {\n",
       "        text-align: right;\n",
       "    }\n",
       "</style>\n",
       "<table border=\"1\" class=\"dataframe\">\n",
       "  <thead>\n",
       "    <tr style=\"text-align: right;\">\n",
       "      <th></th>\n",
       "      <th>InvoiceNo</th>\n",
       "      <th>StockCode</th>\n",
       "      <th>Description</th>\n",
       "      <th>Quantity</th>\n",
       "      <th>InvoiceDate</th>\n",
       "      <th>UnitPrice</th>\n",
       "      <th>CustomerID</th>\n",
       "      <th>Country</th>\n",
       "      <th>IsCancellation</th>\n",
       "      <th>IsReturn</th>\n",
       "      <th>Is_Return</th>\n",
       "      <th>IsCancelled</th>\n",
       "      <th>TotalPrice</th>\n",
       "      <th>Year</th>\n",
       "      <th>Month</th>\n",
       "      <th>Day</th>\n",
       "      <th>Hour</th>\n",
       "      <th>Qty_Outlier</th>\n",
       "      <th>Price_Outlier</th>\n",
       "    </tr>\n",
       "  </thead>\n",
       "  <tbody>\n",
       "    <tr>\n",
       "      <th>count</th>\n",
       "      <td>524878</td>\n",
       "      <td>524878</td>\n",
       "      <td>524878</td>\n",
       "      <td>524878.00</td>\n",
       "      <td>524878</td>\n",
       "      <td>524878.00</td>\n",
       "      <td>524878.00</td>\n",
       "      <td>524878</td>\n",
       "      <td>524878</td>\n",
       "      <td>524878</td>\n",
       "      <td>524878</td>\n",
       "      <td>524878</td>\n",
       "      <td>524878.00</td>\n",
       "      <td>524878.00</td>\n",
       "      <td>524878.00</td>\n",
       "      <td>524878.00</td>\n",
       "      <td>524878.00</td>\n",
       "      <td>524878</td>\n",
       "      <td>524878</td>\n",
       "    </tr>\n",
       "    <tr>\n",
       "      <th>unique</th>\n",
       "      <td>19960</td>\n",
       "      <td>3922</td>\n",
       "      <td>4015</td>\n",
       "      <td>NaN</td>\n",
       "      <td>NaN</td>\n",
       "      <td>NaN</td>\n",
       "      <td>NaN</td>\n",
       "      <td>38</td>\n",
       "      <td>1</td>\n",
       "      <td>1</td>\n",
       "      <td>1</td>\n",
       "      <td>1</td>\n",
       "      <td>NaN</td>\n",
       "      <td>NaN</td>\n",
       "      <td>NaN</td>\n",
       "      <td>NaN</td>\n",
       "      <td>NaN</td>\n",
       "      <td>2</td>\n",
       "      <td>2</td>\n",
       "    </tr>\n",
       "    <tr>\n",
       "      <th>top</th>\n",
       "      <td>573585</td>\n",
       "      <td>85123A</td>\n",
       "      <td>WHITE HANGING HEART T-LIGHT HOLDER</td>\n",
       "      <td>NaN</td>\n",
       "      <td>NaN</td>\n",
       "      <td>NaN</td>\n",
       "      <td>NaN</td>\n",
       "      <td>United Kingdom</td>\n",
       "      <td>False</td>\n",
       "      <td>False</td>\n",
       "      <td>False</td>\n",
       "      <td>False</td>\n",
       "      <td>NaN</td>\n",
       "      <td>NaN</td>\n",
       "      <td>NaN</td>\n",
       "      <td>NaN</td>\n",
       "      <td>NaN</td>\n",
       "      <td>False</td>\n",
       "      <td>False</td>\n",
       "    </tr>\n",
       "    <tr>\n",
       "      <th>freq</th>\n",
       "      <td>1114</td>\n",
       "      <td>2253</td>\n",
       "      <td>2311</td>\n",
       "      <td>NaN</td>\n",
       "      <td>NaN</td>\n",
       "      <td>NaN</td>\n",
       "      <td>NaN</td>\n",
       "      <td>479985</td>\n",
       "      <td>524878</td>\n",
       "      <td>524878</td>\n",
       "      <td>524878</td>\n",
       "      <td>524878</td>\n",
       "      <td>NaN</td>\n",
       "      <td>NaN</td>\n",
       "      <td>NaN</td>\n",
       "      <td>NaN</td>\n",
       "      <td>NaN</td>\n",
       "      <td>520031</td>\n",
       "      <td>519804</td>\n",
       "    </tr>\n",
       "    <tr>\n",
       "      <th>mean</th>\n",
       "      <td>NaN</td>\n",
       "      <td>NaN</td>\n",
       "      <td>NaN</td>\n",
       "      <td>10.62</td>\n",
       "      <td>2011-07-04 15:30:16.317049088</td>\n",
       "      <td>3.92</td>\n",
       "      <td>11437.73</td>\n",
       "      <td>NaN</td>\n",
       "      <td>NaN</td>\n",
       "      <td>NaN</td>\n",
       "      <td>NaN</td>\n",
       "      <td>NaN</td>\n",
       "      <td>20.28</td>\n",
       "      <td>2010.92</td>\n",
       "      <td>7.55</td>\n",
       "      <td>15.02</td>\n",
       "      <td>13.07</td>\n",
       "      <td>NaN</td>\n",
       "      <td>NaN</td>\n",
       "    </tr>\n",
       "    <tr>\n",
       "      <th>min</th>\n",
       "      <td>NaN</td>\n",
       "      <td>NaN</td>\n",
       "      <td>NaN</td>\n",
       "      <td>1.00</td>\n",
       "      <td>2010-12-01 08:26:00</td>\n",
       "      <td>0.00</td>\n",
       "      <td>0.00</td>\n",
       "      <td>NaN</td>\n",
       "      <td>NaN</td>\n",
       "      <td>NaN</td>\n",
       "      <td>NaN</td>\n",
       "      <td>NaN</td>\n",
       "      <td>0.00</td>\n",
       "      <td>2010.00</td>\n",
       "      <td>1.00</td>\n",
       "      <td>1.00</td>\n",
       "      <td>6.00</td>\n",
       "      <td>NaN</td>\n",
       "      <td>NaN</td>\n",
       "    </tr>\n",
       "    <tr>\n",
       "      <th>25%</th>\n",
       "      <td>NaN</td>\n",
       "      <td>NaN</td>\n",
       "      <td>NaN</td>\n",
       "      <td>1.00</td>\n",
       "      <td>2011-03-28 12:13:00</td>\n",
       "      <td>1.25</td>\n",
       "      <td>0.00</td>\n",
       "      <td>NaN</td>\n",
       "      <td>NaN</td>\n",
       "      <td>NaN</td>\n",
       "      <td>NaN</td>\n",
       "      <td>NaN</td>\n",
       "      <td>3.90</td>\n",
       "      <td>2011.00</td>\n",
       "      <td>5.00</td>\n",
       "      <td>7.00</td>\n",
       "      <td>11.00</td>\n",
       "      <td>NaN</td>\n",
       "      <td>NaN</td>\n",
       "    </tr>\n",
       "    <tr>\n",
       "      <th>50%</th>\n",
       "      <td>NaN</td>\n",
       "      <td>NaN</td>\n",
       "      <td>NaN</td>\n",
       "      <td>4.00</td>\n",
       "      <td>2011-07-20 11:22:00</td>\n",
       "      <td>2.08</td>\n",
       "      <td>14350.00</td>\n",
       "      <td>NaN</td>\n",
       "      <td>NaN</td>\n",
       "      <td>NaN</td>\n",
       "      <td>NaN</td>\n",
       "      <td>NaN</td>\n",
       "      <td>9.92</td>\n",
       "      <td>2011.00</td>\n",
       "      <td>8.00</td>\n",
       "      <td>15.00</td>\n",
       "      <td>13.00</td>\n",
       "      <td>NaN</td>\n",
       "      <td>NaN</td>\n",
       "    </tr>\n",
       "    <tr>\n",
       "      <th>75%</th>\n",
       "      <td>NaN</td>\n",
       "      <td>NaN</td>\n",
       "      <td>NaN</td>\n",
       "      <td>11.00</td>\n",
       "      <td>2011-10-19 11:41:00</td>\n",
       "      <td>4.13</td>\n",
       "      <td>16245.00</td>\n",
       "      <td>NaN</td>\n",
       "      <td>NaN</td>\n",
       "      <td>NaN</td>\n",
       "      <td>NaN</td>\n",
       "      <td>NaN</td>\n",
       "      <td>17.70</td>\n",
       "      <td>2011.00</td>\n",
       "      <td>11.00</td>\n",
       "      <td>22.00</td>\n",
       "      <td>15.00</td>\n",
       "      <td>NaN</td>\n",
       "      <td>NaN</td>\n",
       "    </tr>\n",
       "    <tr>\n",
       "      <th>max</th>\n",
       "      <td>NaN</td>\n",
       "      <td>NaN</td>\n",
       "      <td>NaN</td>\n",
       "      <td>80995.00</td>\n",
       "      <td>2011-12-09 12:50:00</td>\n",
       "      <td>13541.33</td>\n",
       "      <td>18287.00</td>\n",
       "      <td>NaN</td>\n",
       "      <td>NaN</td>\n",
       "      <td>NaN</td>\n",
       "      <td>NaN</td>\n",
       "      <td>NaN</td>\n",
       "      <td>168469.60</td>\n",
       "      <td>2011.00</td>\n",
       "      <td>12.00</td>\n",
       "      <td>31.00</td>\n",
       "      <td>20.00</td>\n",
       "      <td>NaN</td>\n",
       "      <td>NaN</td>\n",
       "    </tr>\n",
       "    <tr>\n",
       "      <th>std</th>\n",
       "      <td>NaN</td>\n",
       "      <td>NaN</td>\n",
       "      <td>NaN</td>\n",
       "      <td>156.28</td>\n",
       "      <td>NaN</td>\n",
       "      <td>36.09</td>\n",
       "      <td>6799.51</td>\n",
       "      <td>NaN</td>\n",
       "      <td>NaN</td>\n",
       "      <td>NaN</td>\n",
       "      <td>NaN</td>\n",
       "      <td>NaN</td>\n",
       "      <td>271.69</td>\n",
       "      <td>0.27</td>\n",
       "      <td>3.51</td>\n",
       "      <td>8.66</td>\n",
       "      <td>2.44</td>\n",
       "      <td>NaN</td>\n",
       "      <td>NaN</td>\n",
       "    </tr>\n",
       "  </tbody>\n",
       "</table>\n",
       "</div>"
      ],
      "text/plain": [
       "       InvoiceNo StockCode                         Description  Quantity  \\\n",
       "count     524878    524878                              524878 524878.00   \n",
       "unique     19960      3922                                4015       NaN   \n",
       "top       573585    85123A  WHITE HANGING HEART T-LIGHT HOLDER       NaN   \n",
       "freq        1114      2253                                2311       NaN   \n",
       "mean         NaN       NaN                                 NaN     10.62   \n",
       "min          NaN       NaN                                 NaN      1.00   \n",
       "25%          NaN       NaN                                 NaN      1.00   \n",
       "50%          NaN       NaN                                 NaN      4.00   \n",
       "75%          NaN       NaN                                 NaN     11.00   \n",
       "max          NaN       NaN                                 NaN  80995.00   \n",
       "std          NaN       NaN                                 NaN    156.28   \n",
       "\n",
       "                          InvoiceDate  UnitPrice  CustomerID         Country  \\\n",
       "count                          524878  524878.00   524878.00          524878   \n",
       "unique                            NaN        NaN         NaN              38   \n",
       "top                               NaN        NaN         NaN  United Kingdom   \n",
       "freq                              NaN        NaN         NaN          479985   \n",
       "mean    2011-07-04 15:30:16.317049088       3.92    11437.73             NaN   \n",
       "min               2010-12-01 08:26:00       0.00        0.00             NaN   \n",
       "25%               2011-03-28 12:13:00       1.25        0.00             NaN   \n",
       "50%               2011-07-20 11:22:00       2.08    14350.00             NaN   \n",
       "75%               2011-10-19 11:41:00       4.13    16245.00             NaN   \n",
       "max               2011-12-09 12:50:00   13541.33    18287.00             NaN   \n",
       "std                               NaN      36.09     6799.51             NaN   \n",
       "\n",
       "       IsCancellation IsReturn Is_Return IsCancelled  TotalPrice      Year  \\\n",
       "count          524878   524878    524878      524878   524878.00 524878.00   \n",
       "unique              1        1         1           1         NaN       NaN   \n",
       "top             False    False     False       False         NaN       NaN   \n",
       "freq           524878   524878    524878      524878         NaN       NaN   \n",
       "mean              NaN      NaN       NaN         NaN       20.28   2010.92   \n",
       "min               NaN      NaN       NaN         NaN        0.00   2010.00   \n",
       "25%               NaN      NaN       NaN         NaN        3.90   2011.00   \n",
       "50%               NaN      NaN       NaN         NaN        9.92   2011.00   \n",
       "75%               NaN      NaN       NaN         NaN       17.70   2011.00   \n",
       "max               NaN      NaN       NaN         NaN   168469.60   2011.00   \n",
       "std               NaN      NaN       NaN         NaN      271.69      0.27   \n",
       "\n",
       "           Month       Day      Hour Qty_Outlier Price_Outlier  \n",
       "count  524878.00 524878.00 524878.00      524878        524878  \n",
       "unique       NaN       NaN       NaN           2             2  \n",
       "top          NaN       NaN       NaN       False         False  \n",
       "freq         NaN       NaN       NaN      520031        519804  \n",
       "mean        7.55     15.02     13.07         NaN           NaN  \n",
       "min         1.00      1.00      6.00         NaN           NaN  \n",
       "25%         5.00      7.00     11.00         NaN           NaN  \n",
       "50%         8.00     15.00     13.00         NaN           NaN  \n",
       "75%        11.00     22.00     15.00         NaN           NaN  \n",
       "max        12.00     31.00     20.00         NaN           NaN  \n",
       "std         3.51      8.66      2.44         NaN           NaN  "
      ]
     },
     "execution_count": 32,
     "metadata": {},
     "output_type": "execute_result"
    }
   ],
   "source": [
    "df_cleaned.describe(include='all')\n"
   ]
  },
  {
   "cell_type": "code",
   "execution_count": 33,
   "id": "e6b0bc08-6265-495c-a978-a3293b854108",
   "metadata": {},
   "outputs": [
    {
     "data": {
      "text/plain": [
       "<Axes: xlabel='UnitPrice', ylabel='Count'>"
      ]
     },
     "execution_count": 33,
     "metadata": {},
     "output_type": "execute_result"
    },
    {
     "data": {
      "image/png": "[encoded data removed]",
      "text/plain": [
       "<Figure size 640x480 with 1 Axes>"
      ]
     },
     "metadata": {},
     "output_type": "display_data"
    }
   ],
   "source": [
    "sns.histplot(df_cleaned['UnitPrice'], bins=50)\n",
    "sns.histplot(df_cleaned['Quantity'], bins=50)\n"
   ]
  },
  {
   "cell_type": "code",
   "execution_count": 34,
   "id": "9ee553e5-1321-4e45-97ac-7d4df81b81da",
   "metadata": {},
   "outputs": [
    {
     "data": {
      "text/plain": [
       "<Axes: xlabel='InvoiceDate'>"
      ]
     },
     "execution_count": 34,
     "metadata": {},
     "output_type": "execute_result"
    },
    {
     "data": {
      "image/png": "[encoded data removed]",
      "text/plain": [
       "<Figure size 640x480 with 1 Axes>"
      ]
     },
     "metadata": {},
     "output_type": "display_data"
    }
   ],
   "source": [
    "#Explore purchasing patterns over time:\n",
    "\n",
    "df_cleaned.set_index('InvoiceDate').resample('D').sum()['Quantity'].plot()\n"
   ]
  },
  {
   "cell_type": "code",
   "execution_count": 35,
   "id": "9d37e3a6-fe86-45dc-bb0a-272807cc0030",
   "metadata": {},
   "outputs": [
    {
     "data": {
      "text/plain": [
       "<Axes: ylabel='Description'>"
      ]
     },
     "execution_count": 35,
     "metadata": {},
     "output_type": "execute_result"
    },
    {
     "data": {
      "image/png": "[encoded data removed]",
      "text/plain": [
       "<Figure size 640x480 with 1 Axes>"
      ]
     },
     "metadata": {},
     "output_type": "display_data"
    }
   ],
   "source": [
    "#Top-selling products:\n",
    "\n",
    "top_products = df_cleaned.groupby('Description')['Quantity'].sum().sort_values(ascending=False).head(10)\n",
    "top_products.plot(kind='barh')\n"
   ]
  },
  {
   "cell_type": "code",
   "execution_count": 36,
   "id": "ad936725-6328-446f-bde3-4722dd02d4bb",
   "metadata": {},
   "outputs": [
    {
     "data": {
      "text/plain": [
       "<Axes: xlabel='Country'>"
      ]
     },
     "execution_count": 36,
     "metadata": {},
     "output_type": "execute_result"
    },
    {
     "data": {
      "image/png": "[encoded data removed]",
      "text/plain": [
       "<Figure size 640x480 with 1 Axes>"
      ]
     },
     "metadata": {},
     "output_type": "display_data"
    }
   ],
   "source": [
    "#Customer Segmentation\n",
    "#Find out where the customers are and how they behave:\n",
    "df_cleaned['Country'].value_counts().plot(kind='bar')\n"
   ]
  },
  {
   "cell_type": "code",
   "execution_count": 37,
   "id": "4d5b189c-a8fd-4e17-90ba-76c2e5fdab4c",
   "metadata": {},
   "outputs": [
    {
     "data": {
      "application/vnd.jupyter.widget-view+json": {
       "model_id": "17621ceee5454f8aa6cff28bd8c3b28d",
       "version_major": 2,
       "version_minor": 0
      },
      "text/plain": [
       "                                             |          | [  0%]   00:00 -> (? left)"
      ]
     },
     "metadata": {},
     "output_type": "display_data"
    },
    {
     "name": "stdout",
     "output_type": "stream",
     "text": [
      "Report SWEETVIZ_REPORT.html was generated! NOTEBOOK/COLAB USERS: the web browser MAY not pop up, regardless, the report IS saved in your notebook/colab files.\n"
     ]
    }
   ],
   "source": [
    "sv.analyze(df_cleaned).show_html()"
   ]
  },
  {
   "cell_type": "code",
   "execution_count": 39,
   "id": "66fa250e-997e-4889-859f-ed92891a2ddf",
   "metadata": {},
   "outputs": [],
   "source": [
    "snapshot_date = df_rfm_prep['InvoiceDate'].max() + pd.Timedelta(days=1)\n"
   ]
  },
  {
   "cell_type": "code",
   "execution_count": 45,
   "id": "0b93e0ee-9114-45ce-bee4-b2a667800fb2",
   "metadata": {},
   "outputs": [],
   "source": [
    "#Compute RFM Metrics\n",
    "\n",
    "rfm = df_rfm_prep.groupby('CustomerID').agg({\n",
    "    'InvoiceDate': lambda x: (snapshot_date - x.max()).days,\n",
    "    'InvoiceNo':    'nunique',\n",
    "    'Quantity':     lambda x: (x * df_rfm_prep.loc[x.index, 'UnitPrice']).sum()\n",
    "}).rename(columns={\n",
    "    'InvoiceDate': 'Recency',\n",
    "    'InvoiceNo':   'Frequency',\n",
    "    'Quantity':    'Monetary'\n",
    "})\n"
   ]
  },
  {
   "cell_type": "markdown",
   "id": "b54efca6-7006-4ef8-9dab-d303dd4c99f7",
   "metadata": {},
   "source": [
    "Performing RFM Analysis Step by Step\n",
    "Below is a complete walkthrough—using your df_cleaned DataFrame—to calculate Recency, Frequency, and Monetary values, assign RFM scores (1–5), and label customer segments."
   ]
  },
  {
   "cell_type": "code",
   "execution_count": 47,
   "id": "dc09c5a1-aaf2-495c-b25e-bd46bdb497a2",
   "metadata": {},
   "outputs": [],
   "source": [
    "import pandas as pd\n",
    "from datetime import timedelta\n",
    "\n",
    "# 1.1 Filter out returns/cancellations and missing customers\n",
    "df= df_cleaned.copy()\n",
    "df = df[df['Quantity'] > 0]                     # drop negative or zero quantities\n",
    "df = df[df['UnitPrice'] > 0]                    # drop free or negative‐priced items\n",
    "df = df.dropna(subset=['CustomerID'])           # ensure every row has a CustomerID\n",
    "\n",
    "# 1.2 Calculate total spend per line\n",
    "df['TotalPrice'] = df['Quantity'] * df['UnitPrice']\n"
   ]
  },
  {
   "cell_type": "markdown",
   "id": "5d4e6b7d-57aa-483a-9473-d13f5a084e55",
   "metadata": {},
   "source": [
    "Compute RFM Metrics"
   ]
  },
  {
   "cell_type": "code",
   "execution_count": 48,
   "id": "6b7a8ac1-9e21-4344-b483-7727ab29e59c",
   "metadata": {},
   "outputs": [],
   "source": [
    "# 2.1 Reference date (one day after last invoice in data)\n",
    "reference_date = df['InvoiceDate'].max() + timedelta(days=1)\n"
   ]
  },
  {
   "cell_type": "code",
   "execution_count": 49,
   "id": "6fcdf8bc-399b-4f7a-b951-d38d652babaf",
   "metadata": {},
   "outputs": [],
   "source": [
    "# 2.2 Recency: days since last purchase\n",
    "recency = (\n",
    "    df.groupby('CustomerID')['InvoiceDate']\n",
    "      .max()\n",
    "      .reset_index()\n",
    "      .rename(columns={'InvoiceDate': 'LastPurchaseDate'})\n",
    ")\n",
    "recency['Recency'] = (reference_date - recency['LastPurchaseDate']).dt.days\n",
    "\n"
   ]
  },
  {
   "cell_type": "code",
   "execution_count": 50,
   "id": "aabf8f98-05c8-4db0-a8f4-8b11e5ef3dee",
   "metadata": {},
   "outputs": [],
   "source": [
    "# 2.3 Frequency: count of unique invoices\n",
    "frequency = (\n",
    "    df.groupby('CustomerID')['InvoiceNo']\n",
    "      .nunique()\n",
    "      .reset_index()\n",
    "      .rename(columns={'InvoiceNo': 'Frequency'})\n",
    ")\n"
   ]
  },
  {
   "cell_type": "code",
   "execution_count": 51,
   "id": "3fcaad96-7121-4140-952b-30a61d0ffa1f",
   "metadata": {},
   "outputs": [],
   "source": [
    "# 2.4 Monetary: total spend per customer\n",
    "monetary = (\n",
    "    df.groupby('CustomerID')['TotalPrice']\n",
    "      .sum()\n",
    "      .reset_index()\n",
    "      .rename(columns={'TotalPrice': 'Monetary'})\n",
    ")\n",
    "\n"
   ]
  },
  {
   "cell_type": "code",
   "execution_count": 52,
   "id": "6788a09f-41b1-46a5-ba6f-5c44015f952f",
   "metadata": {},
   "outputs": [],
   "source": [
    "# 2.5 Merge into one RFM table\n",
    "rfm = recency.merge(frequency, on='CustomerID') \\\n",
    "             .merge(monetary, on='CustomerID')\n"
   ]
  },
  {
   "cell_type": "markdown",
   "id": "c78e91ca-3413-48a1-91f0-1d46d4969cb0",
   "metadata": {},
   "source": [
    "Assign RFM Scores (1 = worst, 5 = best)"
   ]
  },
  {
   "cell_type": "code",
   "execution_count": 53,
   "id": "f80f19b6-85bc-4159-883b-917996f486cb",
   "metadata": {},
   "outputs": [],
   "source": [
    "# 3.1 Recency score (inverse: lower recency → higher score)\n",
    "rfm['R_Score'] = pd.qcut(rfm['Recency'], 5, labels=[5,4,3,2,1]).astype(int)\n"
   ]
  },
  {
   "cell_type": "code",
   "execution_count": 54,
   "id": "4aa45ba5-2a30-47c3-9bf0-a95aee75a9a5",
   "metadata": {},
   "outputs": [],
   "source": [
    "# 1. Compute percentile rank for each Frequency\n",
    "rfm['FreqRankPct'] = rfm['Frequency'].rank(pct=True)\n",
    "\n",
    "# 2. Bin into five equal percentile groups\n",
    "rfm['F_Score'] = pd.cut(\n",
    "    rfm['FreqRankPct'],\n",
    "    bins=[0, 0.2, 0.4, 0.6, 0.8, 1.0],\n",
    "    labels=[1, 2, 3, 4, 5]\n",
    ").astype(int)\n",
    "\n",
    "# 3. Drop helper column if you like\n",
    "rfm.drop(columns=['FreqRankPct'], inplace=True)\n"
   ]
  },
  {
   "cell_type": "markdown",
   "id": "c39f434f-f6d4-49b1-9817-5c6a2219ad7a",
   "metadata": {},
   "source": [
    "This approach always creates exactly five bins because it’s based on the unique rank percentiles."
   ]
  },
  {
   "cell_type": "code",
   "execution_count": 55,
   "id": "6d178974-bef3-4598-acea-3f77ab3480b0",
   "metadata": {},
   "outputs": [],
   "source": [
    "# 3.3 Monetary score\n",
    "rfm['M_Score'] = pd.qcut(rfm['Monetary'], 5, labels=[1,2,3,4,5]).astype(int)\n"
   ]
  },
  {
   "cell_type": "code",
   "execution_count": 56,
   "id": "9e149dc3-fa3d-4e14-a1c4-4e94914d9ba3",
   "metadata": {},
   "outputs": [],
   "source": [
    "# 3.4 Combined RFM string\n",
    "rfm['RFM_Score'] = (\n",
    "    rfm['R_Score'].map(str) +\n",
    "    rfm['F_Score'].map(str) +\n",
    "    rfm['M_Score'].map(str)\n",
    ")\n"
   ]
  },
  {
   "cell_type": "markdown",
   "id": "bb3e6ee2-9adf-4142-b16d-1632582b738d",
   "metadata": {},
   "source": [
    "Define Customer Segments"
   ]
  },
  {
   "cell_type": "code",
   "execution_count": 57,
   "id": "e9e2624e-7172-4d42-bdca-4965a3c150d4",
   "metadata": {},
   "outputs": [
    {
     "name": "stderr",
     "output_type": "stream",
     "text": [
      "C:\\Users\\HP\\AppData\\Local\\Temp\\ipykernel_4068\\3597596363.py:13: FutureWarning: Series.bool is now deprecated and will be removed in future version of pandas\n",
      "  if pd.Series(rf).str.contains(pattern, regex=True).bool():\n"
     ]
    },
    {
     "data": {
      "text/html": [
       "<div>\n",
       "<style scoped>\n",
       "    .dataframe tbody tr th:only-of-type {\n",
       "        vertical-align: middle;\n",
       "    }\n",
       "\n",
       "    .dataframe tbody tr th {\n",
       "        vertical-align: top;\n",
       "    }\n",
       "\n",
       "    .dataframe thead th {\n",
       "        text-align: right;\n",
       "    }\n",
       "</style>\n",
       "<table border=\"1\" class=\"dataframe\">\n",
       "  <thead>\n",
       "    <tr style=\"text-align: right;\">\n",
       "      <th></th>\n",
       "      <th>CustomerID</th>\n",
       "      <th>LastPurchaseDate</th>\n",
       "      <th>Recency</th>\n",
       "      <th>Frequency</th>\n",
       "      <th>Monetary</th>\n",
       "      <th>R_Score</th>\n",
       "      <th>F_Score</th>\n",
       "      <th>M_Score</th>\n",
       "      <th>RFM_Score</th>\n",
       "      <th>Segment</th>\n",
       "    </tr>\n",
       "  </thead>\n",
       "  <tbody>\n",
       "    <tr>\n",
       "      <th>0</th>\n",
       "      <td>0</td>\n",
       "      <td>2011-12-09 10:26:00</td>\n",
       "      <td>1</td>\n",
       "      <td>1428</td>\n",
       "      <td>1754901.91</td>\n",
       "      <td>5</td>\n",
       "      <td>5</td>\n",
       "      <td>5</td>\n",
       "      <td>555</td>\n",
       "      <td>Champions</td>\n",
       "    </tr>\n",
       "    <tr>\n",
       "      <th>3533</th>\n",
       "      <td>17173</td>\n",
       "      <td>2011-12-04 14:40:00</td>\n",
       "      <td>5</td>\n",
       "      <td>8</td>\n",
       "      <td>3766.60</td>\n",
       "      <td>5</td>\n",
       "      <td>5</td>\n",
       "      <td>5</td>\n",
       "      <td>555</td>\n",
       "      <td>Champions</td>\n",
       "    </tr>\n",
       "    <tr>\n",
       "      <th>3344</th>\n",
       "      <td>16905</td>\n",
       "      <td>2011-12-04 14:01:00</td>\n",
       "      <td>5</td>\n",
       "      <td>7</td>\n",
       "      <td>3037.60</td>\n",
       "      <td>5</td>\n",
       "      <td>5</td>\n",
       "      <td>5</td>\n",
       "      <td>555</td>\n",
       "      <td>Champions</td>\n",
       "    </tr>\n",
       "    <tr>\n",
       "      <th>3343</th>\n",
       "      <td>16904</td>\n",
       "      <td>2011-12-05 13:10:00</td>\n",
       "      <td>4</td>\n",
       "      <td>16</td>\n",
       "      <td>3653.75</td>\n",
       "      <td>5</td>\n",
       "      <td>5</td>\n",
       "      <td>5</td>\n",
       "      <td>555</td>\n",
       "      <td>Champions</td>\n",
       "    </tr>\n",
       "    <tr>\n",
       "      <th>3321</th>\n",
       "      <td>16873</td>\n",
       "      <td>2011-12-05 12:05:00</td>\n",
       "      <td>5</td>\n",
       "      <td>6</td>\n",
       "      <td>7123.62</td>\n",
       "      <td>5</td>\n",
       "      <td>5</td>\n",
       "      <td>5</td>\n",
       "      <td>555</td>\n",
       "      <td>Champions</td>\n",
       "    </tr>\n",
       "  </tbody>\n",
       "</table>\n",
       "</div>"
      ],
      "text/plain": [
       "      CustomerID    LastPurchaseDate  Recency  Frequency   Monetary  R_Score  \\\n",
       "0              0 2011-12-09 10:26:00        1       1428 1754901.91        5   \n",
       "3533       17173 2011-12-04 14:40:00        5          8    3766.60        5   \n",
       "3344       16905 2011-12-04 14:01:00        5          7    3037.60        5   \n",
       "3343       16904 2011-12-05 13:10:00        4         16    3653.75        5   \n",
       "3321       16873 2011-12-05 12:05:00        5          6    7123.62        5   \n",
       "\n",
       "      F_Score  M_Score RFM_Score    Segment  \n",
       "0           5        5       555  Champions  \n",
       "3533        5        5       555  Champions  \n",
       "3344        5        5       555  Champions  \n",
       "3343        5        5       555  Champions  \n",
       "3321        5        5       555  Champions  "
      ]
     },
     "metadata": {},
     "output_type": "display_data"
    }
   ],
   "source": [
    "# A simple mapping from RFM score prefixes to segment names\n",
    "segment_map = {\n",
    "    r'[5][5]': 'Champions',\n",
    "    r'[4-5][3-5]': 'Loyal Customers',\n",
    "    r'[3-4][1-2]': 'Potential Loyalists',\n",
    "    r'[2-3][4-5]': 'At Risk',\n",
    "    r'[1-2][1-2]': 'Lost'\n",
    "}\n",
    "\n",
    "def assign_segment(row):\n",
    "    rf = f\"{row['R_Score']}{row['F_Score']}\"\n",
    "    for pattern, seg in segment_map.items():\n",
    "        if pd.Series(rf).str.contains(pattern, regex=True).bool():\n",
    "            return seg\n",
    "    return 'Others'\n",
    "\n",
    "rfm['Segment'] = rfm.apply(assign_segment, axis=1)\n",
    "\n",
    "# View the top rows\n",
    "display(rfm.sort_values('RFM_Score', ascending=False).head())\n"
   ]
  },
  {
   "cell_type": "code",
   "execution_count": 58,
   "id": "d04e4ae0-7e53-46e7-aa64-9c85e1d63ddd",
   "metadata": {},
   "outputs": [
    {
     "name": "stdout",
     "output_type": "stream",
     "text": [
      "['CustomerID', 'LastPurchaseDate', 'Recency', 'Frequency', 'Monetary', 'R_Score', 'F_Score', 'M_Score', 'RFM_Score', 'Segment']\n"
     ]
    }
   ],
   "source": [
    "print(rfm.columns.tolist())\n"
   ]
  },
  {
   "cell_type": "code",
   "execution_count": 59,
   "id": "eebc1c3e-7035-4848-9db4-66936b926cab",
   "metadata": {},
   "outputs": [],
   "source": [
    "rfm['RFM_Segment'] = (\n",
    "    rfm['R_Score'].astype(str)\n",
    "    + rfm['F_Score'].astype(str)\n",
    "    + rfm['M_Score'].astype(str)\n",
    ")\n"
   ]
  },
  {
   "cell_type": "code",
   "execution_count": 60,
   "id": "9146d229-3af8-45c6-998b-fc5f4dd12b76",
   "metadata": {},
   "outputs": [
    {
     "data": {
      "text/html": [
       "<div>\n",
       "<style scoped>\n",
       "    .dataframe tbody tr th:only-of-type {\n",
       "        vertical-align: middle;\n",
       "    }\n",
       "\n",
       "    .dataframe tbody tr th {\n",
       "        vertical-align: top;\n",
       "    }\n",
       "\n",
       "    .dataframe thead th {\n",
       "        text-align: right;\n",
       "    }\n",
       "</style>\n",
       "<table border=\"1\" class=\"dataframe\">\n",
       "  <thead>\n",
       "    <tr style=\"text-align: right;\">\n",
       "      <th></th>\n",
       "      <th>CustomerID</th>\n",
       "      <th>R_Score</th>\n",
       "      <th>F_Score</th>\n",
       "      <th>M_Score</th>\n",
       "      <th>RFM_Segment</th>\n",
       "    </tr>\n",
       "  </thead>\n",
       "  <tbody>\n",
       "    <tr>\n",
       "      <th>0</th>\n",
       "      <td>0</td>\n",
       "      <td>5</td>\n",
       "      <td>5</td>\n",
       "      <td>5</td>\n",
       "      <td>555</td>\n",
       "    </tr>\n",
       "    <tr>\n",
       "      <th>1</th>\n",
       "      <td>12346</td>\n",
       "      <td>1</td>\n",
       "      <td>1</td>\n",
       "      <td>5</td>\n",
       "      <td>115</td>\n",
       "    </tr>\n",
       "    <tr>\n",
       "      <th>2</th>\n",
       "      <td>12347</td>\n",
       "      <td>5</td>\n",
       "      <td>5</td>\n",
       "      <td>5</td>\n",
       "      <td>555</td>\n",
       "    </tr>\n",
       "    <tr>\n",
       "      <th>3</th>\n",
       "      <td>12348</td>\n",
       "      <td>2</td>\n",
       "      <td>4</td>\n",
       "      <td>4</td>\n",
       "      <td>244</td>\n",
       "    </tr>\n",
       "    <tr>\n",
       "      <th>4</th>\n",
       "      <td>12349</td>\n",
       "      <td>4</td>\n",
       "      <td>1</td>\n",
       "      <td>4</td>\n",
       "      <td>414</td>\n",
       "    </tr>\n",
       "  </tbody>\n",
       "</table>\n",
       "</div>"
      ],
      "text/plain": [
       "   CustomerID  R_Score  F_Score  M_Score RFM_Segment\n",
       "0           0        5        5        5         555\n",
       "1       12346        1        1        5         115\n",
       "2       12347        5        5        5         555\n",
       "3       12348        2        4        4         244\n",
       "4       12349        4        1        4         414"
      ]
     },
     "execution_count": 60,
     "metadata": {},
     "output_type": "execute_result"
    }
   ],
   "source": [
    "rfm[['CustomerID','R_Score','F_Score','M_Score','RFM_Segment']].head()\n"
   ]
  },
  {
   "cell_type": "code",
   "execution_count": 61,
   "id": "9ed2f5b0-8f01-4573-9b24-f40b4d670c8e",
   "metadata": {},
   "outputs": [
    {
     "name": "stdout",
     "output_type": "stream",
     "text": [
      "  StockCode                          Description     Category\n",
      "0    85123A   WHITE HANGING HEART T-LIGHT HOLDER        Other\n",
      "1     71053                  WHITE METAL LANTERN        Other\n",
      "2    84406B       CREAM CUPID HEARTS COAT HANGER  Kitchenware\n",
      "3    84029G  KNITTED UNION FLAG HOT WATER BOTTLE        Other\n",
      "4    84029E       RED WOOLLY HOTTIE WHITE HEART.        Other\n"
     ]
    }
   ],
   "source": [
    "# 1.1 Extract unique SKUs + descriptions\n",
    "products = (\n",
    "    df_cleaned[['StockCode','Description']]\n",
    "      .drop_duplicates()\n",
    "      .reset_index(drop=True)\n",
    ")\n",
    "\n",
    "# 1.2 Define your mapping function\n",
    "def map_category(desc):\n",
    "    d = desc.upper()\n",
    "    if 'MUG' in d or 'CUP' in d:\n",
    "        return 'Kitchenware'\n",
    "    if 'CARD' in d or 'BOOK' in d:\n",
    "        return 'Stationery & Books'\n",
    "    if 'TOY' in d or 'FIGURINE' in d:\n",
    "        return 'Toys & Gifts'\n",
    "    return 'Other'\n",
    "\n",
    "# 1.3 Apply to get the Category column\n",
    "products['Category'] = products['Description'].fillna('').apply(map_category)\n",
    "\n",
    "# 1.4 Quick check\n",
    "print(products.head())\n"
   ]
  },
  {
   "cell_type": "code",
   "execution_count": 62,
   "id": "87f77612-9096-4835-92ec-00b8a7d2eda9",
   "metadata": {},
   "outputs": [
    {
     "name": "stdout",
     "output_type": "stream",
     "text": [
      "   CustomerID RFM_Segment StockCode     Category\n",
      "0       17850         155    85123A        Other\n",
      "1       17850         155    85123A        Other\n",
      "2       17850         155     71053        Other\n",
      "3       17850         155     71053        Other\n",
      "4       17850         155    84406B  Kitchenware\n"
     ]
    }
   ],
   "source": [
    "df_rfm_trans = (\n",
    "    df_cleaned\n",
    "      .merge(\n",
    "          rfm[['CustomerID','RFM_Segment']],\n",
    "          on='CustomerID',\n",
    "          how='left'\n",
    "      )\n",
    "      .merge(\n",
    "          products[['StockCode','Category']],\n",
    "          on='StockCode',\n",
    "          how='left'\n",
    "      )\n",
    ")\n",
    "\n",
    "# Verify the merge\n",
    "print(df_rfm_trans[['CustomerID','RFM_Segment','StockCode','Category']].head())\n"
   ]
  },
  {
   "cell_type": "code",
   "execution_count": 63,
   "id": "5857076a-1da4-492e-98a0-35a88847ef36",
   "metadata": {},
   "outputs": [
    {
     "name": "stdout",
     "output_type": "stream",
     "text": [
      "  RFM_Segment            Category  Total_Spent  Unique_Customers  Pct_Spend\n",
      "0         111         Kitchenware          862                67       2.94\n",
      "1         111               Other        27340               331      93.12\n",
      "2         111  Stationery & Books         1079                71       3.68\n",
      "3         111        Toys & Gifts           78                16       0.27\n",
      "4         112         Kitchenware         1668                85       3.99\n"
     ]
    }
   ],
   "source": [
    "segment_category = (\n",
    "    df_rfm_trans\n",
    "      .groupby(['RFM_Segment','Category'])\n",
    "      .agg(\n",
    "          Total_Spent=('Quantity','sum'),\n",
    "          Unique_Customers=('CustomerID','nunique')\n",
    "      )\n",
    "      .reset_index()\n",
    ")\n",
    "\n",
    "segment_category['Pct_Spend'] = (\n",
    "    segment_category\n",
    "      .groupby('RFM_Segment')['Total_Spent']\n",
    "      .transform(lambda x: x / x.sum() * 100)\n",
    ")\n",
    "\n",
    "print(segment_category.head())\n"
   ]
  },
  {
   "cell_type": "code",
   "execution_count": 64,
   "id": "dd3bfb2d-6763-46a1-9a45-794387e75eab",
   "metadata": {},
   "outputs": [],
   "source": [
    "df_rfm_trans = (\n",
    "    df_cleaned\n",
    "      .merge(\n",
    "          rfm[['CustomerID','RFM_Segment']],\n",
    "          on='CustomerID',\n",
    "          how='left'\n",
    "      )\n",
    "      .merge(\n",
    "          products[['StockCode','Category']],\n",
    "          on='StockCode',\n",
    "          how='left'\n",
    "      )\n",
    ")\n"
   ]
  },
  {
   "cell_type": "code",
   "execution_count": 65,
   "id": "52fe3161-79ae-46ef-bc7f-459b094c855c",
   "metadata": {},
   "outputs": [],
   "source": [
    "segment_category['Pct_Spend'] = (\n",
    "    segment_category\n",
    "      .groupby('RFM_Segment')['Total_Spent']\n",
    "      .transform(lambda x: x / x.sum() * 100)\n",
    ")\n"
   ]
  },
  {
   "cell_type": "code",
   "execution_count": 66,
   "id": "62d0a968-b234-418b-a6af-ae51d2ae6842",
   "metadata": {},
   "outputs": [
    {
     "name": "stdout",
     "output_type": "stream",
     "text": [
      "['InvoiceNo', 'StockCode', 'Description', 'Quantity', 'InvoiceDate', 'UnitPrice', 'CustomerID', 'Country', 'IsCancellation', 'IsReturn', 'Is_Return', 'IsCancelled', 'TotalPrice', 'Year', 'Month', 'Day', 'Hour', 'Qty_Outlier', 'Price_Outlier', 'RFM_Segment', 'Category']\n",
      "Index(['RFM_Segment', 'Category', 'Total_Spent', 'Unique_Customers',\n",
      "       'Pct_Spend'],\n",
      "      dtype='object')\n"
     ]
    }
   ],
   "source": [
    "print(df_rfm_trans.columns.tolist())\n",
    "# or\n",
    "print(segment_category.columns)\n"
   ]
  },
  {
   "cell_type": "code",
   "execution_count": 67,
   "id": "855d54f6-adb7-410f-b019-43c5e6e4aed6",
   "metadata": {},
   "outputs": [],
   "source": [
    "# Count customers per segment & country\n",
    "country_profile = (\n",
    "    df_rfm_trans\n",
    "      .drop_duplicates(['CustomerID','RFM_Segment','Country'])\n",
    "      .groupby(['RFM_Segment','Country'])\n",
    "      .size()\n",
    "      .reset_index(name='Cust_Count')\n",
    ")\n",
    "\n",
    "# Compute % of segment\n",
    "country_profile['Pct_of_Segment'] = (\n",
    "    country_profile\n",
    "      .groupby('RFM_Segment')['Cust_Count']\n",
    "      .transform(lambda x: x / x.sum() * 100)\n",
    ")\n"
   ]
  },
  {
   "cell_type": "code",
   "execution_count": 68,
   "id": "7eb15591-3f3c-4593-95e1-97ca3b3b075e",
   "metadata": {},
   "outputs": [
    {
     "data": {
      "text/plain": [
       "Category\n",
       "Other                 3783\n",
       "Stationery & Books     222\n",
       "Kitchenware            133\n",
       "Toys & Gifts            20\n",
       "Name: count, dtype: int64"
      ]
     },
     "execution_count": 68,
     "metadata": {},
     "output_type": "execute_result"
    }
   ],
   "source": [
    "# 1. Get distinct StockCode + Description\n",
    "products = (\n",
    "    df_cleaned[['StockCode','Description']]\n",
    "    .drop_duplicates()\n",
    "    .reset_index(drop=True)\n",
    ")\n",
    "\n",
    "# 2. Define a mapping function\n",
    "def map_category(desc):\n",
    "    d = desc.upper()\n",
    "    if 'MUG' in d or 'CUP' in d:\n",
    "        return 'Kitchenware'\n",
    "    if 'CARD' in d or 'BOOK' in d:\n",
    "        return 'Stationery & Books'\n",
    "    if 'TOY' in d or 'FIGURINE' in d:\n",
    "        return 'Toys & Gifts'\n",
    "    # add more rules as needed\n",
    "    return 'Other'\n",
    "\n",
    "# 3. Apply to create a Category column\n",
    "products['Category'] = products['Description'].fillna('').apply(map_category)\n",
    "\n",
    "# 4. Quick check\n",
    "products.Category.value_counts().head()\n",
    "\n"
   ]
  },
  {
   "cell_type": "code",
   "execution_count": 69,
   "id": "438ce193-e022-45e9-85df-9811b15469be",
   "metadata": {},
   "outputs": [],
   "source": [
    "# If you haven’t already, derive a product→category map\n",
    "products = (\n",
    "    df_cleaned[['StockCode','Description']]\n",
    "    .drop_duplicates()\n",
    "    .reset_index(drop=True)\n",
    ")\n",
    "\n",
    "def map_category(desc):\n",
    "    d = desc.upper()\n",
    "    if 'MUG' in d or 'CUP' in d:\n",
    "        return 'Kitchenware'\n",
    "    if 'CARD' in d or 'BOOK' in d:\n",
    "        return 'Stationery & Books'\n",
    "    if 'TOY' in d or 'FIGURINE' in d:\n",
    "        return 'Toys & Gifts'\n",
    "    return 'Other'\n",
    "\n",
    "products['Category'] = products['Description'].fillna('').apply(map_category)\n"
   ]
  },
  {
   "cell_type": "code",
   "execution_count": 70,
   "id": "7c8e8371-7be1-4779-9b87-22723068dc57",
   "metadata": {},
   "outputs": [
    {
     "name": "stdout",
     "output_type": "stream",
     "text": [
      "   CustomerID RFM_Segment StockCode     Category\n",
      "0       17850         155    85123A        Other\n",
      "1       17850         155    85123A        Other\n",
      "2       17850         155     71053        Other\n",
      "3       17850         155     71053        Other\n",
      "4       17850         155    84406B  Kitchenware\n"
     ]
    }
   ],
   "source": [
    "# Assume:\n",
    "# df_cleaned has all transactions\n",
    "# rfm has CustomerID → RFM_Segment\n",
    "# products has StockCode → Category\n",
    "\n",
    "df_rfm_trans = (\n",
    "    df_cleaned\n",
    "      .merge(\n",
    "          rfm[['CustomerID','RFM_Segment']],\n",
    "          on='CustomerID',\n",
    "          how='left'\n",
    "      )\n",
    "      .merge(\n",
    "          products[['StockCode','Category']],\n",
    "          on='StockCode',\n",
    "          how='left'\n",
    "      )\n",
    ")\n",
    "\n",
    "# Check the merge\n",
    "print(df_rfm_trans[['CustomerID','RFM_Segment','StockCode','Category']].head())\n"
   ]
  },
  {
   "cell_type": "code",
   "execution_count": 71,
   "id": "66b8ab9a-f6cb-443f-983d-8131a00298b5",
   "metadata": {},
   "outputs": [],
   "source": [
    "segment_category = (\n",
    "    df_rfm_trans\n",
    "      .groupby(['RFM_Segment','Category'])\n",
    "      .agg(\n",
    "          Total_Spent=('Quantity','sum'),            # or use LineMonetary if defined\n",
    "          Unique_Customers=('CustomerID','nunique')\n",
    "      )\n",
    "      .reset_index()\n",
    ")\n"
   ]
  },
  {
   "cell_type": "markdown",
   "id": "e5353067-fb3a-444b-acd3-3c53399b4c88",
   "metadata": {},
   "source": [
    "Profiling RFM Segments by Country, Product Category, and Demographics\n",
    "Once you’ve assigned each customer to an RFM segment, the next step is to understand who they are, what they buy, and where they live. Here’s a structured approach:"
   ]
  },
  {
   "cell_type": "code",
   "execution_count": 72,
   "id": "2994b896-7b80-4ec6-8f19-79e9ae2904d2",
   "metadata": {},
   "outputs": [],
   "source": [
    "#Calculate Percent of Spend per Segment\n",
    "\n",
    "segment_category['Pct_Spend'] = (\n",
    "    segment_category\n",
    "      .groupby('RFM_Segment')['Total_Spent']\n",
    "      .transform(lambda x: x / x.sum() * 100)\n",
    ")\n"
   ]
  },
  {
   "cell_type": "code",
   "execution_count": 73,
   "id": "b8dad36a-0c8c-4598-bd49-1529b2bab349",
   "metadata": {},
   "outputs": [
    {
     "name": "stdout",
     "output_type": "stream",
     "text": [
      "    RFM_Segment            Category  Total_Spent  Unique_Customers  Pct_Spend\n",
      "1           111               Other        27340               331      93.12\n",
      "2           111  Stationery & Books         1079                71       3.68\n",
      "0           111         Kitchenware          862                67       2.94\n",
      "3           111        Toys & Gifts           78                16       0.27\n",
      "5           112               Other        38098               207      91.13\n",
      "..          ...                 ...          ...               ...        ...\n",
      "329         554        Toys & Gifts          146                20       0.16\n",
      "331         555               Other      2665777               348      91.46\n",
      "332         555  Stationery & Books       135337               305       4.64\n",
      "330         555         Kitchenware       103216               306       3.54\n",
      "333         555        Toys & Gifts        10466               144       0.36\n",
      "\n",
      "[334 rows x 5 columns]\n"
     ]
    }
   ],
   "source": [
    "#Inspect or Visualize Your Results\n",
    "\n",
    "# Quick look at top categories for each segment\n",
    "print(\n",
    "    segment_category\n",
    "      .sort_values(['RFM_Segment','Pct_Spend'], ascending=[True, False])\n",
    "      .groupby('RFM_Segment')\n",
    "      .head(5)\n",
    ")\n"
   ]
  },
  {
   "cell_type": "code",
   "execution_count": 74,
   "id": "1085c6c2-8ec3-4196-b343-6e519f4fb3a2",
   "metadata": {},
   "outputs": [
    {
     "data": {
      "image/png": "[encoded data removed]",
      "text/plain": [
       "<Figure size 1200x600 with 2 Axes>"
      ]
     },
     "metadata": {},
     "output_type": "display_data"
    }
   ],
   "source": [
    "import seaborn as sns\n",
    "import matplotlib.pyplot as plt\n",
    "\n",
    "# Pivot percent spend\n",
    "pivot = (\n",
    "    segment_category\n",
    "      .pivot(index='Category', columns='RFM_Segment', values='Pct_Spend')\n",
    "      .fillna(0)\n",
    ")\n",
    "\n",
    "# Draw heatmap\n",
    "plt.figure(figsize=(12, 6))\n",
    "sns.heatmap(pivot, annot=True, fmt=\".1f\", cmap=\"Blues\")\n",
    "plt.title(\"% Spend by Category across RFM Segments\")\n",
    "plt.ylabel(\"Category\")\n",
    "plt.xlabel(\"RFM Segment\")\n",
    "plt.show()\n"
   ]
  },
  {
   "cell_type": "markdown",
   "id": "c55cca14-d26f-46d1-82f1-9e8fc4d4a43a",
   "metadata": {},
   "source": [
    "Highlight Opportunity Gaps\n",
    "Spot segments under-invested in high-potential categories by comparing spend share to customer penetration:"
   ]
  },
  {
   "cell_type": "code",
   "execution_count": 75,
   "id": "cf766350-cca4-4ea6-be4e-c6c32c827237",
   "metadata": {},
   "outputs": [
    {
     "data": {
      "text/html": [
       "<div>\n",
       "<style scoped>\n",
       "    .dataframe tbody tr th:only-of-type {\n",
       "        vertical-align: middle;\n",
       "    }\n",
       "\n",
       "    .dataframe tbody tr th {\n",
       "        vertical-align: top;\n",
       "    }\n",
       "\n",
       "    .dataframe thead th {\n",
       "        text-align: right;\n",
       "    }\n",
       "</style>\n",
       "<table border=\"1\" class=\"dataframe\">\n",
       "  <thead>\n",
       "    <tr style=\"text-align: right;\">\n",
       "      <th></th>\n",
       "      <th>RFM_Segment</th>\n",
       "      <th>Category</th>\n",
       "      <th>Total_Spent</th>\n",
       "      <th>Unique_Customers</th>\n",
       "      <th>Pct_Spend</th>\n",
       "      <th>Cust_Penetration</th>\n",
       "      <th>Opportunity</th>\n",
       "    </tr>\n",
       "  </thead>\n",
       "  <tbody>\n",
       "    <tr>\n",
       "      <th>122</th>\n",
       "      <td>251</td>\n",
       "      <td>Toys &amp; Gifts</td>\n",
       "      <td>2</td>\n",
       "      <td>1</td>\n",
       "      <td>10.00</td>\n",
       "      <td>50.00</td>\n",
       "      <td>40.00</td>\n",
       "    </tr>\n",
       "    <tr>\n",
       "      <th>51</th>\n",
       "      <td>145</td>\n",
       "      <td>Stationery &amp; Books</td>\n",
       "      <td>42</td>\n",
       "      <td>2</td>\n",
       "      <td>1.88</td>\n",
       "      <td>40.00</td>\n",
       "      <td>38.12</td>\n",
       "    </tr>\n",
       "    <tr>\n",
       "      <th>256</th>\n",
       "      <td>452</td>\n",
       "      <td>Stationery &amp; Books</td>\n",
       "      <td>48</td>\n",
       "      <td>1</td>\n",
       "      <td>11.94</td>\n",
       "      <td>50.00</td>\n",
       "      <td>38.06</td>\n",
       "    </tr>\n",
       "    <tr>\n",
       "      <th>104</th>\n",
       "      <td>241</td>\n",
       "      <td>Kitchenware</td>\n",
       "      <td>32</td>\n",
       "      <td>3</td>\n",
       "      <td>3.27</td>\n",
       "      <td>37.50</td>\n",
       "      <td>34.23</td>\n",
       "    </tr>\n",
       "    <tr>\n",
       "      <th>40</th>\n",
       "      <td>142</td>\n",
       "      <td>Kitchenware</td>\n",
       "      <td>3</td>\n",
       "      <td>1</td>\n",
       "      <td>0.77</td>\n",
       "      <td>33.33</td>\n",
       "      <td>32.57</td>\n",
       "    </tr>\n",
       "    <tr>\n",
       "      <th>46</th>\n",
       "      <td>144</td>\n",
       "      <td>Kitchenware</td>\n",
       "      <td>283</td>\n",
       "      <td>7</td>\n",
       "      <td>4.78</td>\n",
       "      <td>36.84</td>\n",
       "      <td>32.06</td>\n",
       "    </tr>\n",
       "    <tr>\n",
       "      <th>81</th>\n",
       "      <td>215</td>\n",
       "      <td>Kitchenware</td>\n",
       "      <td>388</td>\n",
       "      <td>3</td>\n",
       "      <td>2.16</td>\n",
       "      <td>33.33</td>\n",
       "      <td>31.17</td>\n",
       "    </tr>\n",
       "    <tr>\n",
       "      <th>321</th>\n",
       "      <td>551</td>\n",
       "      <td>Stationery &amp; Books</td>\n",
       "      <td>1</td>\n",
       "      <td>1</td>\n",
       "      <td>2.22</td>\n",
       "      <td>33.33</td>\n",
       "      <td>31.11</td>\n",
       "    </tr>\n",
       "    <tr>\n",
       "      <th>280</th>\n",
       "      <td>514</td>\n",
       "      <td>Kitchenware</td>\n",
       "      <td>13</td>\n",
       "      <td>1</td>\n",
       "      <td>2.35</td>\n",
       "      <td>33.33</td>\n",
       "      <td>30.98</td>\n",
       "    </tr>\n",
       "    <tr>\n",
       "      <th>302</th>\n",
       "      <td>535</td>\n",
       "      <td>Stationery &amp; Books</td>\n",
       "      <td>532</td>\n",
       "      <td>7</td>\n",
       "      <td>0.51</td>\n",
       "      <td>30.43</td>\n",
       "      <td>29.93</td>\n",
       "    </tr>\n",
       "  </tbody>\n",
       "</table>\n",
       "</div>"
      ],
      "text/plain": [
       "    RFM_Segment            Category  Total_Spent  Unique_Customers  Pct_Spend  \\\n",
       "122         251        Toys & Gifts            2                 1      10.00   \n",
       "51          145  Stationery & Books           42                 2       1.88   \n",
       "256         452  Stationery & Books           48                 1      11.94   \n",
       "104         241         Kitchenware           32                 3       3.27   \n",
       "40          142         Kitchenware            3                 1       0.77   \n",
       "46          144         Kitchenware          283                 7       4.78   \n",
       "81          215         Kitchenware          388                 3       2.16   \n",
       "321         551  Stationery & Books            1                 1       2.22   \n",
       "280         514         Kitchenware           13                 1       2.35   \n",
       "302         535  Stationery & Books          532                 7       0.51   \n",
       "\n",
       "     Cust_Penetration  Opportunity  \n",
       "122             50.00        40.00  \n",
       "51              40.00        38.12  \n",
       "256             50.00        38.06  \n",
       "104             37.50        34.23  \n",
       "40              33.33        32.57  \n",
       "46              36.84        32.06  \n",
       "81              33.33        31.17  \n",
       "321             33.33        31.11  \n",
       "280             33.33        30.98  \n",
       "302             30.43        29.93  "
      ]
     },
     "execution_count": 75,
     "metadata": {},
     "output_type": "execute_result"
    }
   ],
   "source": [
    "# Calculate customer penetration per segment/category\n",
    "segment_category['Cust_Penetration'] = (\n",
    "    segment_category['Unique_Customers']\n",
    "      / segment_category.groupby('RFM_Segment')['Unique_Customers']\n",
    "        .transform('sum')\n",
    "      * 100\n",
    ")\n",
    "\n",
    "# Opportunity = penetration − spend share (positive means under-spent)\n",
    "segment_category['Opportunity'] = (\n",
    "    segment_category['Cust_Penetration']\n",
    "      - segment_category['Pct_Spend']\n",
    ")\n",
    "\n",
    "# Top under-leveraged combos\n",
    "segment_category.sort_values('Opportunity', ascending=False).head(10)\n"
   ]
  },
  {
   "cell_type": "markdown",
   "id": "e7ddb27c-16f7-4ea1-8325-1f9ced922c2d",
   "metadata": {},
   "source": [
    "Drill Down to SKU Level\n",
    "Within each segment–category, identify the specific products driving revenue or showing untapped demand:"
   ]
  },
  {
   "cell_type": "code",
   "execution_count": 76,
   "id": "419a691d-981e-429c-bfaf-a76558501313",
   "metadata": {},
   "outputs": [
    {
     "data": {
      "text/html": [
       "<div>\n",
       "<style scoped>\n",
       "    .dataframe tbody tr th:only-of-type {\n",
       "        vertical-align: middle;\n",
       "    }\n",
       "\n",
       "    .dataframe tbody tr th {\n",
       "        vertical-align: top;\n",
       "    }\n",
       "\n",
       "    .dataframe thead th {\n",
       "        text-align: right;\n",
       "    }\n",
       "</style>\n",
       "<table border=\"1\" class=\"dataframe\">\n",
       "  <thead>\n",
       "    <tr style=\"text-align: right;\">\n",
       "      <th></th>\n",
       "      <th>RFM_Segment</th>\n",
       "      <th>Category</th>\n",
       "      <th>StockCode</th>\n",
       "      <th>Description</th>\n",
       "      <th>Total_Spent</th>\n",
       "    </tr>\n",
       "  </thead>\n",
       "  <tbody>\n",
       "    <tr>\n",
       "      <th>13</th>\n",
       "      <td>111</td>\n",
       "      <td>Kitchenware</td>\n",
       "      <td>21399</td>\n",
       "      <td>BLUE POLKADOT COFFEE MUG</td>\n",
       "      <td>102</td>\n",
       "    </tr>\n",
       "    <tr>\n",
       "      <th>33</th>\n",
       "      <td>111</td>\n",
       "      <td>Kitchenware</td>\n",
       "      <td>22699</td>\n",
       "      <td>ROSES REGENCY TEACUP AND SAUCER</td>\n",
       "      <td>98</td>\n",
       "    </tr>\n",
       "    <tr>\n",
       "      <th>31</th>\n",
       "      <td>111</td>\n",
       "      <td>Kitchenware</td>\n",
       "      <td>22697</td>\n",
       "      <td>GREEN REGENCY TEACUP AND SAUCER</td>\n",
       "      <td>44</td>\n",
       "    </tr>\n",
       "    <tr>\n",
       "      <th>15</th>\n",
       "      <td>111</td>\n",
       "      <td>Kitchenware</td>\n",
       "      <td>21845</td>\n",
       "      <td>DAIRY MAID STRIPE MUG</td>\n",
       "      <td>36</td>\n",
       "    </tr>\n",
       "    <tr>\n",
       "      <th>21</th>\n",
       "      <td>111</td>\n",
       "      <td>Kitchenware</td>\n",
       "      <td>21876</td>\n",
       "      <td>POTTERING MUG</td>\n",
       "      <td>36</td>\n",
       "    </tr>\n",
       "    <tr>\n",
       "      <th>...</th>\n",
       "      <td>...</td>\n",
       "      <td>...</td>\n",
       "      <td>...</td>\n",
       "      <td>...</td>\n",
       "      <td>...</td>\n",
       "    </tr>\n",
       "    <tr>\n",
       "      <th>86490</th>\n",
       "      <td>555</td>\n",
       "      <td>Toys &amp; Gifts</td>\n",
       "      <td>20711</td>\n",
       "      <td>JUMBO BAG TOYS</td>\n",
       "      <td>3423</td>\n",
       "    </tr>\n",
       "    <tr>\n",
       "      <th>86499</th>\n",
       "      <td>555</td>\n",
       "      <td>Toys &amp; Gifts</td>\n",
       "      <td>22381</td>\n",
       "      <td>TOY TIDY PINK POLKADOT</td>\n",
       "      <td>2514</td>\n",
       "    </tr>\n",
       "    <tr>\n",
       "      <th>86491</th>\n",
       "      <td>555</td>\n",
       "      <td>Toys &amp; Gifts</td>\n",
       "      <td>21033</td>\n",
       "      <td>JUMBO BAG CHARLIE AND LOLA TOYS</td>\n",
       "      <td>1632</td>\n",
       "    </tr>\n",
       "    <tr>\n",
       "      <th>86498</th>\n",
       "      <td>555</td>\n",
       "      <td>Toys &amp; Gifts</td>\n",
       "      <td>22380</td>\n",
       "      <td>TOY TIDY SPACEBOY</td>\n",
       "      <td>632</td>\n",
       "    </tr>\n",
       "    <tr>\n",
       "      <th>86496</th>\n",
       "      <td>555</td>\n",
       "      <td>Toys &amp; Gifts</td>\n",
       "      <td>22175</td>\n",
       "      <td>PINK OWL SOFT TOY</td>\n",
       "      <td>484</td>\n",
       "    </tr>\n",
       "  </tbody>\n",
       "</table>\n",
       "<p>1576 rows × 5 columns</p>\n",
       "</div>"
      ],
      "text/plain": [
       "      RFM_Segment      Category StockCode                      Description  \\\n",
       "13            111   Kitchenware     21399         BLUE POLKADOT COFFEE MUG   \n",
       "33            111   Kitchenware     22699  ROSES REGENCY TEACUP AND SAUCER   \n",
       "31            111   Kitchenware     22697  GREEN REGENCY TEACUP AND SAUCER   \n",
       "15            111   Kitchenware     21845            DAIRY MAID STRIPE MUG   \n",
       "21            111   Kitchenware     21876                    POTTERING MUG   \n",
       "...           ...           ...       ...                              ...   \n",
       "86490         555  Toys & Gifts     20711                   JUMBO BAG TOYS   \n",
       "86499         555  Toys & Gifts     22381           TOY TIDY PINK POLKADOT   \n",
       "86491         555  Toys & Gifts     21033  JUMBO BAG CHARLIE AND LOLA TOYS   \n",
       "86498         555  Toys & Gifts     22380                TOY TIDY SPACEBOY   \n",
       "86496         555  Toys & Gifts     22175                PINK OWL SOFT TOY   \n",
       "\n",
       "       Total_Spent  \n",
       "13             102  \n",
       "33              98  \n",
       "31              44  \n",
       "15              36  \n",
       "21              36  \n",
       "...            ...  \n",
       "86490         3423  \n",
       "86499         2514  \n",
       "86491         1632  \n",
       "86498          632  \n",
       "86496          484  \n",
       "\n",
       "[1576 rows x 5 columns]"
      ]
     },
     "execution_count": 76,
     "metadata": {},
     "output_type": "execute_result"
    }
   ],
   "source": [
    "top_skus = (\n",
    "    df_rfm_trans\n",
    "      .groupby(['RFM_Segment','Category','StockCode','Description'])\n",
    "      .agg(Total_Spent=('Quantity','sum'))\n",
    "      .reset_index()\n",
    "      .sort_values(['RFM_Segment','Category','Total_Spent'], ascending=[True,True,False])\n",
    ")\n",
    "\n",
    "# View top 5 SKUs per segment & category\n",
    "top_skus.groupby(['RFM_Segment','Category']).head(5)\n"
   ]
  },
  {
   "cell_type": "markdown",
   "id": "58c61c0d-aa11-4822-84fd-c97f501ab3c0",
   "metadata": {},
   "source": [
    "Run Association Rules per Segment\n",
    "Understand cross-sell patterns. Build a basket matrix for each segment and apply Apriori/FP-Growth:"
   ]
  },
  {
   "cell_type": "code",
   "execution_count": 77,
   "id": "273df2ad-f3c9-499b-b31d-431d030bbbfa",
   "metadata": {},
   "outputs": [],
   "source": [
    "import sys\n",
    "!{sys.executable} -m pip install --upgrade mlxtend --quiet\n"
   ]
  },
  {
   "cell_type": "code",
   "execution_count": 78,
   "id": "064c1fb8-efd0-47f2-83ab-89e6a7863335",
   "metadata": {},
   "outputs": [
    {
     "name": "stderr",
     "output_type": "stream",
     "text": [
      "C:\\Users\\HP\\AppData\\Local\\Temp\\ipykernel_4068\\2861317852.py:7: FutureWarning: DataFrame.applymap has been deprecated. Use DataFrame.map instead.\n",
      "  .sum().unstack().fillna(0).applymap(lambda x: 1 if x>0 else 0)\n",
      "C:\\Users\\HP\\anaconda3\\Lib\\site-packages\\mlxtend\\frequent_patterns\\fpcommon.py:161: DeprecationWarning: DataFrames with non-bool types result in worse computationalperformance and their support might be discontinued in the future.Please use a DataFrame with bool type\n",
      "  warnings.warn(\n"
     ]
    },
    {
     "data": {
      "text/html": [
       "<div>\n",
       "<style scoped>\n",
       "    .dataframe tbody tr th:only-of-type {\n",
       "        vertical-align: middle;\n",
       "    }\n",
       "\n",
       "    .dataframe tbody tr th {\n",
       "        vertical-align: top;\n",
       "    }\n",
       "\n",
       "    .dataframe thead th {\n",
       "        text-align: right;\n",
       "    }\n",
       "</style>\n",
       "<table border=\"1\" class=\"dataframe\">\n",
       "  <thead>\n",
       "    <tr style=\"text-align: right;\">\n",
       "      <th></th>\n",
       "      <th>antecedents</th>\n",
       "      <th>consequents</th>\n",
       "      <th>antecedent support</th>\n",
       "      <th>consequent support</th>\n",
       "      <th>support</th>\n",
       "      <th>confidence</th>\n",
       "      <th>lift</th>\n",
       "      <th>representativity</th>\n",
       "      <th>leverage</th>\n",
       "      <th>conviction</th>\n",
       "      <th>zhangs_metric</th>\n",
       "      <th>jaccard</th>\n",
       "      <th>certainty</th>\n",
       "      <th>kulczynski</th>\n",
       "    </tr>\n",
       "  </thead>\n",
       "  <tbody>\n",
       "    <tr>\n",
       "      <th>6</th>\n",
       "      <td>(ROSES REGENCY TEACUP AND SAUCER)</td>\n",
       "      <td>(GREEN REGENCY TEACUP AND SAUCER)</td>\n",
       "      <td>0.03</td>\n",
       "      <td>0.03</td>\n",
       "      <td>0.02</td>\n",
       "      <td>0.64</td>\n",
       "      <td>23.40</td>\n",
       "      <td>1.00</td>\n",
       "      <td>0.02</td>\n",
       "      <td>2.68</td>\n",
       "      <td>0.99</td>\n",
       "      <td>0.54</td>\n",
       "      <td>0.63</td>\n",
       "      <td>0.71</td>\n",
       "    </tr>\n",
       "    <tr>\n",
       "      <th>7</th>\n",
       "      <td>(GREEN REGENCY TEACUP AND SAUCER)</td>\n",
       "      <td>(ROSES REGENCY TEACUP AND SAUCER)</td>\n",
       "      <td>0.03</td>\n",
       "      <td>0.03</td>\n",
       "      <td>0.02</td>\n",
       "      <td>0.78</td>\n",
       "      <td>23.40</td>\n",
       "      <td>1.00</td>\n",
       "      <td>0.02</td>\n",
       "      <td>4.35</td>\n",
       "      <td>0.98</td>\n",
       "      <td>0.54</td>\n",
       "      <td>0.77</td>\n",
       "      <td>0.71</td>\n",
       "    </tr>\n",
       "    <tr>\n",
       "      <th>3</th>\n",
       "      <td>(BAKING SET SPACEBOY DESIGN)</td>\n",
       "      <td>(BAKING SET 9 PIECE RETROSPOT)</td>\n",
       "      <td>0.03</td>\n",
       "      <td>0.05</td>\n",
       "      <td>0.02</td>\n",
       "      <td>0.73</td>\n",
       "      <td>15.05</td>\n",
       "      <td>1.00</td>\n",
       "      <td>0.02</td>\n",
       "      <td>3.49</td>\n",
       "      <td>0.97</td>\n",
       "      <td>0.42</td>\n",
       "      <td>0.71</td>\n",
       "      <td>0.61</td>\n",
       "    </tr>\n",
       "    <tr>\n",
       "      <th>2</th>\n",
       "      <td>(BAKING SET 9 PIECE RETROSPOT)</td>\n",
       "      <td>(BAKING SET SPACEBOY DESIGN)</td>\n",
       "      <td>0.05</td>\n",
       "      <td>0.03</td>\n",
       "      <td>0.02</td>\n",
       "      <td>0.50</td>\n",
       "      <td>15.05</td>\n",
       "      <td>1.00</td>\n",
       "      <td>0.02</td>\n",
       "      <td>1.93</td>\n",
       "      <td>0.98</td>\n",
       "      <td>0.42</td>\n",
       "      <td>0.48</td>\n",
       "      <td>0.61</td>\n",
       "    </tr>\n",
       "    <tr>\n",
       "      <th>9</th>\n",
       "      <td>(HEART OF WICKER SMALL)</td>\n",
       "      <td>(HEART OF WICKER LARGE)</td>\n",
       "      <td>0.05</td>\n",
       "      <td>0.03</td>\n",
       "      <td>0.02</td>\n",
       "      <td>0.44</td>\n",
       "      <td>14.71</td>\n",
       "      <td>1.00</td>\n",
       "      <td>0.02</td>\n",
       "      <td>1.75</td>\n",
       "      <td>0.99</td>\n",
       "      <td>0.40</td>\n",
       "      <td>0.43</td>\n",
       "      <td>0.62</td>\n",
       "    </tr>\n",
       "  </tbody>\n",
       "</table>\n",
       "</div>"
      ],
      "text/plain": [
       "                         antecedents                        consequents  \\\n",
       "6  (ROSES REGENCY TEACUP AND SAUCER)  (GREEN REGENCY TEACUP AND SAUCER)   \n",
       "7  (GREEN REGENCY TEACUP AND SAUCER)  (ROSES REGENCY TEACUP AND SAUCER)   \n",
       "3       (BAKING SET SPACEBOY DESIGN)     (BAKING SET 9 PIECE RETROSPOT)   \n",
       "2     (BAKING SET 9 PIECE RETROSPOT)       (BAKING SET SPACEBOY DESIGN)   \n",
       "9            (HEART OF WICKER SMALL)            (HEART OF WICKER LARGE)   \n",
       "\n",
       "   antecedent support  consequent support  support  confidence  lift  \\\n",
       "6                0.03                0.03     0.02        0.64 23.40   \n",
       "7                0.03                0.03     0.02        0.78 23.40   \n",
       "3                0.03                0.05     0.02        0.73 15.05   \n",
       "2                0.05                0.03     0.02        0.50 15.05   \n",
       "9                0.05                0.03     0.02        0.44 14.71   \n",
       "\n",
       "   representativity  leverage  conviction  zhangs_metric  jaccard  certainty  \\\n",
       "6              1.00      0.02        2.68           0.99     0.54       0.63   \n",
       "7              1.00      0.02        4.35           0.98     0.54       0.77   \n",
       "3              1.00      0.02        3.49           0.97     0.42       0.71   \n",
       "2              1.00      0.02        1.93           0.98     0.42       0.48   \n",
       "9              1.00      0.02        1.75           0.99     0.40       0.43   \n",
       "\n",
       "   kulczynski  \n",
       "6        0.71  \n",
       "7        0.71  \n",
       "3        0.61  \n",
       "2        0.61  \n",
       "9        0.62  "
      ]
     },
     "execution_count": 78,
     "metadata": {},
     "output_type": "execute_result"
    }
   ],
   "source": [
    "from mlxtend.frequent_patterns import apriori, association_rules\n",
    "\n",
    "# Example: segment “111”\n",
    "basket_111 = (\n",
    "    df_rfm_trans[df_rfm_trans['RFM_Segment']=='111']\n",
    "      .groupby(['InvoiceNo','Description'])['Quantity']\n",
    "      .sum().unstack().fillna(0).applymap(lambda x: 1 if x>0 else 0)\n",
    ")\n",
    "\n",
    "freq_items = apriori(basket_111, min_support=0.02, use_colnames=True)\n",
    "rules = association_rules(freq_items, metric=\"lift\", min_threshold=1.2)\n",
    "rules.sort_values('lift', ascending=False).head()\n"
   ]
  },
  {
   "cell_type": "code",
   "execution_count": 79,
   "id": "e5ef5b9a-eeca-4bf7-9b46-84833328a524",
   "metadata": {},
   "outputs": [],
   "source": [
    "strong_rules = rules[\n",
    "    (rules['support'] >= 0.02) &\n",
    "    (rules['confidence'] >= 0.60) &\n",
    "    (rules['lift'] >= 1.5)\n",
    "].sort_values('lift', ascending=False)\n"
   ]
  },
  {
   "cell_type": "code",
   "execution_count": 80,
   "id": "b8db3345-4412-4b4e-aa6b-b1fe90c784f0",
   "metadata": {},
   "outputs": [
    {
     "data": {
      "text/html": [
       "<div>\n",
       "<style scoped>\n",
       "    .dataframe tbody tr th:only-of-type {\n",
       "        vertical-align: middle;\n",
       "    }\n",
       "\n",
       "    .dataframe tbody tr th {\n",
       "        vertical-align: top;\n",
       "    }\n",
       "\n",
       "    .dataframe thead th {\n",
       "        text-align: right;\n",
       "    }\n",
       "</style>\n",
       "<table border=\"1\" class=\"dataframe\">\n",
       "  <thead>\n",
       "    <tr style=\"text-align: right;\">\n",
       "      <th></th>\n",
       "      <th>Antecedent_Desc</th>\n",
       "      <th>Consequent_Desc</th>\n",
       "      <th>support</th>\n",
       "      <th>confidence</th>\n",
       "      <th>lift</th>\n",
       "    </tr>\n",
       "  </thead>\n",
       "  <tbody>\n",
       "    <tr>\n",
       "      <th>0</th>\n",
       "      <td>NaN</td>\n",
       "      <td>NaN</td>\n",
       "      <td>0.02</td>\n",
       "      <td>0.64</td>\n",
       "      <td>23.40</td>\n",
       "    </tr>\n",
       "    <tr>\n",
       "      <th>1</th>\n",
       "      <td>NaN</td>\n",
       "      <td>NaN</td>\n",
       "      <td>0.02</td>\n",
       "      <td>0.78</td>\n",
       "      <td>23.40</td>\n",
       "    </tr>\n",
       "    <tr>\n",
       "      <th>2</th>\n",
       "      <td>NaN</td>\n",
       "      <td>NaN</td>\n",
       "      <td>0.02</td>\n",
       "      <td>0.73</td>\n",
       "      <td>15.05</td>\n",
       "    </tr>\n",
       "    <tr>\n",
       "      <th>3</th>\n",
       "      <td>NaN</td>\n",
       "      <td>NaN</td>\n",
       "      <td>0.02</td>\n",
       "      <td>0.80</td>\n",
       "      <td>14.71</td>\n",
       "    </tr>\n",
       "    <tr>\n",
       "      <th>4</th>\n",
       "      <td>NaN</td>\n",
       "      <td>NaN</td>\n",
       "      <td>0.02</td>\n",
       "      <td>0.64</td>\n",
       "      <td>12.39</td>\n",
       "    </tr>\n",
       "    <tr>\n",
       "      <th>5</th>\n",
       "      <td>NaN</td>\n",
       "      <td>NaN</td>\n",
       "      <td>0.02</td>\n",
       "      <td>0.89</td>\n",
       "      <td>7.01</td>\n",
       "    </tr>\n",
       "  </tbody>\n",
       "</table>\n",
       "</div>"
      ],
      "text/plain": [
       "  Antecedent_Desc Consequent_Desc  support  confidence  lift\n",
       "0             NaN             NaN     0.02        0.64 23.40\n",
       "1             NaN             NaN     0.02        0.78 23.40\n",
       "2             NaN             NaN     0.02        0.73 15.05\n",
       "3             NaN             NaN     0.02        0.80 14.71\n",
       "4             NaN             NaN     0.02        0.64 12.39\n",
       "5             NaN             NaN     0.02        0.89  7.01"
      ]
     },
     "metadata": {},
     "output_type": "display_data"
    }
   ],
   "source": [
    "display_rules = (\n",
    "    strong_rules\n",
    "      .merge(products[['StockCode','Description','Category']],\n",
    "             left_on='antecedents', right_on='StockCode', how='left')\n",
    "      .rename(columns={'Description':'Antecedent_Desc','Category':'Antecedent_Cat'})\n",
    "      .merge(products[['StockCode','Description','Category']],\n",
    "             left_on='consequents', right_on='StockCode', how='left')\n",
    "      .rename(columns={'Description':'Consequent_Desc','Category':'Consequent_Cat'})\n",
    ")\n",
    "display(display_rules[['Antecedent_Desc','Consequent_Desc','support','confidence','lift']])\n"
   ]
  },
  {
   "cell_type": "code",
   "execution_count": 81,
   "id": "fb3a3a84-6e69-4089-8a8c-943bb6d412fe",
   "metadata": {},
   "outputs": [
    {
     "data": {
      "text/html": [
       "<div>\n",
       "<style scoped>\n",
       "    .dataframe tbody tr th:only-of-type {\n",
       "        vertical-align: middle;\n",
       "    }\n",
       "\n",
       "    .dataframe tbody tr th {\n",
       "        vertical-align: top;\n",
       "    }\n",
       "\n",
       "    .dataframe thead th {\n",
       "        text-align: right;\n",
       "    }\n",
       "</style>\n",
       "<table border=\"1\" class=\"dataframe\">\n",
       "  <thead>\n",
       "    <tr style=\"text-align: right;\">\n",
       "      <th></th>\n",
       "      <th>Recency</th>\n",
       "      <th>Frequency</th>\n",
       "      <th>Monetary</th>\n",
       "    </tr>\n",
       "  </thead>\n",
       "  <tbody>\n",
       "    <tr>\n",
       "      <th>count</th>\n",
       "      <td>4339.00</td>\n",
       "      <td>4339.00</td>\n",
       "      <td>4339.00</td>\n",
       "    </tr>\n",
       "    <tr>\n",
       "      <th>mean</th>\n",
       "      <td>92.52</td>\n",
       "      <td>4.60</td>\n",
       "      <td>2452.66</td>\n",
       "    </tr>\n",
       "    <tr>\n",
       "      <th>std</th>\n",
       "      <td>100.01</td>\n",
       "      <td>22.94</td>\n",
       "      <td>28086.06</td>\n",
       "    </tr>\n",
       "    <tr>\n",
       "      <th>min</th>\n",
       "      <td>1.00</td>\n",
       "      <td>1.00</td>\n",
       "      <td>3.75</td>\n",
       "    </tr>\n",
       "    <tr>\n",
       "      <th>25%</th>\n",
       "      <td>18.00</td>\n",
       "      <td>1.00</td>\n",
       "      <td>306.50</td>\n",
       "    </tr>\n",
       "    <tr>\n",
       "      <th>50%</th>\n",
       "      <td>51.00</td>\n",
       "      <td>2.00</td>\n",
       "      <td>668.58</td>\n",
       "    </tr>\n",
       "    <tr>\n",
       "      <th>75%</th>\n",
       "      <td>142.00</td>\n",
       "      <td>5.00</td>\n",
       "      <td>1660.89</td>\n",
       "    </tr>\n",
       "    <tr>\n",
       "      <th>max</th>\n",
       "      <td>374.00</td>\n",
       "      <td>1428.00</td>\n",
       "      <td>1754901.91</td>\n",
       "    </tr>\n",
       "  </tbody>\n",
       "</table>\n",
       "</div>"
      ],
      "text/plain": [
       "       Recency  Frequency   Monetary\n",
       "count  4339.00    4339.00    4339.00\n",
       "mean     92.52       4.60    2452.66\n",
       "std     100.01      22.94   28086.06\n",
       "min       1.00       1.00       3.75\n",
       "25%      18.00       1.00     306.50\n",
       "50%      51.00       2.00     668.58\n",
       "75%     142.00       5.00    1660.89\n",
       "max     374.00    1428.00 1754901.91"
      ]
     },
     "execution_count": 81,
     "metadata": {},
     "output_type": "execute_result"
    }
   ],
   "source": [
    "# Show overall recency, frequency, monetary stats\n",
    "rfm[['Recency','Frequency','Monetary']].describe().round(2)\n"
   ]
  },
  {
   "cell_type": "code",
   "execution_count": 82,
   "id": "640b0364-a932-4c5a-a6d7-46e0a11f02c8",
   "metadata": {},
   "outputs": [],
   "source": [
    "_, bin_edges = pd.qcut(\n",
    "    rfm['Frequency'],\n",
    "    q=4,\n",
    "    duplicates='drop',\n",
    "    retbins=True\n",
    ")\n",
    "\n",
    "n_bins = len(bin_edges) - 1\n",
    "labels = list(range(1, n_bins+1))\n",
    "\n",
    "rfm['F_Quartile'] = pd.qcut(\n",
    "    rfm['Frequency'],\n",
    "    q=4,\n",
    "    duplicates='drop',\n",
    "    labels=labels\n",
    ")\n"
   ]
  },
  {
   "cell_type": "code",
   "execution_count": 83,
   "id": "d7a09417-1007-4c77-87e3-4019d846142c",
   "metadata": {},
   "outputs": [],
   "source": [
    "# 1. Create a unique rank for ties\n",
    "rfm['Freq_Rank'] = rfm['Frequency'].rank(method='first')\n",
    "\n",
    "# 2. Quartile on the ranks—no duplicates possible now\n",
    "rfm['F_Quartile'] = pd.qcut(\n",
    "    rfm['Freq_Rank'],\n",
    "    q=4,\n",
    "    labels=[1,2,3,4]\n",
    ")\n"
   ]
  },
  {
   "cell_type": "code",
   "execution_count": 84,
   "id": "9b9dfd4c-2485-4b78-af26-45b52e699974",
   "metadata": {},
   "outputs": [],
   "source": [
    "# Recency: invert so that smaller days → higher rank\n",
    "rfm['Rec_Rank'] = rfm['Recency'].rank(method='first', ascending=False)\n",
    "rfm['R_Quartile'] = pd.qcut(rfm['Rec_Rank'], q=4, labels=[1,2,3,4])\n",
    "\n",
    "# Monetary\n",
    "rfm['Mon_Rank'] = rfm['Monetary'].rank(method='first')\n",
    "rfm['M_Quartile'] = pd.qcut(rfm['Mon_Rank'], q=4, labels=[1,2,3,4])\n"
   ]
  },
  {
   "cell_type": "code",
   "execution_count": 85,
   "id": "bb76e124-9894-4de9-a3fc-0dd52a6458c4",
   "metadata": {},
   "outputs": [
    {
     "name": "stdout",
     "output_type": "stream",
     "text": [
      "   RFM_Segment  Count  AvgRec  AvgFreq   AvgMon\n",
      "61         444    473    7.07    18.82 12971.97\n",
      "0          111    301  267.41     1.00   161.06\n",
      "45         344    225   29.92     9.37  5155.70\n",
      "4          121    186  255.90     1.25   179.87\n",
      "1          112    173  256.39     1.00   410.44\n",
      "41         333    163   30.24     3.35  1057.19\n",
      "26         233    158   86.85     3.28  1088.69\n",
      "16         211    147   86.17     1.00   175.30\n",
      "5          122    130  239.23     1.60   451.46\n",
      "56         433    128    9.24     3.54  1043.74\n"
     ]
    }
   ],
   "source": [
    "# Combine into a segment code and score\n",
    "rfm['RFM_Segment'] = (\n",
    "    rfm['R_Quartile'].astype(str)\n",
    "  + rfm['F_Quartile'].astype(str)\n",
    "  + rfm['M_Quartile'].astype(str)\n",
    ")\n",
    "rfm['RFM_Score'] = (\n",
    "    rfm[['R_Quartile','F_Quartile','M_Quartile']]\n",
    "    .astype(int)\n",
    "    .sum(axis=1)\n",
    ")\n",
    "\n",
    "# Summarize by segment\n",
    "segment_summary = (\n",
    "    rfm\n",
    "      .groupby('RFM_Segment')\n",
    "      .agg(\n",
    "        Count   = ('CustomerID','count'),\n",
    "        AvgRec  = ('Recency',   'mean'),\n",
    "        AvgFreq = ('Frequency', 'mean'),\n",
    "        AvgMon  = ('Monetary',  'mean')\n",
    "      )\n",
    "      .round(2)\n",
    "      .reset_index()\n",
    "      .sort_values('Count', ascending=False)\n",
    ")\n",
    "print(segment_summary.head(10))\n"
   ]
  },
  {
   "cell_type": "code",
   "execution_count": null,
   "id": "bc929785-9fb3-4bce-abb7-8f878c61d525",
   "metadata": {},
   "outputs": [],
   "source": []
  }
 ],
 "metadata": {
  "kernelspec": {
   "display_name": "Python [conda env:base] *",
   "language": "python",
   "name": "conda-base-py"
  },
  "language_info": {
   "codemirror_mode": {
    "name": "ipython",
    "version": 3
   },
   "file_extension": ".py",
   "mimetype": "text/x-python",
   "name": "python",
   "nbconvert_exporter": "python",
   "pygments_lexer": "ipython3",
   "version": "3.11.5"
  }
 },
 "nbformat": 4,
 "nbformat_minor": 5
}
